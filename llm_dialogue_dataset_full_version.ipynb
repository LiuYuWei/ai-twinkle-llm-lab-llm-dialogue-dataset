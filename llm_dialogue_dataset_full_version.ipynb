{
  "cells": [
    {
      "cell_type": "markdown",
      "metadata": {
        "id": "view-in-github",
        "colab_type": "text"
      },
      "source": [
        "<a href=\"https://colab.research.google.com/github/LiuYuWei/ai-twinkle-llm-lab-llm-dialogue-dataset/blob/main/llm_dialogue_dataset_full_version.ipynb\" target=\"_parent\"><img src=\"https://colab.research.google.com/assets/colab-badge.svg\" alt=\"Open In Colab\"/></a>"
      ]
    },
    {
      "cell_type": "markdown",
      "source": [
        "# 使用 API 建立對話式訓練資料集（Colab 實作）\n",
        "\n",
        "此 Colab 實作將會完整處理實作對話資料生成工作\n",
        "\n",
        "註明：本 Colab 是由 Simon Liu 根據 [Twinkle AI - 使用 Gemma-3-12B-it API 建立對話式訓練資料集（Colab 實作）](https://github.com/ai-twinkle/llm-lab/blob/main/courses/2025-08-llm-dialogue-dataset/00_setup_and_api_call.ipynb) 編修完成"
      ],
      "metadata": {
        "id": "2TLRvB-1RJrm"
      },
      "id": "2TLRvB-1RJrm"
    },
    {
      "cell_type": "markdown",
      "source": [
        "# I am Simon\n",
        "\n",
        "大家好，我是 Simon 劉育維，是一位 AI 領域解決方案專家，目前也擔任 Google GenAI 領域開發者專家 (GDE)，期待能夠幫助企業導入人工智慧相關技術解決問題。如果這篇文章對您有幫助，請在 Medium 上按一下鼓勵，並追蹤我的個人帳號，這樣您就可以隨時閱讀我所撰寫的文章。歡迎在我的 Linkedin 上留言提供意見，並與我一起討論有關人工智慧的主題，期待能夠對大家有所幫助！"
      ],
      "metadata": {
        "id": "QjRAgnGbT76D"
      },
      "id": "QjRAgnGbT76D"
    },
    {
      "cell_type": "markdown",
      "id": "4df8ae2d-0c56-48f2-bef6-d7798800bfd5",
      "metadata": {
        "id": "4df8ae2d-0c56-48f2-bef6-d7798800bfd5"
      },
      "source": [
        "## 1 對話資料生成 & 對話集格式介紹\n",
        "\n",
        "在這個章節，目標是建立一份「可持續擴充」的對話資料集。主要的步驟如下：\n",
        "\n",
        "1. 使用 OpenAI SDK 連 API\n",
        "2. 介紹對話資料的常見格式：**Alpaca**, **ShareGPT**，以及 **OpenAI** 格式（我們採用後者）\n",
        "3. 探討 `.jsonl` 格式與 `.parquet` 格式的優缺點，並說明 HF Hub 對 parquet 的轉換支援\n",
        "   (上傳 parquet 時 HF 會自動生成 `.parquet` 分支與 viewer)"
      ]
    },
    {
      "cell_type": "markdown",
      "source": [
        "### 1.1 初始化 OpenAI API 環境參數"
      ],
      "metadata": {
        "id": "Cp6NGO-N6IpY"
      },
      "id": "Cp6NGO-N6IpY"
    },
    {
      "cell_type": "code",
      "source": [
        "# 取得 Colab 金鑰環境變數\n",
        "\n",
        "from google.colab import userdata"
      ],
      "metadata": {
        "id": "MpqGewAZCGJi"
      },
      "id": "MpqGewAZCGJi",
      "execution_count": 1,
      "outputs": []
    },
    {
      "cell_type": "code",
      "source": [
        "# 初始化 OpenAI 套件設定\n",
        "# @markdown 請設定以下 OpenAI Compatible 的變數數值\n",
        "\n",
        "\n",
        "from openai import OpenAI\n",
        "\n",
        "# 請去申請 Google API Key ，然後放在 Colab 左邊側邊欄，「鑰匙」的地方，保護你的 Key\n",
        "API_KEY = userdata.get('GOOGLE_API_KEY') #@param {type:\"string\"}\n",
        "BASE_URL = \"https://generativelanguage.googleapis.com/v1beta/openai/\" #@param {type:\"string\"}\n",
        "MODEL = \"gemini-2.0-flash\" #@param {type:\"string\"}\n",
        "\n",
        "client = OpenAI(\n",
        "    api_key=API_KEY,\n",
        "    base_url=BASE_URL\n",
        ")\n",
        "\n",
        "print(\"API client 已初始化\")"
      ],
      "metadata": {
        "colab": {
          "base_uri": "https://localhost:8080/"
        },
        "id": "CoHUqXvH299O",
        "outputId": "b3de8d22-ec1c-4e7a-f70d-095f8346af1d"
      },
      "id": "CoHUqXvH299O",
      "execution_count": 2,
      "outputs": [
        {
          "output_type": "stream",
          "name": "stdout",
          "text": [
            "API client 已初始化\n"
          ]
        }
      ]
    },
    {
      "cell_type": "code",
      "source": [
        "# 測試 OpenAI 套件設定\n",
        "\n",
        "try:\n",
        "    resp = client.chat.completions.create(\n",
        "        model=MODEL,\n",
        "        messages=[\n",
        "            {\"role\": \"system\", \"content\": \"你是專業的助理，使用繁體中文回答。\"},\n",
        "            {\"role\": \"user\", \"content\": \"請用一句話介紹什麼是大型語言模型（LLM）。\"}\n",
        "        ],\n",
        "        temperature=0.7,\n",
        "        max_tokens=256,\n",
        "    )\n",
        "    print(\"✅ 呼叫成功\")\n",
        "except Exception as e:\n",
        "    print(\"❌ 呼叫失敗，請檢查 API Key / base_url / 模型名稱是否正確。\")\n",
        "    raise e\n",
        "\n",
        "if resp.choices:\n",
        "    print(\"=== Model Output ===\")\n",
        "    print(resp.choices[0].message.content)\n",
        "else:\n",
        "    import json\n",
        "    print(\"⚠️ 非預期回傳格式：\")\n",
        "    print(json.dumps(resp.model_dump(), ensure_ascii=False, indent=2))"
      ],
      "metadata": {
        "colab": {
          "base_uri": "https://localhost:8080/"
        },
        "id": "ZSGiTu4BS1MF",
        "outputId": "2fb7563e-af7e-4e37-ef30-d84e43a9dd0d"
      },
      "id": "ZSGiTu4BS1MF",
      "execution_count": 3,
      "outputs": [
        {
          "output_type": "stream",
          "name": "stdout",
          "text": [
            "✅ 呼叫成功\n",
            "=== Model Output ===\n",
            "大型語言模型 (LLM) 是一種經過大量文本數據訓練的人工智慧模型，能夠理解、生成和預測人類語言。\n",
            "\n"
          ]
        }
      ]
    },
    {
      "cell_type": "markdown",
      "id": "5ffa29ba-2e60-4041-a21f-c8f328f61304",
      "metadata": {
        "id": "5ffa29ba-2e60-4041-a21f-c8f328f61304"
      },
      "source": [
        "### 1.2 常見對話資料集格式比較\n",
        "\n"
      ]
    },
    {
      "cell_type": "markdown",
      "id": "241fddab-ede4-4d95-86b7-569bee685087",
      "metadata": {
        "id": "241fddab-ede4-4d95-86b7-569bee685087"
      },
      "source": [
        "<p align=\"center\">\n",
        "  <img src=\"https://github.com/ai-twinkle/llm-lab/blob/main/courses/2025-08-llm-dialogue-dataset/assets/01_wiki_data_format.png?raw=1\" width=\"100%\"/><br/>\n",
        "  <em align=\"center\">圖 1：Wiki 對話格式示意圖</em>\n",
        "</p>"
      ]
    },
    {
      "cell_type": "markdown",
      "id": "cd084c2b-1741-4a4d-8932-5e6dfdfafcfa",
      "metadata": {
        "id": "cd084c2b-1741-4a4d-8932-5e6dfdfafcfa"
      },
      "source": [
        "### 1.3 JSONL vs Parquet 比較\n",
        "\n",
        "| 格式     | 優點                          | 缺點                         |\n",
        "|----------|-------------------------------|------------------------------|\n",
        "| `.jsonl` | 易讀、輕量、開發友善              | 檔案大、大量數據讀取效率較低   |\n",
        "| `.parquet` | 壓縮效果好、查詢效能高、支援 HF 轉換 | 不易直接閱讀，需使用工具處理   |\n",
        "\n",
        "注意：即使你上傳 `.jsonl`，HF Hub 也可能幫你生成 `.parquet` 分支，方便瀏覽與載入。"
      ]
    },
    {
      "cell_type": "markdown",
      "id": "e0a123e6-20c2-41d3-a235-7cfc8974c969",
      "metadata": {
        "id": "e0a123e6-20c2-41d3-a235-7cfc8974c969"
      },
      "source": [
        "<p align=\"center\">\n",
        "  <img src=\"https://github.com/ai-twinkle/llm-lab/blob/main/courses/2025-08-llm-dialogue-dataset/assets/01_hf_parquet_branch.png?raw=1\" width=\"100%\"/><br/>\n",
        "  <em>圖 2：HF Hub 自動生成的 .parquet 分支</em>\n",
        "</p>"
      ]
    },
    {
      "cell_type": "markdown",
      "id": "911efc9a-b8b9-4b28-92d8-c6d405ce31e3",
      "metadata": {
        "id": "911efc9a-b8b9-4b28-92d8-c6d405ce31e3"
      },
      "source": [
        "### 1.4 Reference-Free vs Reference-Based\n",
        "\n",
        "- **Reference-Free（無參考）**：用一些 seed prompt 引導模型生成。最早出自 [Self-Instruct: Aligning Language Models with Self-Generated Instructions\n",
        "](https://arxiv.org/abs/2212.10560)。\n",
        "- **Reference-Based（參考內容）**：使用真實資料片段（例如 Wiki 條目）作 prompt 佐料，讓生成內容更 grounded。"
      ]
    },
    {
      "cell_type": "markdown",
      "id": "582b3052-568d-4ab3-aa56-cc5fe2c942ab",
      "metadata": {
        "id": "582b3052-568d-4ab3-aa56-cc5fe2c942ab"
      },
      "source": [
        "#### 1.4.1 Reference-Free 實作\n",
        "\n",
        "在 Reference-Free 的情境下，我們並不依賴任何外部知識庫或文件，而是透過 **seed 任務 (seed task)** 來驅動模型自行生成資料。  \n",
        "這些 seed 任務通常包含一個 **instruction（指令）**，加上少量的 **instance（範例輸入/輸出對）**，作為模型模仿與延伸的起點。  \n",
        "\n",
        "這種方法的代表性工作是 *Self-Instruct*，它透過人工設計的一些高品質種子指令，讓模型去「舉一反三」產生更多指令和對應答案，最終建立出龐大的資料集。\n",
        "\n",
        "以下是一個取自 [self-instruct](https://github.com/yizhongw/self-instruct/blob/main/data/seed_tasks.jsonl) seed 範例，主題是「早餐建議」。  \n",
        "\n",
        "```json\n",
        "{\n",
        "  \"id\": \"seed_task_0\",\n",
        "  \"name\": \"breakfast_suggestion\",\n",
        "  \"instruction\": \"Is there anything I can eat for a breakfast that doesn't include eggs, yet includes protein, and has roughly 700-1000 calories?\",\n",
        "  \"instances\": [\n",
        "    {\n",
        "      \"input\": \"\",\n",
        "      \"output\": \"Yes, you can have 1 oatmeal banana protein shake and 4 strips of bacon. The oatmeal banana protein shake may contain 1/2 cup oatmeal, 60 grams whey protein powder, 1/2 medium banana, 1 tbsp flaxseed oil and 1/2 cup water, totaling about 550 calories. The 4 strips of bacon contains about 200 calories.\"\n",
        "    }\n",
        "  ],\n",
        "  \"is_classification\": false\n",
        "}\n",
        "```\n",
        "說明：\n",
        "- id：任務的唯一識別碼。\n",
        "- name：任務名稱，方便辨識。\n",
        "- instruction：給模型的主要問題或指令。\n",
        "- instances：包含輸入/輸出對，本例中 input 為空，代表模型直接依 instruction 回答；output 是一個可能的解答。\n",
        "- is_classification：標記此任務是否為分類型問題（此例為否）。"
      ]
    },
    {
      "cell_type": "markdown",
      "id": "52128cae-647b-43da-913d-04aed64fc783",
      "metadata": {
        "id": "52128cae-647b-43da-913d-04aed64fc783"
      },
      "source": [
        "在實務中，我們會設計數十到數百個 seed 任務，涵蓋不同領域與指令型態，作為 Reference-Free 資料生成的核心基礎。\n",
        "\n",
        "不過，我們的作法並**不完全等同於 Self-Instruct**。\n",
        "相較於 Self-Instruct 的完整 pipeline（如：過濾、去重、迭代擴展），我們傾向採用更簡單直接的方式：\n",
        "\t1.\t人工撰寫少量高品質 seed 指令。\n",
        "\t2.\t要求模型基於這些 seed 產生新的 seed 指令（但僅限輸出 seed 本文，避免雜訊）。\n",
        "\t3.\t再利用這些新 seed 指令，由模型生成單輪問答配對。\n",
        "\n",
        "這樣的流程更輕量，雖然缺少複雜的篩選與多輪迭代，但對於課程實作與教學目標而言，已經能清楚展現 Reference-Free 的核心精神。"
      ]
    },
    {
      "cell_type": "code",
      "source": [
        "base_seed = \"\"\"Is there anything I can eat for a breakfast that doesn't include eggs, yet includes protein, and has roughly 700-1000 calories?\"\"\""
      ],
      "metadata": {
        "id": "Zhfi1rGdVo7i"
      },
      "id": "Zhfi1rGdVo7i",
      "execution_count": 4,
      "outputs": []
    },
    {
      "cell_type": "code",
      "execution_count": 5,
      "id": "727cbf67-aca6-4e63-854f-d08a889ea711",
      "metadata": {
        "colab": {
          "base_uri": "https://localhost:8080/"
        },
        "id": "727cbf67-aca6-4e63-854f-d08a889ea711",
        "outputId": "82e43e30-b32d-4ac9-c9b8-bf36d066d007"
      },
      "outputs": [
        {
          "output_type": "stream",
          "name": "stdout",
          "text": [
            "🔹 原始 seed： Is there anything I can eat for a breakfast that doesn't include eggs, yet includes protein, and has roughly 700-1000 calories?\n",
            "🔸 新的 seed： 推薦一份不含乳製品、高纖且富含健康脂肪的午餐食譜，熱量約 500 大卡。\n"
          ]
        }
      ],
      "source": [
        "# Step 1: 以既有 seed 為出發點，要求 LLM 產生「不同但相關」的新 seed。\n",
        "# 重要：嚴格要求只輸出 seed 文字本身，不要任何多餘說明、標籤或引號。\n",
        "\n",
        "from openai import OpenAI\n",
        "import re\n",
        "\n",
        "seed_gen_messages = [\n",
        "    {\n",
        "        \"role\": \"system\",\n",
        "        \"content\": (\n",
        "            \"你是一個資料生成器。你的任務是『根據給定 seed，產生一則不同但主題相關的 seed 指令』。\\n\"\n",
        "            \"務必遵守：\\n\"\n",
        "            \"1) 僅輸出新的 seed 指令本身（繁體中文）。\\n\"\n",
        "            \"2) 不要加任何解釋、前後文、引號、標點裝飾或標籤。\\n\"\n",
        "            \"3) 一至兩句話，清楚可執行。\\n\"\n",
        "            \"4) 避免重複與原 seed 完全相同的限制條件或措辭，但主題需相關。\\n\"\n",
        "        )\n",
        "    },\n",
        "    {\n",
        "        \"role\": \"user\",\n",
        "        \"content\": (\n",
        "            f\"這是原始 seed：\\n{base_seed}\\n\\n\"\n",
        "            \"請依規則產生一個新的 seed 指令（繁體中文）。只輸出新 seed 本文，其他一律不要。\"\n",
        "        )\n",
        "    },\n",
        "]\n",
        "\n",
        "resp_seed = client.chat.completions.create(\n",
        "    model=MODEL,\n",
        "    messages=seed_gen_messages,\n",
        "    temperature=0.9,\n",
        "    max_tokens=200,\n",
        ")\n",
        "\n",
        "new_seed_instruction_raw = resp_seed.choices[0].message.content.strip()\n",
        "\n",
        "# 基本清理：移除常見多餘字樣（保險）\n",
        "def sanitize_seed(text: str) -> str:\n",
        "    text = text.strip()\n",
        "    # 移除可能的程式碼圍欄或引號\n",
        "    text = re.sub(r\"^```.*?\\n|\\n```$\", \"\", text, flags=re.DOTALL)  # 去掉 ``` 區塊\n",
        "    text = text.strip(\"「」\\\"'` \\n\\t\")\n",
        "    # 去掉可能的前綴\n",
        "    text = re.sub(r\"^(新的?seed指令[:：]\\s*|seed[:：]\\s*|新指令[:：]\\s*)\", \"\", text, flags=re.IGNORECASE)\n",
        "    return text.strip()\n",
        "\n",
        "new_seed_instruction = sanitize_seed(new_seed_instruction_raw)\n",
        "\n",
        "print(\"🔹 原始 seed：\", base_seed)\n",
        "print(\"🔸 新的 seed：\", new_seed_instruction)"
      ]
    },
    {
      "cell_type": "code",
      "execution_count": 6,
      "id": "93ef39f8-4d25-4404-bcc4-59c4da85a9a9",
      "metadata": {
        "colab": {
          "base_uri": "https://localhost:8080/"
        },
        "id": "93ef39f8-4d25-4404-bcc4-59c4da85a9a9",
        "outputId": "3c622424-7d24-4484-96e0-ecfc1d3fdbd0"
      },
      "outputs": [
        {
          "output_type": "stream",
          "name": "stdout",
          "text": [
            "✅ 已生成單輪 QA 並寫入： outputs/datasets.jsonl\n",
            "\n",
            "=== 回答預覽 ===\n",
            " 好的，這是一份不含乳製品、高纖且富含健康脂肪，熱量約 500 大卡的午餐食譜，並提供詳細的說明和建議，讓你輕鬆準備：\n",
            "\n",
            "**午餐食譜：酪梨藜麥沙拉佐烤鮭魚**\n",
            "\n",
            "**熱量估算：** 約 480-520 大卡 (依食材份量微調)\n",
            "\n",
            "**食材：**\n",
            "\n",
            "*   **烤鮭魚 (約 120 克):** 提供優質蛋白質和 Omega-3 脂肪酸 (約 200 大卡)\n",
            "    *   鮭魚片：120 克\n",
            "    *   橄欖油：1 茶匙\n",
            "    *   鹽：少許\n",
            "    *   黑胡椒：少許\n",
            "    *   檸檬汁：少許 (可選)\n",
            "*   **藜麥 (煮熟後約 1 杯):** 提供豐富纖維和植物性蛋白質 (約 220 大卡)\n",
            "    *   乾燥藜麥：1/2 杯\n",
            "    *   水：1 杯\n",
            "*   **酪梨 (1/4 個):** 提供健康脂肪和纖維 (約 80 大卡)\n",
            "*   **蔬菜 (總量約 1 杯):** 提供纖維、維生素和礦物質 (約 20 大卡)\n",
            "    *   小黃瓜：1/4 根 (切丁)\n",
            "    *   紅蘿蔔：1/4 根 (切丁)\n",
            "    *   甜椒 (任何顏色)：1/4 個 (切丁)\n",
            "    *   芝麻葉或其他綠葉蔬菜：適量\n",
            "*   **堅果和種子 (約 1 湯匙):** 提供健康脂肪和礦物質 (約 50 大卡)\n",
            "    *   南瓜籽、葵花籽或杏仁片：1 湯匙 (混合或單選)\n",
            "*   **醬汁:**\n",
            "    *   檸檬汁：1 湯匙\n",
            "    *   橄欖油：1 茶匙\n",
            "    *   第戎芥末：1/2 茶匙 (可選)\n",
            "    *   鹽：少許\n",
            "    *   黑胡椒：少許\n",
            "\n",
            "**烹飪步驟：**\n",
            "\n",
            "1.  **準備藜麥:**\n",
            "    *   將藜麥用清水沖洗乾淨。\n",
            "    *   將藜麥和水放入鍋中煮沸，然後轉小火煮約 15 分鐘，或直到藜麥煮熟且水分被吸收。\n",
            "   \n"
          ]
        }
      ],
      "source": [
        "# Step 2: 以「新的 seed 指令」當作 user 提問，生成單輪回答（assistant 一次回覆）。\n",
        "# 產出為 OpenAI messages 格式，可直接累積進 datasets.jsonl。\n",
        "\n",
        "import json\n",
        "from uuid import uuid4\n",
        "from pathlib import Path\n",
        "\n",
        "qa_messages = [\n",
        "    {\"role\": \"system\", \"content\": \"你是一位營養與飲食規劃的專家，請使用繁體中文，給出明確、可執行的建議。\"},\n",
        "    {\"role\": \"user\", \"content\": new_seed_instruction},\n",
        "]\n",
        "\n",
        "resp_qa = client.chat.completions.create(\n",
        "    model=MODEL,\n",
        "    messages=qa_messages,\n",
        "    temperature=0.7,\n",
        "    max_tokens=600,\n",
        ")\n",
        "\n",
        "answer = resp_qa.choices[0].message.content\n",
        "\n",
        "example = {\n",
        "    \"id\": str(uuid4()),\n",
        "    \"type\": \"reference_free\",\n",
        "    \"seed\": new_seed_instruction,\n",
        "    \"messages\": [\n",
        "        qa_messages[0],                 # system\n",
        "        qa_messages[1],                 # user（新的 seed）\n",
        "        {\"role\": \"assistant\", \"content\": answer},  # 單輪回答\n",
        "    ]\n",
        "}\n",
        "\n",
        "# ✅ 可選：追加寫入 datasets.jsonl（供下一章節 QC 使用）\n",
        "out_path = Path(\"outputs/datasets.jsonl\")\n",
        "out_path.parent.mkdir(parents=True, exist_ok=True)\n",
        "with out_path.open(\"a\", encoding=\"utf-8\") as f:\n",
        "    f.write(json.dumps(example, ensure_ascii=False) + \"\\n\")\n",
        "\n",
        "print(\"✅ 已生成單輪 QA 並寫入：\", out_path)\n",
        "print(\"\\n=== 回答預覽 ===\\n\", answer[:800])"
      ]
    },
    {
      "cell_type": "markdown",
      "id": "60cc5f17-dc9f-400b-9a1b-94f7975ac569",
      "metadata": {
        "id": "60cc5f17-dc9f-400b-9a1b-94f7975ac569"
      },
      "source": [
        "#### 1.4.2 Reference-based 資料生成\n",
        "\n",
        "在 Reference-based 的情境下，我們會使用一段外部文本作為依據，並在其上生成問答資料。\n",
        "這種方式常見於知識型 QA 系統（例如 Wikipedia 問答），其核心原則是：\n",
        "- 問題（Question）必須來自於文本\n",
        "- 答案（Answer）必須完全依照文本，不可超出文本範圍\n",
        "\n",
        "這樣生成的資料，可以幫助模型學會「根據參考內容回答」，而非憑空想像。"
      ]
    },
    {
      "cell_type": "code",
      "source": [
        "article_context = \"\"\"\n",
        "[ 開源模型 ] Google Gemma 3 270M 介紹\n",
        "Simon Liu\n",
        "\n",
        "[ 開源模型 ] Google Gemma 3 270M\n",
        "Google 官方部落格介紹：連結\n",
        "\n",
        "Gemma 3 270M 是 Google DeepMind 於 2025 年 8 月正式推出的一款極致輕量化、大幅降低運算成本的開源語言模型。其設計理念側重於高能效、可在邊緣設備上直接運行 (on-device)，並且能迅速完成特定任務的微調 (fine-tuning)，以達到成本效益最佳化。\n",
        "\n",
        "I. 核心技術特點與差異化優勢\n",
        "1. 模型規模與架構設計\n",
        "總參數量為 2.7 億個參數，其中約 1.7 億個參數是 embedding 層權重，剩下則是 transformer 模組，屬於 Gemma 3 家族中的最小版本，採用 decoder‐only Transformer 架構。\n",
        "\n",
        "2. 能源效率極佳\n",
        "透過 INT4 量化後，根據官方的說法，在 Pixel 9 Pro SoC 上進行 25 次對話測試僅消耗 0.75% 電量，展現出極低耗電特性。\n",
        "\n",
        "3. 出色的 instruction-following 能力\n",
        "即使在未經複雜調校下，依然具備強大的「依指令執行」能力，於 IFEval 基準測試中，Gemma 3 270M 取得約 51.2% 的分數，超越多數更大模型。\n",
        "\n",
        "4. 支援量化自覺訓練 (QAT)，便於部署\n",
        "提供可用於 INT4 推論的 QAT 檢查點，確保在極度壓縮下仍維持足夠性能，適合資源受限的執行環境。\n",
        "\n",
        "\n",
        "實際在 Samsung S24 Plus 測試 Google Gemma 3 270M INT8 實測結果，手機離線運算速度表現真的很漂亮，知識能力就不為難他了，或許可以 Fine-Tune 成文字對分類的AI模型\n",
        "應用場景與部署策略\n",
        "適用任務類型\n",
        "適合高頻、明確定義片段任務，例如：情緒分析 (sentiment analysis)、實體擷取 (entity extraction)、查詢 (query routing)、結構化文本生成、創意寫作、遵從性檢查等。\n",
        "\n",
        "快速微調與部署\n",
        "模型尺寸小，可在數小時內完成 fine‑tuning，極速部署原型，且可在輕量基礎設施或裝置端運行，提高開發效率並降低成本。\n",
        "\n",
        "隱私與使用者控制\n",
        "可完全本地化部署，避免資料往返雲端，提升敏感資料保護及隱私控制。\n",
        "\n",
        "建構專責微模型 (fleet of specialized models)\n",
        "利用其小巧、效率高的特性，可同時維運多個專門優化的任務模型，實現模組化、效能優化與成本最小化。\n",
        "\n",
        "比較分析與風險考量\n",
        "成本效益 VS 通用能力\n",
        "相較大模型，其推論成本與能耗極低；但在通用性、複雜對話或生成能力方面仍有限制，應視任務選擇。\n",
        "\n",
        "推論性能 VS 訓練性能\n",
        "雖然適合地端部署和快速微調，蛋 Google Gemma 的 Fine-Tuning 仍會建議在 GPU 或者 TPU 上的完成，並非本地端的設備進行處理。\n",
        "\n",
        "結論\n",
        "Gemma 3 270M 是典型的在資源受限環境中，以最低成本、最快部署速度能夠完成高效能任務，兼顧能效與靈活性。適用於邊緣部署、快速開發與特定功能場景，如客服分類、自動標註與本地化創意應用。\n",
        "\n",
        "若企業目標是打造輕量、可擴展且具隱私保障 Edge 端的 AI 解決方案，Gemma 3 270M 是值得納入模型庫的優選選項。\n",
        "\"\"\""
      ],
      "metadata": {
        "id": "XKPF6HVH7sLk"
      },
      "id": "XKPF6HVH7sLk",
      "execution_count": 7,
      "outputs": []
    },
    {
      "cell_type": "code",
      "source": [
        "# @markdown 請設定以下 想產生幾組 QA  的變數數值\n",
        "\n",
        "NUM_QA = 10  # @param {type:\"string\"}"
      ],
      "metadata": {
        "id": "nPnLQcxDpLhu"
      },
      "id": "nPnLQcxDpLhu",
      "execution_count": 8,
      "outputs": []
    },
    {
      "cell_type": "code",
      "execution_count": 9,
      "id": "b98dab6b-5a35-4ef2-9cd5-638988ee81a6",
      "metadata": {
        "id": "b98dab6b-5a35-4ef2-9cd5-638988ee81a6"
      },
      "outputs": [],
      "source": [
        "# ==== 產生「只有問題」→ 再逐題回答（Reference-based）====\n",
        "import json, re\n",
        "from typing import List\n",
        "from uuid import uuid4\n",
        "from pathlib import Path\n",
        "\n",
        "# ---------- (A) 用 Structured Outputs 產生「問題清單」 ----------\n",
        "# 參考：OpenAI Structured Outputs / responses.parse（若端點不支援，會自動 fallback）\n",
        "# Docs: platform.openai.com/docs/guides/structured-outputs & responses.parse\n",
        "from pydantic import BaseModel, Field, conlist\n",
        "\n",
        "class QuestionItem(BaseModel):\n",
        "    question: str = Field(..., min_length=4, description=\"依據給定文本可直接回答的問題（繁體中文）\")\n",
        "\n",
        "class QuestionList(BaseModel):\n",
        "    items: List[QuestionItem]\n",
        "\n",
        "def generate_questions_from_context(context: str, n_pairs: int = 4) -> List[str]:\n",
        "    sys_rules = (\n",
        "        \"你是資料標註助理，請使用繁體中文設計問題。\\n\"\n",
        "        f\"請產生 {n_pairs} 題問題，不要提供答案。\\n\"\n",
        "        \"原則：\\n\"\n",
        "        \"1) 問題必須可由【文本】直接回答，或能忠實改寫自其中資訊。\\n\"\n",
        "        \"2) 禁止加入【文本】以外的知識。\\n\"\n",
        "        \"3) 問題要清楚、具體，答案可在 1–2 句內表達。\\n\"\n",
        "        \"4) 若【文本】不足以支撐問題，請產生需要使用者進一步釐清的問題（單一句）。\\n\"\n",
        "        \"5) 問題要自然，不要暴露有任何【文本】或外部資料存在。\\n\"\n",
        "        \"6) 只輸出 JSON，格式固定為：{\\\"items\\\":[{\\\"question\\\":\\\"...\\\"}, ...]}。\"\n",
        "    )\n",
        "    user_rules = (\n",
        "        \"請根據以下【文本】設計問題：\\n\\n\"\n",
        "        f\"{context}\\n\\n\"\n",
        "        \"⚠️ 僅輸出 JSON，格式：{\\\"items\\\":[{\\\"question\\\":\\\"...\\\"}, ...]}，\"\n",
        "        \"不得有額外說明/Markdown/前後綴。\"\n",
        "    )\n",
        "\n",
        "    # ---- 路徑 1：responses.parse（支援時最穩定）----\n",
        "    try:\n",
        "        parsed = client.beta.chat.completions.parse(\n",
        "            model=MODEL,\n",
        "            messages=[{\"role\": \"system\", \"content\": sys_rules},\n",
        "                   {\"role\": \"user\", \"content\": user_rules}],\n",
        "            response_format=QuestionList,   # 注意：這裡是一個 Pydantic Model class\n",
        "        )\n",
        "        # 取得結構化結果（關鍵）\n",
        "        items = parsed.choices[0].message.parsed.items\n",
        "        questions = [it.question.strip() for it in items if it.question.strip()]\n",
        "        return questions[:n_pairs]\n",
        "\n",
        "    except Exception:\n",
        "        # ---- 路徑 2：Chat Completions + JSON（相容端常用）----\n",
        "        fallback_sys = (\n",
        "            \"你是資料標註助理。請只輸出 JSON，不要任何解釋或 Markdown。\\n\"\n",
        "            '格式：[{\"question\":\"...\"}, {\"question\":\"...\"}]'\n",
        "        )\n",
        "        fallback_user = (\n",
        "            f\"{sys_rules}\\n\\n\"\n",
        "            \"請輸出 JSON 陣列，每個物件僅含 question 欄位。\\n\\n\"\n",
        "            f\"【文本】\\n{context}\"\n",
        "        )\n",
        "        resp = client.chat.completions.create(\n",
        "            model=MODEL,\n",
        "            messages=[{\"role\": \"system\", \"content\": fallback_sys},\n",
        "                      {\"role\": \"user\", \"content\": fallback_user}],\n",
        "            # 部分代理不支援 JSON mode；若報錯就移除此參數\n",
        "            response_format={\"type\": \"json_object\"},\n",
        "            temperature=0.2,\n",
        "            max_tokens=800,\n",
        "        )\n",
        "        raw = resp.choices[0].message.content.strip()\n",
        "        txt = re.sub(r\"^```json\\s*|\\s*```$\", \"\", raw, flags=re.IGNORECASE).strip()\n",
        "        data = json.loads(txt)\n",
        "\n",
        "        # 接受 [{\"question\": \"...\"}] 或 {\"items\":[...]}\n",
        "        items = data.get(\"items\") if isinstance(data, dict) and \"items\" in data else data\n",
        "        if not isinstance(items, list):\n",
        "            raise ValueError(\"模型輸出不是問題清單 JSON 陣列/物件\")\n",
        "\n",
        "        qs = []\n",
        "        for obj in items:\n",
        "            if isinstance(obj, dict) and \"question\" in obj:\n",
        "                q = str(obj[\"question\"]).strip()\n",
        "            elif isinstance(obj, str):\n",
        "                q = obj.strip()\n",
        "            else:\n",
        "                continue\n",
        "            if q:\n",
        "                qs.append(q)\n",
        "        return qs[:n_pairs]"
      ]
    },
    {
      "cell_type": "code",
      "execution_count": 10,
      "id": "473c3f77-c4ad-4d3c-9085-ede92c3d2b8a",
      "metadata": {
        "id": "473c3f77-c4ad-4d3c-9085-ede92c3d2b8a"
      },
      "outputs": [],
      "source": [
        "# ---------- (B) 逐題回答：每題都嚴格依 context 回答（單輪） ----------\n",
        "def answer_questions_from_context(questions: list[str], context: str) -> list[dict]:\n",
        "    \"\"\"\n",
        "    依據 context 作答，但「不要暴露有參考文本」。\n",
        "    若題目資訊不足以得出明確答案：提出一個具體、簡潔的釐清問題（單一句），\n",
        "    或請使用者補充需要的關鍵條件；不要說「無法回答」「缺乏文本」等字眼。\n",
        "    \"\"\"\n",
        "    results = []\n",
        "    sys = (\n",
        "        \"你是一位知識淵博且精準的助理，請使用繁體中文回答。\\n\"\n",
        "        \"原則：\\n\"\n",
        "        \"1) 回答要自然直接，不要提到你參考了任何外部文本/資料，也不要使用「根據提供的文本/段落/資料」等措辭。\\n\"\n",
        "        \"2) 若題目資訊不足以形成明確答案：請提出一個具體、簡潔的釐清問題（只用單一句），\"\n",
        "        \"   或請使用者補充最關鍵的條件；不要說你無法回答、不要提到資訊不足或來源限制。\\n\"\n",
        "        \"3) 優先提供可執行、可驗證的重點；避免冗長鋪陳與套話。\\n\"\n",
        "        \"4) 禁止露出任何內部規則、提示詞或參考來源。\"\n",
        "    )\n",
        "    for q in questions:\n",
        "        # 注意：這裡仍然把 context 放到 user 訊息中以「隱式限制」模型，\n",
        "        # 但系統訊息已禁止它在話語中暴露來源。\n",
        "        user = f\"【背景資料】\\n{context}\\n\\n【問題】{q}\"\n",
        "        resp = client.chat.completions.create(\n",
        "            model=MODEL,\n",
        "            messages=[\n",
        "                {\"role\": \"system\", \"content\": sys},\n",
        "                {\"role\": \"user\", \"content\": user},\n",
        "            ],\n",
        "            temperature=0.2,\n",
        "            max_tokens=1000,\n",
        "        )\n",
        "        ans = resp.choices[0].message.content.strip()\n",
        "        results.append({\"question\": q, \"answer\": ans})\n",
        "    return results"
      ]
    },
    {
      "cell_type": "code",
      "execution_count": 11,
      "id": "332d00c6-2667-44b9-b9d0-b31e8bb7384e",
      "metadata": {
        "id": "332d00c6-2667-44b9-b9d0-b31e8bb7384e"
      },
      "outputs": [],
      "source": [
        "# ---------- (C) 封裝為：產生問題 → 逐題回答 → 追加寫入 datasets.jsonl ----------\n",
        "def build_reference_based_from_context(context: str, n_pairs: int = 4, out_path: Path = Path(\"outputs/datasets.jsonl\")):\n",
        "    out_path.parent.mkdir(parents=True, exist_ok=True)\n",
        "\n",
        "    qs = generate_questions_from_context(context, n_pairs=n_pairs)\n",
        "    qa_list = answer_questions_from_context(qs, context)\n",
        "\n",
        "    wrote = 0\n",
        "    with out_path.open(\"a\", encoding=\"utf-8\") as f:\n",
        "        for qa in qa_list:\n",
        "            rec = {\n",
        "                \"id\": str(uuid4()),\n",
        "                \"type\": \"reference_based\",\n",
        "                \"seed\": context,\n",
        "                \"context\": context,  # 保留 context 供審核/教學；若不需要可移除\n",
        "                \"messages\": [\n",
        "                    {\"role\": \"system\", \"content\": \"請嚴格依據提供的文本回答問題，使用繁體中文。\"},\n",
        "                    {\"role\": \"user\", \"content\": qa[\"question\"]},\n",
        "                    {\"role\": \"assistant\", \"content\": qa[\"answer\"]},\n",
        "                ],\n",
        "            }\n",
        "            f.write(json.dumps(rec, ensure_ascii=False) + \"\\n\")\n",
        "            wrote += 1\n",
        "\n",
        "    print(f\"✅ 已新增 {wrote} 筆 reference-based QA 至 {out_path}\")\n",
        "    return qa_list"
      ]
    },
    {
      "cell_type": "code",
      "source": [
        "import re\n",
        "\n",
        "def split_markdown_by_headers(markdown_text):\n",
        "    \"\"\"Splits a markdown string by headers (#, ##, ###).\"\"\"\n",
        "    # Use regex to find all headers and their positions\n",
        "    # This regex looks for lines starting with 1 to 3 '#' characters, followed by a space\n",
        "    # and captures the header line and the content that follows until the next header\n",
        "    segments = []\n",
        "    # Find all matches of headers and their starting positions\n",
        "    matches = list(re.finditer(r\"^(#+\\s.*)$\", markdown_text, re.MULTILINE))\n",
        "\n",
        "    if not matches:\n",
        "        # If no headers are found, return the entire text as a single segment\n",
        "        return [markdown_text]\n",
        "\n",
        "    # Add content before the first header if it exists\n",
        "    if matches[0].start() > 0:\n",
        "        segments.append(markdown_text[:matches[0].start()].strip())\n",
        "\n",
        "    # Iterate through the matches to extract segments\n",
        "    for i in range(len(matches)):\n",
        "        start_pos = matches[i].start()\n",
        "        # The end position is the start of the next header, or the end of the text\n",
        "        end_pos = matches[i+1].start() if i+1 < len(matches) else len(markdown_text)\n",
        "        segment = markdown_text[start_pos:end_pos].strip()\n",
        "        if segment:\n",
        "            segments.append(segment)\n",
        "\n",
        "    return segments\n",
        "\n",
        "# Split the article_context\n",
        "wiki_segments = split_markdown_by_headers(article_context)\n",
        "\n",
        "# Print the number of segments and the first few\n",
        "print(f\"Split article_context into {len(wiki_segments)} segments.\")\n",
        "for i, segment in enumerate(wiki_segments):\n",
        "    print(f\"\\n--- Segment {i+1} ---\")\n",
        "    print(segment[:500] + ('...' if len(segment) > 500 else ''))"
      ],
      "metadata": {
        "colab": {
          "base_uri": "https://localhost:8080/"
        },
        "id": "EoiTAHOb9N3p",
        "outputId": "992265f9-900c-4b24-d954-10979e1f344a"
      },
      "id": "EoiTAHOb9N3p",
      "execution_count": 12,
      "outputs": [
        {
          "output_type": "stream",
          "name": "stdout",
          "text": [
            "Split article_context into 1 segments.\n",
            "\n",
            "--- Segment 1 ---\n",
            "\n",
            "[ 開源模型 ] Google Gemma 3 270M 介紹\n",
            "Simon Liu\n",
            "\n",
            "[ 開源模型 ] Google Gemma 3 270M\n",
            "Google 官方部落格介紹：連結\n",
            "\n",
            "Gemma 3 270M 是 Google DeepMind 於 2025 年 8 月正式推出的一款極致輕量化、大幅降低運算成本的開源語言模型。其設計理念側重於高能效、可在邊緣設備上直接運行 (on-device)，並且能迅速完成特定任務的微調 (fine-tuning)，以達到成本效益最佳化。\n",
            "\n",
            "I. 核心技術特點與差異化優勢\n",
            "1. 模型規模與架構設計\n",
            "總參數量為 2.7 億個參數，其中約 1.7 億個參數是 embedding 層權重，剩下則是 transformer 模組，屬於 Gemma 3 家族中的最小版本，採用 decoder‐only Transformer 架構。\n",
            "\n",
            "2. 能源效率極佳\n",
            "透過 INT4 量化後，根據官方的說法，在 Pixel 9 Pro SoC 上進行 25 次對話測試僅消耗 0.75% 電量，展現出極低耗電特性。\n",
            "\n",
            "3. 出色的 instruction-following...\n"
          ]
        }
      ]
    },
    {
      "cell_type": "code",
      "source": [
        "print(\"* Context information: \\n\")\n",
        "\n",
        "for index, context in enumerate(wiki_segments):\n",
        "    print(f\"===== context: {index} =====\")\n",
        "    print(\"length of context: \" + str(len(context)))\n",
        "    print(\"Suggestion QA about this context: \" + str(int(len(context)/100)+1))\n",
        "    print(\"Preview the content: \\n\\n\" + context[:30])\n",
        "    print(f\"======================\")"
      ],
      "metadata": {
        "colab": {
          "base_uri": "https://localhost:8080/"
        },
        "id": "lPl422189trw",
        "outputId": "f067509d-dfc2-445e-a696-f91520791a44"
      },
      "id": "lPl422189trw",
      "execution_count": 13,
      "outputs": [
        {
          "output_type": "stream",
          "name": "stdout",
          "text": [
            "* Context information: \n",
            "\n",
            "===== context: 0 =====\n",
            "length of context: 1428\n",
            "Suggestion QA about this context: 15\n",
            "Preview the content: \n",
            "\n",
            "\n",
            "[ 開源模型 ] Google Gemma 3 270M \n",
            "======================\n"
          ]
        }
      ]
    },
    {
      "cell_type": "code",
      "source": [
        "import time\n",
        "\n",
        "for context in wiki_segments:\n",
        "    if NUM_QA is None:\n",
        "        n_pair = int(NUM_QA/len(wiki_segments))\n",
        "    else:\n",
        "        n_pair = NUM_QA\n",
        "\n",
        "    _qa_preview = build_reference_based_from_context(context, n_pairs = NUM_QA)\n",
        "    print(\"\\n--- 產生預覽 ---\")\n",
        "    for i, qa in enumerate(_qa_preview, 1):\n",
        "        print(f\"Q{i}: {qa['question']}\")\n",
        "        print(f\"A{i}: {qa['answer'][:200]}{'...' if len(qa['answer'])>200 else ''}\\n\")\n",
        "    time.sleep(5)"
      ],
      "metadata": {
        "colab": {
          "base_uri": "https://localhost:8080/"
        },
        "id": "4mRbvk1Z92rz",
        "outputId": "1a4db710-4938-41c0-dce4-9a52d2941eb0"
      },
      "id": "4mRbvk1Z92rz",
      "execution_count": 14,
      "outputs": [
        {
          "output_type": "stream",
          "name": "stdout",
          "text": [
            "✅ 已新增 10 筆 reference-based QA 至 outputs/datasets.jsonl\n",
            "\n",
            "--- 產生預覽 ---\n",
            "Q1: Google Gemma 3 270M 是由哪個機構推出的？\n",
            "A1: Google DeepMind。\n",
            "\n",
            "Q2: Gemma 3 270M 的設計理念是什麼？\n",
            "A2: Gemma 3 270M 的設計理念側重於高能效，使其能在邊緣設備上直接運行，並迅速完成特定任務的微調，以達到成本效益最佳化。\n",
            "\n",
            "Q3: Gemma 3 270M 總共有多少個參數？\n",
            "A3: Gemma 3 270M 總共有 2.7 億個參數。\n",
            "\n",
            "Q4: Gemma 3 270M 在 Pixel 9 Pro SoC 上進行 25 次對話測試消耗多少電量？\n",
            "A4: Gemma 3 270M 在 Pixel 9 Pro SoC 上進行 25 次對話測試僅消耗 0.75% 電量。\n",
            "\n",
            "Q5: Gemma 3 270M 在 IFEval 基準測試中取得了約多少分數？\n",
            "A5: Gemma 3 270M 在 IFEval 基準測試中取得約 51.2% 的分數。\n",
            "\n",
            "Q6: Gemma 3 270M 支援哪種量化訓練方式，以方便部署？\n",
            "A6: Gemma 3 270M 支援量化自覺訓練 (QAT)，以便於 INT4 推論的部署。\n",
            "\n",
            "Q7: Gemma 3 270M 適合哪些類型的高頻任務？\n",
            "A7: Gemma 3 270M 適合情緒分析、實體擷取、查詢、結構化文本生成、創意寫作和遵從性檢查等高頻、明確定義片段的任務。\n",
            "\n",
            "Q8: 使用 Gemma 3 270M 進行 fine-tuning 通常建議在哪種硬體上完成？\n",
            "A8: 建議在 GPU 或 TPU 上完成 Google Gemma 的 Fine-Tuning。\n",
            "\n",
            "Q9: Gemma 3 270M 的哪些特性使其適用於邊緣部署？\n",
            "A9: Gemma 3 270M 適用於邊緣部署的特性包含：\n",
            "\n",
            "*   **能源效率極佳**：INT4 量化後耗電量極低。\n",
            "*   **模型尺寸小**：參數少，可在輕量基礎設施或裝置端運行。\n",
            "*   **快速微調與部署**：可在數小時內完成 fine‑tuning，極速部署原型。\n",
            "*   **隱私與使用者控制**：可完全本地化部署，避免資料往返雲端。\n",
            "\n",
            "Q10: 相較於大型模型，Gemma 3 270M 在通用能力方面有何限制？\n",
            "A10: 在通用性、複雜對話或生成能力方面仍有限制。\n",
            "\n"
          ]
        }
      ]
    },
    {
      "cell_type": "markdown",
      "metadata": {
        "id": "3014b7ac-7748-46f6-965e-8f92b57377cf"
      },
      "source": [
        "## 2 資料品質檢查與過濾（Quality Checks）\n",
        "\n",
        "\n",
        "目標：\n",
        "- 載入 `raw.jsonl`\n",
        "- 規則式檢查：敏感詞 / 結構完整 / 長度門檻 / 不含 placeholder\n",
        "- 產出 `clean.jsonl`\n",
        "- 生成摘要報表（通過/剔除統計、剔除原因分佈）"
      ],
      "id": "3014b7ac-7748-46f6-965e-8f92b57377cf"
    },
    {
      "cell_type": "markdown",
      "metadata": {
        "id": "50b8ced3-2e81-4f19-af3f-99c98c5efbd8"
      },
      "source": [
        "> 註：不論如何，禁用 [opencc-python](https://github.com/yichen0831/opencc-python) 做任何轉換\n",
        "\n",
        "> 雖然 OpenCC 的簡轉繁功能很方便，但它只是機械式轉換，繁體字有時會被誤判或錯轉，導致語意錯誤或不符合在地用法，因此並不適合需要精準繁體輸出的情境。"
      ],
      "id": "50b8ced3-2e81-4f19-af3f-99c98c5efbd8"
    },
    {
      "cell_type": "markdown",
      "metadata": {
        "id": "8aed0c38-dc62-44ef-aa93-dc043781f5c8"
      },
      "source": [
        "### 2.1 準備路徑與依賴"
      ],
      "id": "8aed0c38-dc62-44ef-aa93-dc043781f5c8"
    },
    {
      "cell_type": "code",
      "execution_count": 15,
      "metadata": {
        "id": "92d2e6e0-336f-4893-88b9-2b88dc67c79d",
        "colab": {
          "base_uri": "https://localhost:8080/"
        },
        "outputId": "dc0afc41-7b90-4ff2-c66f-79e360a1938d"
      },
      "outputs": [
        {
          "output_type": "stream",
          "name": "stdout",
          "text": [
            "✅ 讀取來源： outputs/datasets.jsonl\n",
            "✅ 乾淨輸出： outputs/clean.jsonl\n"
          ]
        }
      ],
      "source": [
        "from pathlib import Path\n",
        "import json, re, statistics\n",
        "from collections import Counter, defaultdict\n",
        "\n",
        "INPUT_PATH = Path(\"outputs/datasets.jsonl\")\n",
        "\n",
        "OUTPUT_DIR = Path(\"outputs\")\n",
        "OUTPUT_DIR.mkdir(parents=True, exist_ok=True)\n",
        "\n",
        "OUTPUT_CLEAN = OUTPUT_DIR / \"clean.jsonl\"\n",
        "OUTPUT_REPORT = OUTPUT_DIR / \"qc_report.json\"\n",
        "\n",
        "\n",
        "print(\"✅ 讀取來源：\", INPUT_PATH)\n",
        "print(\"✅ 乾淨輸出：\", OUTPUT_CLEAN)"
      ],
      "id": "92d2e6e0-336f-4893-88b9-2b88dc67c79d"
    },
    {
      "cell_type": "markdown",
      "metadata": {
        "id": "3926d664-eddd-4303-9207-b3a2260afaf3"
      },
      "source": [
        "### 2.2 載入資料\n",
        "\n",
        "逐行讀取 JSONL，存到 list。這裡不做任何變形，只檢視基本鍵值。"
      ],
      "id": "3926d664-eddd-4303-9207-b3a2260afaf3"
    },
    {
      "cell_type": "code",
      "execution_count": 16,
      "metadata": {
        "id": "a26301db-4c15-4580-a84b-5f6a4687685b",
        "colab": {
          "base_uri": "https://localhost:8080/"
        },
        "outputId": "40f39a5e-e115-4b88-a4cf-167067eda1f3"
      },
      "outputs": [
        {
          "output_type": "stream",
          "name": "stdout",
          "text": [
            "Number of records: 11\n"
          ]
        }
      ],
      "source": [
        "records = []\n",
        "with INPUT_PATH.open(\"r\", encoding=\"utf-8\") as f:\n",
        "    for line in f:\n",
        "        try:\n",
        "            records.append(json.loads(line))\n",
        "        except Exception as e:\n",
        "            # 若出現無法解析的行，記錄並跳過\n",
        "            print(\"⚠️ 無法解析的行，已略過：\", e)\n",
        "\n",
        "print(f\"Number of records: {len(records)}\")"
      ],
      "id": "a26301db-4c15-4580-a84b-5f6a4687685b"
    },
    {
      "cell_type": "markdown",
      "metadata": {
        "id": "9b9753e1-25c2-4fce-9faa-c6266f19f43c"
      },
      "source": [
        "### 2.3 品質規則定義\n",
        "\n",
        "本課採「規則式（rule-based）」檢查以快速過濾：\n",
        "1. **結構**：`messages` 至少包含 `system`、`user`、`assistant` 三則；且對話文本不為空。\n",
        "2. **多輪性**：對話需包含至少 3 輪（可鬆綁為 1 輪以上，但本課先採至少 3 輪）。\n",
        "3. **長度**：合併文本長度至少 80 字（避免過短）。\n",
        "4. **敏感詞**：過濾個資或敏感詞（示例黑名單）。\n",
        "5. **Placeholder**：不得包含 `XXX`、`<填充>` 類佔位符。"
      ],
      "id": "9b9753e1-25c2-4fce-9faa-c6266f19f43c"
    },
    {
      "cell_type": "code",
      "execution_count": 17,
      "metadata": {
        "id": "4c0923e3-6fa0-41bb-97a4-653a036c72d5"
      },
      "outputs": [],
      "source": [
        "# 1) 結構/角色檢查\n",
        "def has_min_roles(msgs):\n",
        "    roles = [m.get(\"role\") for m in msgs]\n",
        "    return {\"system\", \"user\", \"assistant\"}.issubset(set(roles))\n",
        "\n",
        "# 2) 多輪性（這裡以訊息數 >= 3 視為最低門檻；若需要更嚴謹可解析回合）\n",
        "def has_min_turns(msgs, min_msgs=3):\n",
        "    return len(msgs) >= min_msgs\n",
        "\n",
        "# 3) 長度門檻\n",
        "def meet_min_length(msgs, min_chars=80):\n",
        "    total = sum(len((m.get(\"content\") or \"\").strip()) for m in msgs)\n",
        "    return total >= min_chars\n",
        "\n",
        "# 4) 敏感詞（示例）：身分證/電話/地址/Email/信用卡/生日\n",
        "SENSITIVE_PATTERNS = [\n",
        "    r\"\\b[A-Z][12]\\d{8}\\b\",                         # 台灣身分證格式\n",
        "    r\"\\b09\\d{8}\\b|\\b0\\d{1,2}-\\d{6,8}\\b\",          # 手機或市話\n",
        "    r\"[A-Za-z0-9._%+-]+@[A-Za-z0-9.-]+\\.[A-Za-z]{2,}\",  # email\n",
        "    r\"\\b\\d{4}[- ]?\\d{4}[- ]?\\d{4}[- ]?\\d{4}\\b\",   # 信用卡 16 碼\n",
        "    r\"\\b(19|20)\\d{2}[/-]\\d{1,2}[/-]\\d{1,2}\\b\",    # 西元生日 yyyy/mm/dd 或 yyyy-mm-dd\n",
        "]\n",
        "\n",
        "def has_sensitive(text):\n",
        "    return any(re.search(p, text) for p in SENSITIVE_PATTERNS)\n",
        "\n",
        "# 5) Placeholder 過濾\n",
        "PLACEHOLDER_PATTERNS = [r\"XXX\", r\"<填充>\", r\"\\[PLACEHOLDER\\]\"]\n",
        "\n",
        "def has_placeholder(text):\n",
        "    return any(re.search(p, text, flags=re.IGNORECASE) for p in PLACEHOLDER_PATTERNS)"
      ],
      "id": "4c0923e3-6fa0-41bb-97a4-653a036c72d5"
    },
    {
      "cell_type": "markdown",
      "metadata": {
        "id": "80e5a6cd-4b31-451f-a1c8-c34437a11560"
      },
      "source": [
        "### 2.4 單筆檢查與原因標註\n",
        "\n",
        "輸入一筆記錄，回傳 (是否通過, 剔除原因集合)。"
      ],
      "id": "80e5a6cd-4b31-451f-a1c8-c34437a11560"
    },
    {
      "cell_type": "code",
      "execution_count": 18,
      "metadata": {
        "id": "495390d6-59f4-4ec5-a7e7-1b236a5a1ef7"
      },
      "outputs": [],
      "source": [
        "def join_text_by_roles(msgs, roles=(\"assistant\",)):\n",
        "    return \"\\n\".join((m.get(\"content\") or \"\").strip()\n",
        "                     for m in msgs if m.get(\"role\") in roles)\n",
        "\n",
        "def quality_check(record):\n",
        "    reasons = []\n",
        "\n",
        "    msgs = record.get(\"messages\", [])\n",
        "    if not isinstance(msgs, list) or not msgs:\n",
        "        return False, {\"bad_structure\"}\n",
        "\n",
        "    if not has_min_roles(msgs):\n",
        "        reasons.append(\"missing_roles\")\n",
        "\n",
        "    if not has_min_turns(msgs, min_msgs=3):\n",
        "        reasons.append(\"too_few_messages\")\n",
        "\n",
        "    # ⬇️ 只看 assistant 文字，避免掃到 user 提示內的「例如 身分證/電話…」\n",
        "    text = join_text_by_roles(msgs, roles=(\"assistant\",))\n",
        "\n",
        "    if not meet_min_length(msgs, min_chars=80):\n",
        "        reasons.append(\"too_short\")\n",
        "\n",
        "    if has_sensitive(text):\n",
        "        reasons.append(\"sensitive_content\")\n",
        "\n",
        "    if has_placeholder(text):\n",
        "        reasons.append(\"placeholder_found\")\n",
        "\n",
        "    return (len(reasons) == 0), set(reasons)"
      ],
      "id": "495390d6-59f4-4ec5-a7e7-1b236a5a1ef7"
    },
    {
      "cell_type": "markdown",
      "metadata": {
        "id": "943576f6-5c01-488e-8e71-f305afae9dd1"
      },
      "source": [
        "### 2.5 執行過濾並輸出 `clean.jsonl`"
      ],
      "id": "943576f6-5c01-488e-8e71-f305afae9dd1"
    },
    {
      "cell_type": "code",
      "execution_count": 19,
      "metadata": {
        "id": "71a2ae66-e807-4ecd-a4bf-577825c339d2",
        "colab": {
          "base_uri": "https://localhost:8080/"
        },
        "outputId": "762bac96-7b6c-46a5-ab08-5a4100f33388"
      },
      "outputs": [
        {
          "output_type": "stream",
          "name": "stdout",
          "text": [
            "✅ 通過：8  筆\n",
            "❌ 剔除：3 筆\n"
          ]
        }
      ],
      "source": [
        "kept, dropped = [], []\n",
        "for rec in records:\n",
        "    ok, reasons = quality_check(rec)\n",
        "    if ok:\n",
        "        kept.append(rec)\n",
        "    else:\n",
        "        dropped.append((rec.get(\"id\"), reasons))\n",
        "\n",
        "with OUTPUT_CLEAN.open(\"w\", encoding=\"utf-8\") as f:\n",
        "    for r in kept:\n",
        "        f.write(json.dumps(r, ensure_ascii=False) + \"\\n\")\n",
        "\n",
        "print(f\"✅ 通過：{len(kept)}  筆\")\n",
        "print(f\"❌ 剔除：{len(dropped)} 筆\")"
      ],
      "id": "71a2ae66-e807-4ecd-a4bf-577825c339d2"
    },
    {
      "cell_type": "markdown",
      "metadata": {
        "id": "ae5ec9a4-9eea-4a5a-8af4-0cdbead0a49a"
      },
      "source": [
        "### 2.6 產出品質報表\n",
        "\n",
        "統計剔除原因分佈、長度分佈（通過者），並輸出 `qc_report.json` 方便保存與追蹤。"
      ],
      "id": "ae5ec9a4-9eea-4a5a-8af4-0cdbead0a49a"
    },
    {
      "cell_type": "code",
      "execution_count": 20,
      "metadata": {
        "id": "91348e15-d898-4b96-a6f4-8e19fa1080ae",
        "colab": {
          "base_uri": "https://localhost:8080/"
        },
        "outputId": "b57ad11f-987f-41e2-ed68-41d7ec56f1c8"
      },
      "outputs": [
        {
          "output_type": "stream",
          "name": "stdout",
          "text": [
            "{\n",
            "  \"input_total\": 11,\n",
            "  \"kept\": 8,\n",
            "  \"dropped\": 3,\n",
            "  \"drop_reasons\": {\n",
            "    \"too_short\": 3\n",
            "  },\n",
            "  \"length_stats_kept\": {\n",
            "    \"min\": 95,\n",
            "    \"max\": 927,\n",
            "    \"mean\": 224.5,\n",
            "    \"median\": 109.0\n",
            "  }\n",
            "}\n"
          ]
        }
      ],
      "source": [
        "# 剔除原因分佈\n",
        "reason_counter = Counter()\n",
        "for _id, reasons in dropped:\n",
        "    reason_counter.update(reasons)\n",
        "\n",
        "# 通過資料長度（字元計）分佈\n",
        "lengths = []\n",
        "for r in kept:\n",
        "    lengths.append(sum(len((m.get(\"content\") or \"\").strip()) for m in r[\"messages\"]))\n",
        "\n",
        "report = {\n",
        "    \"input_total\": len(records),\n",
        "    \"kept\": len(kept),\n",
        "    \"dropped\": len(dropped),\n",
        "    \"drop_reasons\": dict(reason_counter),\n",
        "    \"length_stats_kept\": {\n",
        "        \"min\": min(lengths) if lengths else 0,\n",
        "        \"max\": max(lengths) if lengths else 0,\n",
        "        \"mean\": round(statistics.mean(lengths), 2) if lengths else 0,\n",
        "        \"median\": statistics.median(lengths) if lengths else 0,\n",
        "    },\n",
        "}\n",
        "\n",
        "with OUTPUT_REPORT.open(\"w\", encoding=\"utf-8\") as f:\n",
        "    json.dump(report, f, ensure_ascii=False, indent=2)\n",
        "\n",
        "print(json.dumps(report, ensure_ascii=False, indent=2))"
      ],
      "id": "91348e15-d898-4b96-a6f4-8e19fa1080ae"
    },
    {
      "cell_type": "markdown",
      "metadata": {
        "id": "fbb83d71-8c3f-41d6-adb7-3ff00e181cfb"
      },
      "source": [
        "### 2.7. 抽樣檢視通過樣本（前 2 筆）\n",
        "\n",
        "確認清洗後的資料結構與內容是否符合預期。"
      ],
      "id": "fbb83d71-8c3f-41d6-adb7-3ff00e181cfb"
    },
    {
      "cell_type": "code",
      "execution_count": 21,
      "metadata": {
        "id": "1f78a29c-74fa-465c-a16d-1ba8f406406a",
        "colab": {
          "base_uri": "https://localhost:8080/"
        },
        "outputId": "d47b52a1-1658-4cfe-a35c-6263e957d222"
      },
      "outputs": [
        {
          "output_type": "stream",
          "name": "stdout",
          "text": [
            "\n",
            "--- Clean Sample 1 / topic=None ---\n",
            "好的，這是一份不含乳製品、高纖且富含健康脂肪，熱量約 500 大卡的午餐食譜，並提供詳細的說明和建議，讓你輕鬆準備：\n",
            "\n",
            "**午餐食譜：酪梨藜麥沙拉佐烤鮭魚**\n",
            "\n",
            "**熱量估算：** 約 480-520 大卡 (依食材份量微調)\n",
            "\n",
            "**食材：**\n",
            "\n",
            "*   **烤鮭魚 (約 120 克):** 提供優質蛋白質和 Omega-3 脂肪酸 (約 200 大卡)\n",
            "    *   鮭魚片：120 克\n",
            "    *   橄欖油：1 茶匙\n",
            "    *   鹽：少許\n",
            "    *   黑胡椒：少許\n",
            "    *   檸檬汁：少許 (可選)\n",
            "*   **藜麥 (煮熟後約 1 杯):** 提供豐富纖維和植物性蛋白質 (約 220 大卡)\n",
            "    *   乾燥藜麥：1/2 杯\n",
            "    *   水：1 杯\n",
            "*   **酪梨 (1/4 個):** 提供健康脂肪和纖維 (約 80 大卡)\n",
            "*   **蔬菜 (總量約 1 杯):** 提供纖維、維生素和礦物質 (約 20 大卡)\n",
            "    *   小黃瓜：1/4 根 (切丁)\n",
            "    *   紅蘿蔔：1/4 根 (切丁)\n",
            "    *   甜椒 (任何顏色)：1/4 個 (切...\n",
            "\n",
            "--- Clean Sample 2 / topic=None ---\n",
            "Gemma 3 270M 的設計理念側重於高能效，使其能在邊緣設備上直接運行，並迅速完成特定任務的微調，以達到成本效益最佳化。\n"
          ]
        }
      ],
      "source": [
        "preview = []\n",
        "with OUTPUT_CLEAN.open(\"r\", encoding=\"utf-8\") as f:\n",
        "    for i, line in enumerate(f):\n",
        "        if i >= 2:\n",
        "            break\n",
        "        preview.append(json.loads(line))\n",
        "\n",
        "for i, s in enumerate(preview, 1):\n",
        "    print(f\"\\n--- Clean Sample {i} / topic={s.get('topic')} ---\")\n",
        "    text = s[\"messages\"][-1][\"content\"]\n",
        "    print(text[:500] + (\"...\" if len(text) > 500 else \"\"))"
      ],
      "id": "1f78a29c-74fa-465c-a16d-1ba8f406406a"
    },
    {
      "cell_type": "markdown",
      "metadata": {
        "id": "52ebdc34-7526-4679-bf09-b9f868311a92"
      },
      "source": [
        "### 2.8（可選）LLM 輔助檢查（實務建議）\n",
        "> 所謂的 LLM-as-Judge\n",
        "\n",
        "在規則式檢查後，可抽樣使用 LLM 來做語義層面的檢查（如：是否符合主題、語氣、是否含危險建議等）。  \n",
        "以下為示意程式（預設註解，不影響主流程）。"
      ],
      "id": "52ebdc34-7526-4679-bf09-b9f868311a92"
    },
    {
      "cell_type": "code",
      "source": [
        "len(preview)"
      ],
      "metadata": {
        "colab": {
          "base_uri": "https://localhost:8080/"
        },
        "id": "V1MswHRmqxSa",
        "outputId": "318ccb70-aecb-4250-8c52-812fa49ceb15"
      },
      "id": "V1MswHRmqxSa",
      "execution_count": 22,
      "outputs": [
        {
          "output_type": "execute_result",
          "data": {
            "text/plain": [
              "2"
            ]
          },
          "metadata": {},
          "execution_count": 22
        }
      ]
    },
    {
      "cell_type": "code",
      "execution_count": 23,
      "metadata": {
        "id": "88b8958b-6f3a-4417-9ba2-e13a4a5500fd",
        "colab": {
          "base_uri": "https://localhost:8080/"
        },
        "outputId": "7843492d-a550-4bc7-f8cd-995b2c768785"
      },
      "outputs": [
        {
          "output_type": "stream",
          "name": "stdout",
          "text": [
            "LLM QC -> PASS\n",
            "LLM QC -> PASS\n"
          ]
        }
      ],
      "source": [
        "def llm_qc_judgement(text: str) -> bool:\n",
        "    \"\"\"回傳 True 視為通過；False 視為不通過\"\"\"\n",
        "    prompt = f\"請閱讀以下對話是否符合：主題連貫、語氣正式友善、無敏感資料、無危險建議。\\n\\n{text}\\n\\n請只回答：PASS 或 FAIL。\"\n",
        "    resp = client.chat.completions.create(\n",
        "        model=\"gemma-3-12b-it\",\n",
        "        messages=[{\"role\":\"user\",\"content\": prompt}],\n",
        "        temperature=0.0,\n",
        "        max_tokens=10,\n",
        "    )\n",
        "    ans = resp.choices[0].message.content.strip().upper()\n",
        "    return ans.startswith(\"PASS\")\n",
        "\n",
        "# 示例（只檢查前 3 筆）\n",
        "for s in preview:\n",
        "    ok = llm_qc_judgement(\"\\n\".join(m[\"content\"] for m in s[\"messages\"]))\n",
        "    print(\"LLM QC ->\", \"PASS\" if ok else \"FAIL\")"
      ],
      "id": "88b8958b-6f3a-4417-9ba2-e13a4a5500fd"
    },
    {
      "cell_type": "markdown",
      "metadata": {
        "id": "e2bfbf3a-5157-4bab-826b-64c510619a31"
      },
      "source": [
        "### 2.9.（可選）如果生成資料集一直沒通過"
      ],
      "id": "e2bfbf3a-5157-4bab-826b-64c510619a31"
    },
    {
      "cell_type": "code",
      "execution_count": 24,
      "metadata": {
        "id": "b5d49ad4-a02e-4416-81a3-22bdd0b10ab5"
      },
      "outputs": [],
      "source": [
        "# 🔍 Debug：逐筆列出命中的敏感詞 / Placeholder（含前後文）\n",
        "import re\n",
        "\n",
        "def _ctx(text: str, start: int, end: int, width: int = 50) -> str:\n",
        "    s = max(0, start - width)\n",
        "    e = min(len(text), end + width)\n",
        "    return text[s:start] + \"【\" + text[start:end] + \"】\" + text[end:e]\n",
        "\n",
        "def debug_scan_record(rec: dict, show_only_hits: bool = True):\n",
        "    rid = rec.get(\"id\", \"<no-id>\")\n",
        "    topic = rec.get(\"topic\", \"\")\n",
        "    msgs = rec.get(\"messages\", [])\n",
        "\n",
        "    # 🔑 只掃 assistant（模型輸出）\n",
        "    text = \"\\n\".join((m.get(\"content\") or \"\") for m in msgs if m.get(\"role\") == \"assistant\")\n",
        "\n",
        "    sens_hits = []\n",
        "    for p in SENSITIVE_PATTERNS:\n",
        "        for m in re.finditer(p, text, flags=re.IGNORECASE):\n",
        "            sens_hits.append((p, m.start(), m.end(), m.group(0)))\n",
        "\n",
        "    ph_hits = []\n",
        "    for p in PLACEHOLDER_PATTERNS:\n",
        "        for m in re.finditer(p, text, flags=re.IGNORECASE):\n",
        "            ph_hits.append((p, m.start(), m.end(), m.group(0)))\n",
        "\n",
        "    if sens_hits or ph_hits or not show_only_hits:\n",
        "        print(f\"\\n=== Record id={rid} | topic={topic} ===\")\n",
        "        if sens_hits:\n",
        "            print(f\"Sensitive matches ({len(sens_hits)}):\")\n",
        "            for p, s, e, g in sens_hits:\n",
        "                print(f\" - pattern: {p}  | match: {g!r}\")\n",
        "                print(\"   ...\", _ctx(text, s, e), \"...\")\n",
        "        if ph_hits:\n",
        "            print(f\"Placeholder matches ({len(ph_hits)}):\")\n",
        "            for p, s, e, g in ph_hits:\n",
        "                print(f\" - pattern: {p}  | match: {g!r}\")\n",
        "                print(\"   ...\", _ctx(text, s, e), \"...\")\n",
        "    return bool(sens_hits), bool(ph_hits)\n",
        "\n",
        "def debug_scan_all(recs: list[dict], limit: int | None = None):\n",
        "    n = 0\n",
        "    total_sens = total_ph = 0\n",
        "    for rec in recs:\n",
        "        sens, ph = debug_scan_record(rec)\n",
        "        total_sens += int(sens)\n",
        "        total_ph += int(ph)\n",
        "        n += 1\n",
        "        if limit and n >= limit:\n",
        "            break\n",
        "    print(f\"\\nSummary: scanned {n} records | with_sensitive={total_sens} | with_placeholder={total_ph}\")"
      ],
      "id": "b5d49ad4-a02e-4416-81a3-22bdd0b10ab5"
    },
    {
      "cell_type": "code",
      "execution_count": 25,
      "metadata": {
        "id": "f4161db3-b9e8-430e-b8b7-a5492edc3491",
        "colab": {
          "base_uri": "https://localhost:8080/"
        },
        "outputId": "f128761d-faf4-444b-faff-7dc14faa79d2"
      },
      "outputs": [
        {
          "output_type": "stream",
          "name": "stdout",
          "text": [
            "\n",
            "Summary: scanned 11 records | with_sensitive=0 | with_placeholder=0\n"
          ]
        }
      ],
      "source": [
        "# 假設你已在前面載入 records = [...]（從 raw.jsonl）\n",
        "debug_scan_all(records)          # 掃全部\n",
        "# 或只看前 10 筆\n",
        "# debug_scan_all(records, limit=10)"
      ],
      "id": "f4161db3-b9e8-430e-b8b7-a5492edc3491"
    },
    {
      "cell_type": "markdown",
      "metadata": {
        "id": "74e85e7f-dce9-4f7a-a73f-033328c2e549"
      },
      "source": [
        "# 3 將資料集上傳到 Hugging Face Hub（Dataset Repo）\n",
        "\n",
        "本章目標：\n",
        "1. 準備要上傳的檔案（預期：`outputs/datasets.jsonl`）\n",
        "2. 使用 `huggingface_hub` 建立或覆用 **Dataset repo**\n",
        "3. 上傳 `data/train.jsonl`（選配：同時上傳 `train.parquet`）\n",
        "4. 建立 / 更新 Dataset Card（`README.md`）"
      ],
      "id": "74e85e7f-dce9-4f7a-a73f-033328c2e549"
    },
    {
      "cell_type": "code",
      "execution_count": 26,
      "metadata": {
        "id": "544a0f13-b9e4-4ada-99ff-6bbdff9715d6",
        "colab": {
          "base_uri": "https://localhost:8080/"
        },
        "outputId": "e0a997b1-949c-45d6-a7d6-79a42fea6e1b"
      },
      "outputs": [
        {
          "output_type": "stream",
          "name": "stdout",
          "text": [
            "Repo: Simon-Liu/gemma-270m-medium-qa\n",
            "Local file: /content/outputs/datasets.jsonl\n"
          ]
        }
      ],
      "source": [
        "from huggingface_hub import HfApi, create_repo, upload_file, upload_folder\n",
        "from huggingface_hub import login as hf_login\n",
        "from pathlib import Path\n",
        "import json, os, time\n",
        "from google.colab import userdata\n",
        "\n",
        "# @markdown 請設定以下 HuggingFace 專案資訊 的變數數值\n",
        "\n",
        "# @markdown > HuggingFace Token 可以設定在 Google Colab 左邊的金鑰區域\n",
        "\n",
        "# === 基本設定（請依實際調整） ===\n",
        "HF_TOKEN = userdata.get(\"HF_TOKEN\") # @param {type:\"string\"}\n",
        "ORG_OR_USER = \"Simon-Liu\"  # @param {type:\"string\"}\n",
        "DATASET_NAME = \"gemma-270m-medium-qa\"  # @param {type:\"string\"}\n",
        "REPO_ID = f\"{ORG_OR_USER}/{DATASET_NAME}\"\n",
        "\n",
        "LOCAL_JSONL = Path(\"outputs/datasets.jsonl\")\n",
        "assert LOCAL_JSONL.exists(), f\"找不到 {LOCAL_JSONL}，請先完成前面章節生成資料\"\n",
        "\n",
        "# 可選：是否也上傳 Parquet（HF Hub 也會在後台自動生成 parquet 分支，但這裡示範手動輸出一次）\n",
        "ALSO_UPLOAD_PARQUET = True # @param {type:\"string\"}\n",
        "\n",
        "print(\"Repo:\", REPO_ID)\n",
        "print(\"Local file:\", LOCAL_JSONL.resolve())"
      ],
      "id": "544a0f13-b9e4-4ada-99ff-6bbdff9715d6"
    },
    {
      "cell_type": "code",
      "execution_count": 27,
      "metadata": {
        "id": "1d9493e6-8eb4-4ea0-a678-0ce92d029b95",
        "colab": {
          "base_uri": "https://localhost:8080/"
        },
        "outputId": "2abcc60b-f690-43d3-a66e-e194d57b5fef"
      },
      "outputs": [
        {
          "output_type": "stream",
          "name": "stdout",
          "text": [
            "✅ 產生 Dataset Card： /content/outputs/README.md\n"
          ]
        }
      ],
      "source": [
        "CARD_PATH = Path(\"outputs/README.md\")\n",
        "CARD_PATH.parent.mkdir(parents=True, exist_ok=True)\n",
        "\n",
        "# 注意：HF 會讀取 README.md 頂端的 YAML 區塊作為中繼資料\n",
        "card_md = f\"\"\"---\n",
        "pretty_name: {REPO_ID} (Gemma-3-27B-it, ADK Reference)\n",
        "tags:\n",
        "- dialog\n",
        "- instruction-tuning\n",
        "- sft\n",
        "- openai-messages\n",
        "- reference-based\n",
        "- reference-free\n",
        "license: cc-by-4.0\n",
        "task_categories:\n",
        "- text-generation\n",
        "language:\n",
        "- zh\n",
        "---\n",
        "\n",
        "本資料集包含由 ** {MODEL} ** 生成的對話資料，採用 **OpenAI Chat Messages** 格式（`.jsonl`）。資料來源結合：\n",
        "- **Reference-free**：由 seed 派生的單輪問答。\n",
        "- **Reference-based**：依據參考文本生成單輪問答。\n",
        "\n",
        "> 檔案路徑：`data/train.jsonl`（選配：`data/train.parquet`）\n",
        "\n",
        "## 結構說明\n",
        "- 每列為一筆樣本：`{{\"id\": \"...\", \"type\": \"...\", \"seed\": \"...\", \"context\": \"...\", \"messages\": [{{\"role\":\"user\",\"content\":\"...\"}}, {{\"role\":\"assistant\",\"content\":\"...\"}}]}}`\n",
        "- `type` 欄位標示資料來源：`reference_free` 或 `reference_based`。\n",
        "- `seed` 欄位儲存 Reference-free 的原始 seed 指令，或 Reference-based 的參考文本片段。\n",
        "- `context` 欄位僅在 `reference_based` 資料中包含完整的參考文本片段。\n",
        "- 訓練時可直接使用 `messages` 欄位的對話格式進行訓練。\n",
        "\n",
        "## 來源與限制\n",
        "- Model: {MODEL}\n",
        "- 語言：繁體中文（生成內容），部分參考文本為英文。\n",
        "- 使用情境：教學示範用；不代表專業意見。\n",
        "- **重要**：Reference-based 資料的問題和答案均從參考文本中生成，答案不應超出參考文本範圍。\n",
        "\n",
        "## 授權\n",
        "- 建議使用 **CC BY 4.0**；若另有需求請調整 `license` 欄位。\n",
        "\"\"\"\n",
        "\n",
        "CARD_PATH.write_text(card_md, encoding=\"utf-8\")\n",
        "print(\"✅ 產生 Dataset Card：\", CARD_PATH.resolve())"
      ],
      "id": "1d9493e6-8eb4-4ea0-a678-0ce92d029b95"
    },
    {
      "cell_type": "code",
      "execution_count": 28,
      "metadata": {
        "id": "9e517999-70ed-4814-8fe7-b486c360fa6d",
        "colab": {
          "base_uri": "https://localhost:8080/",
          "height": 67,
          "referenced_widgets": [
            "c91e25ccc6034a7c94f52d676c44b94e",
            "13731b55ad004f798665cdc8af1cfff3",
            "cac6255099324943afc2b4fb4e0df034",
            "b2657e8be0c644558ac96a766b85e29c",
            "6d6a9866108f4b248808096ef0dfbeea",
            "c5d372f7efc840aca0e64f3b2a4350fb",
            "9ccd9d2c4a6246a2994be3f1eea8be37",
            "01bb49ccf71e4555a06a6b1933e7c016",
            "c6d75ee7208d4e29b3723889751a6284",
            "c58b638d61764d94a15bc15271296320",
            "850eda4161184dd5b7925955ebcd320e"
          ]
        },
        "outputId": "9bc2aad1-70db-4e8e-9f33-1461e78d5b73"
      },
      "outputs": [
        {
          "output_type": "display_data",
          "data": {
            "text/plain": [
              "Creating parquet from Arrow format:   0%|          | 0/1 [00:00<?, ?ba/s]"
            ],
            "application/vnd.jupyter.widget-view+json": {
              "version_major": 2,
              "version_minor": 0,
              "model_id": "c91e25ccc6034a7c94f52d676c44b94e"
            }
          },
          "metadata": {}
        },
        {
          "output_type": "stream",
          "name": "stdout",
          "text": [
            "✅ 產生 parquet： /content/outputs/train.parquet\n"
          ]
        }
      ],
      "source": [
        "if ALSO_UPLOAD_PARQUET:\n",
        "    from datasets import Dataset\n",
        "    import pandas as pd\n",
        "\n",
        "    # 讀 jsonl → Dataset → parquet\n",
        "    rows = []\n",
        "    with LOCAL_JSONL.open(\"r\", encoding=\"utf-8\") as f:\n",
        "        for line in f:\n",
        "            rows.append(json.loads(line))\n",
        "    ds = Dataset.from_pandas(pd.DataFrame(rows))\n",
        "    PARQUET_PATH = Path(\"outputs/train.parquet\")\n",
        "    ds.to_parquet(PARQUET_PATH)\n",
        "    print(\"✅ 產生 parquet：\", PARQUET_PATH.resolve())\n",
        "else:\n",
        "    PARQUET_PATH = None"
      ],
      "id": "9e517999-70ed-4814-8fe7-b486c360fa6d"
    },
    {
      "cell_type": "code",
      "execution_count": 29,
      "metadata": {
        "id": "d8177bde-6942-4329-96d6-1d268fa68fbc",
        "colab": {
          "base_uri": "https://localhost:8080/"
        },
        "outputId": "7fa49882-346c-4713-a6e1-fadca8e80dc1"
      },
      "outputs": [
        {
          "output_type": "stream",
          "name": "stdout",
          "text": [
            "✅ 產生 .gitattributes\n"
          ]
        }
      ],
      "source": [
        "# HF 對部分副檔名會自動 LFS，但 .jsonl 有時未必；這裡顯式指定\n",
        "GITATTR_PATH = Path(\"outputs/.gitattributes\")\n",
        "gitattributes = \"\"\"*.jsonl filter=lfs diff=lfs merge=lfs -text\n",
        "*.parquet filter=lfs diff=lfs merge=lfs -text\n",
        "\"\"\"\n",
        "GITATTR_PATH.write_text(gitattributes, encoding=\"utf-8\")\n",
        "print(\"✅ 產生 .gitattributes\")"
      ],
      "id": "d8177bde-6942-4329-96d6-1d268fa68fbc"
    },
    {
      "cell_type": "code",
      "execution_count": 30,
      "metadata": {
        "id": "b6a79ecc-b60b-4f22-91e8-c68cecc38beb",
        "colab": {
          "base_uri": "https://localhost:8080/",
          "height": 54
        },
        "outputId": "2cf834d7-1971-4b56-9f87-a1a01bff42c6"
      },
      "outputs": [
        {
          "output_type": "stream",
          "name": "stdout",
          "text": [
            "Logged in as: Simon-Liu\n"
          ]
        },
        {
          "output_type": "execute_result",
          "data": {
            "text/plain": [
              "RepoUrl('https://huggingface.co/datasets/Simon-Liu/gemma-270m-medium-qa', endpoint='https://huggingface.co', repo_type='dataset', repo_id='Simon-Liu/gemma-270m-medium-qa')"
            ],
            "application/vnd.google.colaboratory.intrinsic+json": {
              "type": "string"
            }
          },
          "metadata": {},
          "execution_count": 30
        }
      ],
      "source": [
        "from huggingface_hub import login as hf_login, whoami, HfApi\n",
        "\n",
        "hf_login(token=HF_TOKEN)  # 一次性登入本機快取\n",
        "print(\"Logged in as:\", whoami()[\"name\"])\n",
        "\n",
        "# ==== 先建立（或覆用）Dataset repo ====\n",
        "api = HfApi()\n",
        "api.create_repo(\n",
        "    repo_id=REPO_ID,\n",
        "    repo_type=\"dataset\",\n",
        "    exist_ok=True,   # 已存在則不報錯\n",
        "    private=False    # 需要私有可改 True\n",
        ")"
      ],
      "id": "b6a79ecc-b60b-4f22-91e8-c68cecc38beb"
    },
    {
      "cell_type": "code",
      "execution_count": 31,
      "metadata": {
        "id": "dd562d22-bf69-47f4-b18c-775737ec4c90",
        "colab": {
          "base_uri": "https://localhost:8080/",
          "height": 318,
          "referenced_widgets": [
            "9b63f7b54d1d467a9fb6db05fa0f4d22",
            "e3a1b058363143d6a6d880fad566eb60",
            "6b480e1bbd424748843f1d8f5c29cc32",
            "53c6620d77e94493a7ab2ec4c85d9dd9",
            "672207930bf74056896786b279637c72",
            "bda31933ed0f4beeb946cba939924164",
            "d7050aa8916b47bebd0ea2f7b439f38f",
            "b8dde2ad8fa842859cada5ed80d62e5e",
            "168e77f14c2246a884170abbc354e7c0",
            "51df796cf27947fbbd9265418c1b6c53",
            "04c788403c854984b2fbf382c66ad739",
            "a8b0edfbff934a2eb78b0b858fb1fad1",
            "407c85019fa946109c1eb0bd8beb50fe",
            "f30c554c31644300ba33e4bcacded9cb",
            "cd30de9e72c64e4a8c1beefeab3807cd",
            "d23709045e2040439721c14a84691bb8",
            "c9de0f26c0654ca1ab7323a862d928f6",
            "03d101d933884218af93f9928ddd33ea",
            "d89cf9e9c5e24d77afe223d4f2c40f12",
            "1da9689469644863abce276ad1e5f3b7",
            "ed2f10039e4e425d8b53aeedfc0a6ee8",
            "bc8fbbace35847e19ca731d5c8f29093",
            "1ef55a8510074674b04dd33bf11e0966",
            "880ce95de5344905b01490ab77791ecd",
            "cd4ea41d9e4840898c702ec214bc38f6",
            "96ef472afbb84a36a12caa4827e49904",
            "4dfd57e35e414aec866305e1c3862f43",
            "f3085f5a5d2d4e5baf91834a7aff0823",
            "beadea8e78804664bbfcbd95527fda43",
            "3d306af68c664ed0a366e85aaf0dfcdb",
            "083c8e025835406ab0d2e80e7f4a20a4",
            "5e3d5a36afe548e58fbc97360205c798",
            "6ebb44e73cff4db28191370741b00fec",
            "e386f44e49a1465f941b8be9a0122fb1",
            "464b2f8c754545f188e22354fa5656b2",
            "135ad0f12d9f4856b6db2525a2e7d6f2",
            "7b69d2e073c34debb8c1f67e4abe43e6",
            "22f7305ccc934e288c3301f4c034949e",
            "fc1baa2c97ce4ab1800174f7a8dc9f5e",
            "0805f99a9a23458c9ed5770a0aca463a",
            "08a60d97e888439cbca68cdfbbd91c72",
            "5402917fe7b74add855ac97ed388c50b",
            "6755033e680049f391bcba6f9c55762f",
            "6bd62bd1ff8345b28eb37636a8f6ea34",
            "64eb477930fc41b99959d645f48715d3",
            "64a124094c47471096d06036005390a2",
            "b6a380f0e58443f7a559db24976bc31f",
            "a17a2e82f2844e25afc7f290581e7f2d",
            "23b66fac5d1c42768f37aedd1abca1aa",
            "b0bcd57df2404c76afc84208bdaf62f4",
            "1714d8edf85549c193d6143aa0eac916",
            "858128db76f743b795e8a70a7e6a4e81",
            "2d0a60a2d2b6456897c20274102de722",
            "e2c52bf417854b0284df7bd2eafeae18",
            "805883b350a84f3a83da12eadcc8dfa2",
            "b1d541f65026459e87ec6c8b2885d5e1",
            "de1084195ecf48609a52faf367a1c774",
            "46791d145bcd494b955dba5dc04a7ffe",
            "2eb0868140ef4a159f24a391a7a81175",
            "4cf10360bda24346b064cee196b4d9ca",
            "8e5b7a693c214004abd0e83ed176bfb9",
            "8e8589eb7b56495fb5d81ebcb16bb0bc",
            "1768820f1f9f4fe1b190c89c1c849778",
            "f91c6242eac9427bbd7b6b6ef0cf7f45",
            "26a22e17c52549c4b30aa5ae22451467",
            "484c25d6506a4b7891c9090e8ae7b444"
          ]
        },
        "outputId": "f330ec69-a157-4445-811b-dd787e16dba7"
      },
      "outputs": [
        {
          "output_type": "display_data",
          "data": {
            "text/plain": [
              "Processing Files (0 / 0)                : |          |  0.00B /  0.00B            "
            ],
            "application/vnd.jupyter.widget-view+json": {
              "version_major": 2,
              "version_minor": 0,
              "model_id": "9b63f7b54d1d467a9fb6db05fa0f4d22"
            }
          },
          "metadata": {}
        },
        {
          "output_type": "display_data",
          "data": {
            "text/plain": [
              "New Data Upload                         : |          |  0.00B /  0.00B            "
            ],
            "application/vnd.jupyter.widget-view+json": {
              "version_major": 2,
              "version_minor": 0,
              "model_id": "a8b0edfbff934a2eb78b0b858fb1fad1"
            }
          },
          "metadata": {}
        },
        {
          "output_type": "display_data",
          "data": {
            "text/plain": [
              "  outputs/datasets.jsonl                : 100%|##########| 69.5kB / 69.5kB            "
            ],
            "application/vnd.jupyter.widget-view+json": {
              "version_major": 2,
              "version_minor": 0,
              "model_id": "1ef55a8510074674b04dd33bf11e0966"
            }
          },
          "metadata": {}
        },
        {
          "output_type": "stream",
          "name": "stderr",
          "text": [
            "No files have been modified since last commit. Skipping to prevent empty commit.\n",
            "WARNING:huggingface_hub.hf_api:No files have been modified since last commit. Skipping to prevent empty commit.\n",
            "No files have been modified since last commit. Skipping to prevent empty commit.\n",
            "WARNING:huggingface_hub.hf_api:No files have been modified since last commit. Skipping to prevent empty commit.\n"
          ]
        },
        {
          "output_type": "display_data",
          "data": {
            "text/plain": [
              "Processing Files (0 / 0)                : |          |  0.00B /  0.00B            "
            ],
            "application/vnd.jupyter.widget-view+json": {
              "version_major": 2,
              "version_minor": 0,
              "model_id": "e386f44e49a1465f941b8be9a0122fb1"
            }
          },
          "metadata": {}
        },
        {
          "output_type": "display_data",
          "data": {
            "text/plain": [
              "New Data Upload                         : |          |  0.00B /  0.00B            "
            ],
            "application/vnd.jupyter.widget-view+json": {
              "version_major": 2,
              "version_minor": 0,
              "model_id": "64eb477930fc41b99959d645f48715d3"
            }
          },
          "metadata": {}
        },
        {
          "output_type": "display_data",
          "data": {
            "text/plain": [
              "  outputs/train.parquet                 : 100%|##########| 30.0kB / 30.0kB            "
            ],
            "application/vnd.jupyter.widget-view+json": {
              "version_major": 2,
              "version_minor": 0,
              "model_id": "b1d541f65026459e87ec6c8b2885d5e1"
            }
          },
          "metadata": {}
        },
        {
          "output_type": "stream",
          "name": "stdout",
          "text": [
            "✅ 上傳完成\n",
            "👉 瀏覽： https://huggingface.co/datasets/Simon-Liu/gemma-270m-medium-qa\n"
          ]
        }
      ],
      "source": [
        "# 建議的 Hub 目錄結構\n",
        "REMOTE_JSONL = \"data/train.jsonl\"\n",
        "REMOTE_PARQUET = \"data/train.parquet\" if PARQUET_PATH else None\n",
        "REMOTE_CARD = \"README.md\"\n",
        "REMOTE_GITATTR = \".gitattributes\"\n",
        "\n",
        "# 逐檔上傳（huggingface_hub 會自動處理 commit）\n",
        "upload_file(\n",
        "    path_or_fileobj=str(LOCAL_JSONL),\n",
        "    path_in_repo=REMOTE_JSONL,\n",
        "    repo_id=REPO_ID,\n",
        "    repo_type=\"dataset\",\n",
        ")\n",
        "\n",
        "upload_file(\n",
        "    path_or_fileobj=str(CARD_PATH),\n",
        "    path_in_repo=REMOTE_CARD,\n",
        "    repo_id=REPO_ID,\n",
        "    repo_type=\"dataset\",\n",
        ")\n",
        "\n",
        "upload_file(\n",
        "    path_or_fileobj=str(GITATTR_PATH),\n",
        "    path_in_repo=REMOTE_GITATTR,\n",
        "    repo_id=REPO_ID,\n",
        "    repo_type=\"dataset\",\n",
        ")\n",
        "\n",
        "if PARQUET_PATH and PARQUET_PATH.exists():\n",
        "    upload_file(\n",
        "        path_or_fileobj=str(PARQUET_PATH),\n",
        "        path_in_repo=REMOTE_PARQUET,\n",
        "        repo_id=REPO_ID,\n",
        "        repo_type=\"dataset\",\n",
        "    )\n",
        "\n",
        "print(\"✅ 上傳完成\")\n",
        "print(f\"👉 瀏覽： https://huggingface.co/datasets/{REPO_ID}\")"
      ],
      "id": "dd562d22-bf69-47f4-b18c-775737ec4c90"
    }
  ],
  "metadata": {
    "kernelspec": {
      "display_name": "Python 3 (ipykernel)",
      "language": "python",
      "name": "python3"
    },
    "language_info": {
      "codemirror_mode": {
        "name": "ipython",
        "version": 3
      },
      "file_extension": ".py",
      "mimetype": "text/x-python",
      "name": "python",
      "nbconvert_exporter": "python",
      "pygments_lexer": "ipython3",
      "version": "3.11.6"
    },
    "colab": {
      "provenance": [],
      "collapsed_sections": [
        "cd084c2b-1741-4a4d-8932-5e6dfdfafcfa"
      ],
      "include_colab_link": true
    },
    "widgets": {
      "application/vnd.jupyter.widget-state+json": {
        "c91e25ccc6034a7c94f52d676c44b94e": {
          "model_module": "@jupyter-widgets/controls",
          "model_name": "HBoxModel",
          "model_module_version": "1.5.0",
          "state": {
            "_dom_classes": [],
            "_model_module": "@jupyter-widgets/controls",
            "_model_module_version": "1.5.0",
            "_model_name": "HBoxModel",
            "_view_count": null,
            "_view_module": "@jupyter-widgets/controls",
            "_view_module_version": "1.5.0",
            "_view_name": "HBoxView",
            "box_style": "",
            "children": [
              "IPY_MODEL_13731b55ad004f798665cdc8af1cfff3",
              "IPY_MODEL_cac6255099324943afc2b4fb4e0df034",
              "IPY_MODEL_b2657e8be0c644558ac96a766b85e29c"
            ],
            "layout": "IPY_MODEL_6d6a9866108f4b248808096ef0dfbeea"
          }
        },
        "13731b55ad004f798665cdc8af1cfff3": {
          "model_module": "@jupyter-widgets/controls",
          "model_name": "HTMLModel",
          "model_module_version": "1.5.0",
          "state": {
            "_dom_classes": [],
            "_model_module": "@jupyter-widgets/controls",
            "_model_module_version": "1.5.0",
            "_model_name": "HTMLModel",
            "_view_count": null,
            "_view_module": "@jupyter-widgets/controls",
            "_view_module_version": "1.5.0",
            "_view_name": "HTMLView",
            "description": "",
            "description_tooltip": null,
            "layout": "IPY_MODEL_c5d372f7efc840aca0e64f3b2a4350fb",
            "placeholder": "​",
            "style": "IPY_MODEL_9ccd9d2c4a6246a2994be3f1eea8be37",
            "value": "Creating parquet from Arrow format: 100%"
          }
        },
        "cac6255099324943afc2b4fb4e0df034": {
          "model_module": "@jupyter-widgets/controls",
          "model_name": "FloatProgressModel",
          "model_module_version": "1.5.0",
          "state": {
            "_dom_classes": [],
            "_model_module": "@jupyter-widgets/controls",
            "_model_module_version": "1.5.0",
            "_model_name": "FloatProgressModel",
            "_view_count": null,
            "_view_module": "@jupyter-widgets/controls",
            "_view_module_version": "1.5.0",
            "_view_name": "ProgressView",
            "bar_style": "success",
            "description": "",
            "description_tooltip": null,
            "layout": "IPY_MODEL_01bb49ccf71e4555a06a6b1933e7c016",
            "max": 1,
            "min": 0,
            "orientation": "horizontal",
            "style": "IPY_MODEL_c6d75ee7208d4e29b3723889751a6284",
            "value": 1
          }
        },
        "b2657e8be0c644558ac96a766b85e29c": {
          "model_module": "@jupyter-widgets/controls",
          "model_name": "HTMLModel",
          "model_module_version": "1.5.0",
          "state": {
            "_dom_classes": [],
            "_model_module": "@jupyter-widgets/controls",
            "_model_module_version": "1.5.0",
            "_model_name": "HTMLModel",
            "_view_count": null,
            "_view_module": "@jupyter-widgets/controls",
            "_view_module_version": "1.5.0",
            "_view_name": "HTMLView",
            "description": "",
            "description_tooltip": null,
            "layout": "IPY_MODEL_c58b638d61764d94a15bc15271296320",
            "placeholder": "​",
            "style": "IPY_MODEL_850eda4161184dd5b7925955ebcd320e",
            "value": " 1/1 [00:00&lt;00:00, 40.58ba/s]"
          }
        },
        "6d6a9866108f4b248808096ef0dfbeea": {
          "model_module": "@jupyter-widgets/base",
          "model_name": "LayoutModel",
          "model_module_version": "1.2.0",
          "state": {
            "_model_module": "@jupyter-widgets/base",
            "_model_module_version": "1.2.0",
            "_model_name": "LayoutModel",
            "_view_count": null,
            "_view_module": "@jupyter-widgets/base",
            "_view_module_version": "1.2.0",
            "_view_name": "LayoutView",
            "align_content": null,
            "align_items": null,
            "align_self": null,
            "border": null,
            "bottom": null,
            "display": null,
            "flex": null,
            "flex_flow": null,
            "grid_area": null,
            "grid_auto_columns": null,
            "grid_auto_flow": null,
            "grid_auto_rows": null,
            "grid_column": null,
            "grid_gap": null,
            "grid_row": null,
            "grid_template_areas": null,
            "grid_template_columns": null,
            "grid_template_rows": null,
            "height": null,
            "justify_content": null,
            "justify_items": null,
            "left": null,
            "margin": null,
            "max_height": null,
            "max_width": null,
            "min_height": null,
            "min_width": null,
            "object_fit": null,
            "object_position": null,
            "order": null,
            "overflow": null,
            "overflow_x": null,
            "overflow_y": null,
            "padding": null,
            "right": null,
            "top": null,
            "visibility": null,
            "width": null
          }
        },
        "c5d372f7efc840aca0e64f3b2a4350fb": {
          "model_module": "@jupyter-widgets/base",
          "model_name": "LayoutModel",
          "model_module_version": "1.2.0",
          "state": {
            "_model_module": "@jupyter-widgets/base",
            "_model_module_version": "1.2.0",
            "_model_name": "LayoutModel",
            "_view_count": null,
            "_view_module": "@jupyter-widgets/base",
            "_view_module_version": "1.2.0",
            "_view_name": "LayoutView",
            "align_content": null,
            "align_items": null,
            "align_self": null,
            "border": null,
            "bottom": null,
            "display": null,
            "flex": null,
            "flex_flow": null,
            "grid_area": null,
            "grid_auto_columns": null,
            "grid_auto_flow": null,
            "grid_auto_rows": null,
            "grid_column": null,
            "grid_gap": null,
            "grid_row": null,
            "grid_template_areas": null,
            "grid_template_columns": null,
            "grid_template_rows": null,
            "height": null,
            "justify_content": null,
            "justify_items": null,
            "left": null,
            "margin": null,
            "max_height": null,
            "max_width": null,
            "min_height": null,
            "min_width": null,
            "object_fit": null,
            "object_position": null,
            "order": null,
            "overflow": null,
            "overflow_x": null,
            "overflow_y": null,
            "padding": null,
            "right": null,
            "top": null,
            "visibility": null,
            "width": null
          }
        },
        "9ccd9d2c4a6246a2994be3f1eea8be37": {
          "model_module": "@jupyter-widgets/controls",
          "model_name": "DescriptionStyleModel",
          "model_module_version": "1.5.0",
          "state": {
            "_model_module": "@jupyter-widgets/controls",
            "_model_module_version": "1.5.0",
            "_model_name": "DescriptionStyleModel",
            "_view_count": null,
            "_view_module": "@jupyter-widgets/base",
            "_view_module_version": "1.2.0",
            "_view_name": "StyleView",
            "description_width": ""
          }
        },
        "01bb49ccf71e4555a06a6b1933e7c016": {
          "model_module": "@jupyter-widgets/base",
          "model_name": "LayoutModel",
          "model_module_version": "1.2.0",
          "state": {
            "_model_module": "@jupyter-widgets/base",
            "_model_module_version": "1.2.0",
            "_model_name": "LayoutModel",
            "_view_count": null,
            "_view_module": "@jupyter-widgets/base",
            "_view_module_version": "1.2.0",
            "_view_name": "LayoutView",
            "align_content": null,
            "align_items": null,
            "align_self": null,
            "border": null,
            "bottom": null,
            "display": null,
            "flex": null,
            "flex_flow": null,
            "grid_area": null,
            "grid_auto_columns": null,
            "grid_auto_flow": null,
            "grid_auto_rows": null,
            "grid_column": null,
            "grid_gap": null,
            "grid_row": null,
            "grid_template_areas": null,
            "grid_template_columns": null,
            "grid_template_rows": null,
            "height": null,
            "justify_content": null,
            "justify_items": null,
            "left": null,
            "margin": null,
            "max_height": null,
            "max_width": null,
            "min_height": null,
            "min_width": null,
            "object_fit": null,
            "object_position": null,
            "order": null,
            "overflow": null,
            "overflow_x": null,
            "overflow_y": null,
            "padding": null,
            "right": null,
            "top": null,
            "visibility": null,
            "width": null
          }
        },
        "c6d75ee7208d4e29b3723889751a6284": {
          "model_module": "@jupyter-widgets/controls",
          "model_name": "ProgressStyleModel",
          "model_module_version": "1.5.0",
          "state": {
            "_model_module": "@jupyter-widgets/controls",
            "_model_module_version": "1.5.0",
            "_model_name": "ProgressStyleModel",
            "_view_count": null,
            "_view_module": "@jupyter-widgets/base",
            "_view_module_version": "1.2.0",
            "_view_name": "StyleView",
            "bar_color": null,
            "description_width": ""
          }
        },
        "c58b638d61764d94a15bc15271296320": {
          "model_module": "@jupyter-widgets/base",
          "model_name": "LayoutModel",
          "model_module_version": "1.2.0",
          "state": {
            "_model_module": "@jupyter-widgets/base",
            "_model_module_version": "1.2.0",
            "_model_name": "LayoutModel",
            "_view_count": null,
            "_view_module": "@jupyter-widgets/base",
            "_view_module_version": "1.2.0",
            "_view_name": "LayoutView",
            "align_content": null,
            "align_items": null,
            "align_self": null,
            "border": null,
            "bottom": null,
            "display": null,
            "flex": null,
            "flex_flow": null,
            "grid_area": null,
            "grid_auto_columns": null,
            "grid_auto_flow": null,
            "grid_auto_rows": null,
            "grid_column": null,
            "grid_gap": null,
            "grid_row": null,
            "grid_template_areas": null,
            "grid_template_columns": null,
            "grid_template_rows": null,
            "height": null,
            "justify_content": null,
            "justify_items": null,
            "left": null,
            "margin": null,
            "max_height": null,
            "max_width": null,
            "min_height": null,
            "min_width": null,
            "object_fit": null,
            "object_position": null,
            "order": null,
            "overflow": null,
            "overflow_x": null,
            "overflow_y": null,
            "padding": null,
            "right": null,
            "top": null,
            "visibility": null,
            "width": null
          }
        },
        "850eda4161184dd5b7925955ebcd320e": {
          "model_module": "@jupyter-widgets/controls",
          "model_name": "DescriptionStyleModel",
          "model_module_version": "1.5.0",
          "state": {
            "_model_module": "@jupyter-widgets/controls",
            "_model_module_version": "1.5.0",
            "_model_name": "DescriptionStyleModel",
            "_view_count": null,
            "_view_module": "@jupyter-widgets/base",
            "_view_module_version": "1.2.0",
            "_view_name": "StyleView",
            "description_width": ""
          }
        },
        "9b63f7b54d1d467a9fb6db05fa0f4d22": {
          "model_module": "@jupyter-widgets/controls",
          "model_name": "HBoxModel",
          "model_module_version": "1.5.0",
          "state": {
            "_dom_classes": [],
            "_model_module": "@jupyter-widgets/controls",
            "_model_module_version": "1.5.0",
            "_model_name": "HBoxModel",
            "_view_count": null,
            "_view_module": "@jupyter-widgets/controls",
            "_view_module_version": "1.5.0",
            "_view_name": "HBoxView",
            "box_style": "",
            "children": [
              "IPY_MODEL_e3a1b058363143d6a6d880fad566eb60",
              "IPY_MODEL_6b480e1bbd424748843f1d8f5c29cc32",
              "IPY_MODEL_53c6620d77e94493a7ab2ec4c85d9dd9"
            ],
            "layout": "IPY_MODEL_672207930bf74056896786b279637c72"
          }
        },
        "e3a1b058363143d6a6d880fad566eb60": {
          "model_module": "@jupyter-widgets/controls",
          "model_name": "HTMLModel",
          "model_module_version": "1.5.0",
          "state": {
            "_dom_classes": [],
            "_model_module": "@jupyter-widgets/controls",
            "_model_module_version": "1.5.0",
            "_model_name": "HTMLModel",
            "_view_count": null,
            "_view_module": "@jupyter-widgets/controls",
            "_view_module_version": "1.5.0",
            "_view_name": "HTMLView",
            "description": "",
            "description_tooltip": null,
            "layout": "IPY_MODEL_bda31933ed0f4beeb946cba939924164",
            "placeholder": "​",
            "style": "IPY_MODEL_d7050aa8916b47bebd0ea2f7b439f38f",
            "value": "Processing Files (1 / 1)                : 100%"
          }
        },
        "6b480e1bbd424748843f1d8f5c29cc32": {
          "model_module": "@jupyter-widgets/controls",
          "model_name": "FloatProgressModel",
          "model_module_version": "1.5.0",
          "state": {
            "_dom_classes": [],
            "_model_module": "@jupyter-widgets/controls",
            "_model_module_version": "1.5.0",
            "_model_name": "FloatProgressModel",
            "_view_count": null,
            "_view_module": "@jupyter-widgets/controls",
            "_view_module_version": "1.5.0",
            "_view_name": "ProgressView",
            "bar_style": "success",
            "description": "",
            "description_tooltip": null,
            "layout": "IPY_MODEL_b8dde2ad8fa842859cada5ed80d62e5e",
            "max": 1,
            "min": 0,
            "orientation": "horizontal",
            "style": "IPY_MODEL_168e77f14c2246a884170abbc354e7c0",
            "value": 1
          }
        },
        "53c6620d77e94493a7ab2ec4c85d9dd9": {
          "model_module": "@jupyter-widgets/controls",
          "model_name": "HTMLModel",
          "model_module_version": "1.5.0",
          "state": {
            "_dom_classes": [],
            "_model_module": "@jupyter-widgets/controls",
            "_model_module_version": "1.5.0",
            "_model_name": "HTMLModel",
            "_view_count": null,
            "_view_module": "@jupyter-widgets/controls",
            "_view_module_version": "1.5.0",
            "_view_name": "HTMLView",
            "description": "",
            "description_tooltip": null,
            "layout": "IPY_MODEL_51df796cf27947fbbd9265418c1b6c53",
            "placeholder": "​",
            "style": "IPY_MODEL_04c788403c854984b2fbf382c66ad739",
            "value": " 69.5kB / 69.5kB,  174kB/s  "
          }
        },
        "672207930bf74056896786b279637c72": {
          "model_module": "@jupyter-widgets/base",
          "model_name": "LayoutModel",
          "model_module_version": "1.2.0",
          "state": {
            "_model_module": "@jupyter-widgets/base",
            "_model_module_version": "1.2.0",
            "_model_name": "LayoutModel",
            "_view_count": null,
            "_view_module": "@jupyter-widgets/base",
            "_view_module_version": "1.2.0",
            "_view_name": "LayoutView",
            "align_content": null,
            "align_items": null,
            "align_self": null,
            "border": null,
            "bottom": null,
            "display": null,
            "flex": null,
            "flex_flow": null,
            "grid_area": null,
            "grid_auto_columns": null,
            "grid_auto_flow": null,
            "grid_auto_rows": null,
            "grid_column": null,
            "grid_gap": null,
            "grid_row": null,
            "grid_template_areas": null,
            "grid_template_columns": null,
            "grid_template_rows": null,
            "height": null,
            "justify_content": null,
            "justify_items": null,
            "left": null,
            "margin": null,
            "max_height": null,
            "max_width": null,
            "min_height": null,
            "min_width": null,
            "object_fit": null,
            "object_position": null,
            "order": null,
            "overflow": null,
            "overflow_x": null,
            "overflow_y": null,
            "padding": null,
            "right": null,
            "top": null,
            "visibility": null,
            "width": null
          }
        },
        "bda31933ed0f4beeb946cba939924164": {
          "model_module": "@jupyter-widgets/base",
          "model_name": "LayoutModel",
          "model_module_version": "1.2.0",
          "state": {
            "_model_module": "@jupyter-widgets/base",
            "_model_module_version": "1.2.0",
            "_model_name": "LayoutModel",
            "_view_count": null,
            "_view_module": "@jupyter-widgets/base",
            "_view_module_version": "1.2.0",
            "_view_name": "LayoutView",
            "align_content": null,
            "align_items": null,
            "align_self": null,
            "border": null,
            "bottom": null,
            "display": null,
            "flex": null,
            "flex_flow": null,
            "grid_area": null,
            "grid_auto_columns": null,
            "grid_auto_flow": null,
            "grid_auto_rows": null,
            "grid_column": null,
            "grid_gap": null,
            "grid_row": null,
            "grid_template_areas": null,
            "grid_template_columns": null,
            "grid_template_rows": null,
            "height": null,
            "justify_content": null,
            "justify_items": null,
            "left": null,
            "margin": null,
            "max_height": null,
            "max_width": null,
            "min_height": null,
            "min_width": null,
            "object_fit": null,
            "object_position": null,
            "order": null,
            "overflow": null,
            "overflow_x": null,
            "overflow_y": null,
            "padding": null,
            "right": null,
            "top": null,
            "visibility": null,
            "width": null
          }
        },
        "d7050aa8916b47bebd0ea2f7b439f38f": {
          "model_module": "@jupyter-widgets/controls",
          "model_name": "DescriptionStyleModel",
          "model_module_version": "1.5.0",
          "state": {
            "_model_module": "@jupyter-widgets/controls",
            "_model_module_version": "1.5.0",
            "_model_name": "DescriptionStyleModel",
            "_view_count": null,
            "_view_module": "@jupyter-widgets/base",
            "_view_module_version": "1.2.0",
            "_view_name": "StyleView",
            "description_width": ""
          }
        },
        "b8dde2ad8fa842859cada5ed80d62e5e": {
          "model_module": "@jupyter-widgets/base",
          "model_name": "LayoutModel",
          "model_module_version": "1.2.0",
          "state": {
            "_model_module": "@jupyter-widgets/base",
            "_model_module_version": "1.2.0",
            "_model_name": "LayoutModel",
            "_view_count": null,
            "_view_module": "@jupyter-widgets/base",
            "_view_module_version": "1.2.0",
            "_view_name": "LayoutView",
            "align_content": null,
            "align_items": null,
            "align_self": null,
            "border": null,
            "bottom": null,
            "display": null,
            "flex": null,
            "flex_flow": null,
            "grid_area": null,
            "grid_auto_columns": null,
            "grid_auto_flow": null,
            "grid_auto_rows": null,
            "grid_column": null,
            "grid_gap": null,
            "grid_row": null,
            "grid_template_areas": null,
            "grid_template_columns": null,
            "grid_template_rows": null,
            "height": null,
            "justify_content": null,
            "justify_items": null,
            "left": null,
            "margin": null,
            "max_height": null,
            "max_width": null,
            "min_height": null,
            "min_width": null,
            "object_fit": null,
            "object_position": null,
            "order": null,
            "overflow": null,
            "overflow_x": null,
            "overflow_y": null,
            "padding": null,
            "right": null,
            "top": null,
            "visibility": null,
            "width": "20px"
          }
        },
        "168e77f14c2246a884170abbc354e7c0": {
          "model_module": "@jupyter-widgets/controls",
          "model_name": "ProgressStyleModel",
          "model_module_version": "1.5.0",
          "state": {
            "_model_module": "@jupyter-widgets/controls",
            "_model_module_version": "1.5.0",
            "_model_name": "ProgressStyleModel",
            "_view_count": null,
            "_view_module": "@jupyter-widgets/base",
            "_view_module_version": "1.2.0",
            "_view_name": "StyleView",
            "bar_color": null,
            "description_width": ""
          }
        },
        "51df796cf27947fbbd9265418c1b6c53": {
          "model_module": "@jupyter-widgets/base",
          "model_name": "LayoutModel",
          "model_module_version": "1.2.0",
          "state": {
            "_model_module": "@jupyter-widgets/base",
            "_model_module_version": "1.2.0",
            "_model_name": "LayoutModel",
            "_view_count": null,
            "_view_module": "@jupyter-widgets/base",
            "_view_module_version": "1.2.0",
            "_view_name": "LayoutView",
            "align_content": null,
            "align_items": null,
            "align_self": null,
            "border": null,
            "bottom": null,
            "display": null,
            "flex": null,
            "flex_flow": null,
            "grid_area": null,
            "grid_auto_columns": null,
            "grid_auto_flow": null,
            "grid_auto_rows": null,
            "grid_column": null,
            "grid_gap": null,
            "grid_row": null,
            "grid_template_areas": null,
            "grid_template_columns": null,
            "grid_template_rows": null,
            "height": null,
            "justify_content": null,
            "justify_items": null,
            "left": null,
            "margin": null,
            "max_height": null,
            "max_width": null,
            "min_height": null,
            "min_width": null,
            "object_fit": null,
            "object_position": null,
            "order": null,
            "overflow": null,
            "overflow_x": null,
            "overflow_y": null,
            "padding": null,
            "right": null,
            "top": null,
            "visibility": null,
            "width": null
          }
        },
        "04c788403c854984b2fbf382c66ad739": {
          "model_module": "@jupyter-widgets/controls",
          "model_name": "DescriptionStyleModel",
          "model_module_version": "1.5.0",
          "state": {
            "_model_module": "@jupyter-widgets/controls",
            "_model_module_version": "1.5.0",
            "_model_name": "DescriptionStyleModel",
            "_view_count": null,
            "_view_module": "@jupyter-widgets/base",
            "_view_module_version": "1.2.0",
            "_view_name": "StyleView",
            "description_width": ""
          }
        },
        "a8b0edfbff934a2eb78b0b858fb1fad1": {
          "model_module": "@jupyter-widgets/controls",
          "model_name": "HBoxModel",
          "model_module_version": "1.5.0",
          "state": {
            "_dom_classes": [],
            "_model_module": "@jupyter-widgets/controls",
            "_model_module_version": "1.5.0",
            "_model_name": "HBoxModel",
            "_view_count": null,
            "_view_module": "@jupyter-widgets/controls",
            "_view_module_version": "1.5.0",
            "_view_name": "HBoxView",
            "box_style": "",
            "children": [
              "IPY_MODEL_407c85019fa946109c1eb0bd8beb50fe",
              "IPY_MODEL_f30c554c31644300ba33e4bcacded9cb",
              "IPY_MODEL_cd30de9e72c64e4a8c1beefeab3807cd"
            ],
            "layout": "IPY_MODEL_d23709045e2040439721c14a84691bb8"
          }
        },
        "407c85019fa946109c1eb0bd8beb50fe": {
          "model_module": "@jupyter-widgets/controls",
          "model_name": "HTMLModel",
          "model_module_version": "1.5.0",
          "state": {
            "_dom_classes": [],
            "_model_module": "@jupyter-widgets/controls",
            "_model_module_version": "1.5.0",
            "_model_name": "HTMLModel",
            "_view_count": null,
            "_view_module": "@jupyter-widgets/controls",
            "_view_module_version": "1.5.0",
            "_view_name": "HTMLView",
            "description": "",
            "description_tooltip": null,
            "layout": "IPY_MODEL_c9de0f26c0654ca1ab7323a862d928f6",
            "placeholder": "​",
            "style": "IPY_MODEL_03d101d933884218af93f9928ddd33ea",
            "value": "New Data Upload                         : 100%"
          }
        },
        "f30c554c31644300ba33e4bcacded9cb": {
          "model_module": "@jupyter-widgets/controls",
          "model_name": "FloatProgressModel",
          "model_module_version": "1.5.0",
          "state": {
            "_dom_classes": [],
            "_model_module": "@jupyter-widgets/controls",
            "_model_module_version": "1.5.0",
            "_model_name": "FloatProgressModel",
            "_view_count": null,
            "_view_module": "@jupyter-widgets/controls",
            "_view_module_version": "1.5.0",
            "_view_name": "ProgressView",
            "bar_style": "success",
            "description": "",
            "description_tooltip": null,
            "layout": "IPY_MODEL_d89cf9e9c5e24d77afe223d4f2c40f12",
            "max": 1,
            "min": 0,
            "orientation": "horizontal",
            "style": "IPY_MODEL_1da9689469644863abce276ad1e5f3b7",
            "value": 1
          }
        },
        "cd30de9e72c64e4a8c1beefeab3807cd": {
          "model_module": "@jupyter-widgets/controls",
          "model_name": "HTMLModel",
          "model_module_version": "1.5.0",
          "state": {
            "_dom_classes": [],
            "_model_module": "@jupyter-widgets/controls",
            "_model_module_version": "1.5.0",
            "_model_name": "HTMLModel",
            "_view_count": null,
            "_view_module": "@jupyter-widgets/controls",
            "_view_module_version": "1.5.0",
            "_view_name": "HTMLView",
            "description": "",
            "description_tooltip": null,
            "layout": "IPY_MODEL_ed2f10039e4e425d8b53aeedfc0a6ee8",
            "placeholder": "​",
            "style": "IPY_MODEL_bc8fbbace35847e19ca731d5c8f29093",
            "value": " 69.5kB / 69.5kB,  174kB/s  "
          }
        },
        "d23709045e2040439721c14a84691bb8": {
          "model_module": "@jupyter-widgets/base",
          "model_name": "LayoutModel",
          "model_module_version": "1.2.0",
          "state": {
            "_model_module": "@jupyter-widgets/base",
            "_model_module_version": "1.2.0",
            "_model_name": "LayoutModel",
            "_view_count": null,
            "_view_module": "@jupyter-widgets/base",
            "_view_module_version": "1.2.0",
            "_view_name": "LayoutView",
            "align_content": null,
            "align_items": null,
            "align_self": null,
            "border": null,
            "bottom": null,
            "display": null,
            "flex": null,
            "flex_flow": null,
            "grid_area": null,
            "grid_auto_columns": null,
            "grid_auto_flow": null,
            "grid_auto_rows": null,
            "grid_column": null,
            "grid_gap": null,
            "grid_row": null,
            "grid_template_areas": null,
            "grid_template_columns": null,
            "grid_template_rows": null,
            "height": null,
            "justify_content": null,
            "justify_items": null,
            "left": null,
            "margin": null,
            "max_height": null,
            "max_width": null,
            "min_height": null,
            "min_width": null,
            "object_fit": null,
            "object_position": null,
            "order": null,
            "overflow": null,
            "overflow_x": null,
            "overflow_y": null,
            "padding": null,
            "right": null,
            "top": null,
            "visibility": null,
            "width": null
          }
        },
        "c9de0f26c0654ca1ab7323a862d928f6": {
          "model_module": "@jupyter-widgets/base",
          "model_name": "LayoutModel",
          "model_module_version": "1.2.0",
          "state": {
            "_model_module": "@jupyter-widgets/base",
            "_model_module_version": "1.2.0",
            "_model_name": "LayoutModel",
            "_view_count": null,
            "_view_module": "@jupyter-widgets/base",
            "_view_module_version": "1.2.0",
            "_view_name": "LayoutView",
            "align_content": null,
            "align_items": null,
            "align_self": null,
            "border": null,
            "bottom": null,
            "display": null,
            "flex": null,
            "flex_flow": null,
            "grid_area": null,
            "grid_auto_columns": null,
            "grid_auto_flow": null,
            "grid_auto_rows": null,
            "grid_column": null,
            "grid_gap": null,
            "grid_row": null,
            "grid_template_areas": null,
            "grid_template_columns": null,
            "grid_template_rows": null,
            "height": null,
            "justify_content": null,
            "justify_items": null,
            "left": null,
            "margin": null,
            "max_height": null,
            "max_width": null,
            "min_height": null,
            "min_width": null,
            "object_fit": null,
            "object_position": null,
            "order": null,
            "overflow": null,
            "overflow_x": null,
            "overflow_y": null,
            "padding": null,
            "right": null,
            "top": null,
            "visibility": null,
            "width": null
          }
        },
        "03d101d933884218af93f9928ddd33ea": {
          "model_module": "@jupyter-widgets/controls",
          "model_name": "DescriptionStyleModel",
          "model_module_version": "1.5.0",
          "state": {
            "_model_module": "@jupyter-widgets/controls",
            "_model_module_version": "1.5.0",
            "_model_name": "DescriptionStyleModel",
            "_view_count": null,
            "_view_module": "@jupyter-widgets/base",
            "_view_module_version": "1.2.0",
            "_view_name": "StyleView",
            "description_width": ""
          }
        },
        "d89cf9e9c5e24d77afe223d4f2c40f12": {
          "model_module": "@jupyter-widgets/base",
          "model_name": "LayoutModel",
          "model_module_version": "1.2.0",
          "state": {
            "_model_module": "@jupyter-widgets/base",
            "_model_module_version": "1.2.0",
            "_model_name": "LayoutModel",
            "_view_count": null,
            "_view_module": "@jupyter-widgets/base",
            "_view_module_version": "1.2.0",
            "_view_name": "LayoutView",
            "align_content": null,
            "align_items": null,
            "align_self": null,
            "border": null,
            "bottom": null,
            "display": null,
            "flex": null,
            "flex_flow": null,
            "grid_area": null,
            "grid_auto_columns": null,
            "grid_auto_flow": null,
            "grid_auto_rows": null,
            "grid_column": null,
            "grid_gap": null,
            "grid_row": null,
            "grid_template_areas": null,
            "grid_template_columns": null,
            "grid_template_rows": null,
            "height": null,
            "justify_content": null,
            "justify_items": null,
            "left": null,
            "margin": null,
            "max_height": null,
            "max_width": null,
            "min_height": null,
            "min_width": null,
            "object_fit": null,
            "object_position": null,
            "order": null,
            "overflow": null,
            "overflow_x": null,
            "overflow_y": null,
            "padding": null,
            "right": null,
            "top": null,
            "visibility": null,
            "width": "20px"
          }
        },
        "1da9689469644863abce276ad1e5f3b7": {
          "model_module": "@jupyter-widgets/controls",
          "model_name": "ProgressStyleModel",
          "model_module_version": "1.5.0",
          "state": {
            "_model_module": "@jupyter-widgets/controls",
            "_model_module_version": "1.5.0",
            "_model_name": "ProgressStyleModel",
            "_view_count": null,
            "_view_module": "@jupyter-widgets/base",
            "_view_module_version": "1.2.0",
            "_view_name": "StyleView",
            "bar_color": null,
            "description_width": ""
          }
        },
        "ed2f10039e4e425d8b53aeedfc0a6ee8": {
          "model_module": "@jupyter-widgets/base",
          "model_name": "LayoutModel",
          "model_module_version": "1.2.0",
          "state": {
            "_model_module": "@jupyter-widgets/base",
            "_model_module_version": "1.2.0",
            "_model_name": "LayoutModel",
            "_view_count": null,
            "_view_module": "@jupyter-widgets/base",
            "_view_module_version": "1.2.0",
            "_view_name": "LayoutView",
            "align_content": null,
            "align_items": null,
            "align_self": null,
            "border": null,
            "bottom": null,
            "display": null,
            "flex": null,
            "flex_flow": null,
            "grid_area": null,
            "grid_auto_columns": null,
            "grid_auto_flow": null,
            "grid_auto_rows": null,
            "grid_column": null,
            "grid_gap": null,
            "grid_row": null,
            "grid_template_areas": null,
            "grid_template_columns": null,
            "grid_template_rows": null,
            "height": null,
            "justify_content": null,
            "justify_items": null,
            "left": null,
            "margin": null,
            "max_height": null,
            "max_width": null,
            "min_height": null,
            "min_width": null,
            "object_fit": null,
            "object_position": null,
            "order": null,
            "overflow": null,
            "overflow_x": null,
            "overflow_y": null,
            "padding": null,
            "right": null,
            "top": null,
            "visibility": null,
            "width": null
          }
        },
        "bc8fbbace35847e19ca731d5c8f29093": {
          "model_module": "@jupyter-widgets/controls",
          "model_name": "DescriptionStyleModel",
          "model_module_version": "1.5.0",
          "state": {
            "_model_module": "@jupyter-widgets/controls",
            "_model_module_version": "1.5.0",
            "_model_name": "DescriptionStyleModel",
            "_view_count": null,
            "_view_module": "@jupyter-widgets/base",
            "_view_module_version": "1.2.0",
            "_view_name": "StyleView",
            "description_width": ""
          }
        },
        "1ef55a8510074674b04dd33bf11e0966": {
          "model_module": "@jupyter-widgets/controls",
          "model_name": "HBoxModel",
          "model_module_version": "1.5.0",
          "state": {
            "_dom_classes": [],
            "_model_module": "@jupyter-widgets/controls",
            "_model_module_version": "1.5.0",
            "_model_name": "HBoxModel",
            "_view_count": null,
            "_view_module": "@jupyter-widgets/controls",
            "_view_module_version": "1.5.0",
            "_view_name": "HBoxView",
            "box_style": "",
            "children": [
              "IPY_MODEL_880ce95de5344905b01490ab77791ecd",
              "IPY_MODEL_cd4ea41d9e4840898c702ec214bc38f6",
              "IPY_MODEL_96ef472afbb84a36a12caa4827e49904"
            ],
            "layout": "IPY_MODEL_4dfd57e35e414aec866305e1c3862f43"
          }
        },
        "880ce95de5344905b01490ab77791ecd": {
          "model_module": "@jupyter-widgets/controls",
          "model_name": "HTMLModel",
          "model_module_version": "1.5.0",
          "state": {
            "_dom_classes": [],
            "_model_module": "@jupyter-widgets/controls",
            "_model_module_version": "1.5.0",
            "_model_name": "HTMLModel",
            "_view_count": null,
            "_view_module": "@jupyter-widgets/controls",
            "_view_module_version": "1.5.0",
            "_view_name": "HTMLView",
            "description": "",
            "description_tooltip": null,
            "layout": "IPY_MODEL_f3085f5a5d2d4e5baf91834a7aff0823",
            "placeholder": "​",
            "style": "IPY_MODEL_beadea8e78804664bbfcbd95527fda43",
            "value": "  outputs/datasets.jsonl                : 100%"
          }
        },
        "cd4ea41d9e4840898c702ec214bc38f6": {
          "model_module": "@jupyter-widgets/controls",
          "model_name": "FloatProgressModel",
          "model_module_version": "1.5.0",
          "state": {
            "_dom_classes": [],
            "_model_module": "@jupyter-widgets/controls",
            "_model_module_version": "1.5.0",
            "_model_name": "FloatProgressModel",
            "_view_count": null,
            "_view_module": "@jupyter-widgets/controls",
            "_view_module_version": "1.5.0",
            "_view_name": "ProgressView",
            "bar_style": "success",
            "description": "",
            "description_tooltip": null,
            "layout": "IPY_MODEL_3d306af68c664ed0a366e85aaf0dfcdb",
            "max": 69538,
            "min": 0,
            "orientation": "horizontal",
            "style": "IPY_MODEL_083c8e025835406ab0d2e80e7f4a20a4",
            "value": 69538
          }
        },
        "96ef472afbb84a36a12caa4827e49904": {
          "model_module": "@jupyter-widgets/controls",
          "model_name": "HTMLModel",
          "model_module_version": "1.5.0",
          "state": {
            "_dom_classes": [],
            "_model_module": "@jupyter-widgets/controls",
            "_model_module_version": "1.5.0",
            "_model_name": "HTMLModel",
            "_view_count": null,
            "_view_module": "@jupyter-widgets/controls",
            "_view_module_version": "1.5.0",
            "_view_name": "HTMLView",
            "description": "",
            "description_tooltip": null,
            "layout": "IPY_MODEL_5e3d5a36afe548e58fbc97360205c798",
            "placeholder": "​",
            "style": "IPY_MODEL_6ebb44e73cff4db28191370741b00fec",
            "value": " 69.5kB / 69.5kB            "
          }
        },
        "4dfd57e35e414aec866305e1c3862f43": {
          "model_module": "@jupyter-widgets/base",
          "model_name": "LayoutModel",
          "model_module_version": "1.2.0",
          "state": {
            "_model_module": "@jupyter-widgets/base",
            "_model_module_version": "1.2.0",
            "_model_name": "LayoutModel",
            "_view_count": null,
            "_view_module": "@jupyter-widgets/base",
            "_view_module_version": "1.2.0",
            "_view_name": "LayoutView",
            "align_content": null,
            "align_items": null,
            "align_self": null,
            "border": null,
            "bottom": null,
            "display": null,
            "flex": null,
            "flex_flow": null,
            "grid_area": null,
            "grid_auto_columns": null,
            "grid_auto_flow": null,
            "grid_auto_rows": null,
            "grid_column": null,
            "grid_gap": null,
            "grid_row": null,
            "grid_template_areas": null,
            "grid_template_columns": null,
            "grid_template_rows": null,
            "height": null,
            "justify_content": null,
            "justify_items": null,
            "left": null,
            "margin": null,
            "max_height": null,
            "max_width": null,
            "min_height": null,
            "min_width": null,
            "object_fit": null,
            "object_position": null,
            "order": null,
            "overflow": null,
            "overflow_x": null,
            "overflow_y": null,
            "padding": null,
            "right": null,
            "top": null,
            "visibility": null,
            "width": null
          }
        },
        "f3085f5a5d2d4e5baf91834a7aff0823": {
          "model_module": "@jupyter-widgets/base",
          "model_name": "LayoutModel",
          "model_module_version": "1.2.0",
          "state": {
            "_model_module": "@jupyter-widgets/base",
            "_model_module_version": "1.2.0",
            "_model_name": "LayoutModel",
            "_view_count": null,
            "_view_module": "@jupyter-widgets/base",
            "_view_module_version": "1.2.0",
            "_view_name": "LayoutView",
            "align_content": null,
            "align_items": null,
            "align_self": null,
            "border": null,
            "bottom": null,
            "display": null,
            "flex": null,
            "flex_flow": null,
            "grid_area": null,
            "grid_auto_columns": null,
            "grid_auto_flow": null,
            "grid_auto_rows": null,
            "grid_column": null,
            "grid_gap": null,
            "grid_row": null,
            "grid_template_areas": null,
            "grid_template_columns": null,
            "grid_template_rows": null,
            "height": null,
            "justify_content": null,
            "justify_items": null,
            "left": null,
            "margin": null,
            "max_height": null,
            "max_width": null,
            "min_height": null,
            "min_width": null,
            "object_fit": null,
            "object_position": null,
            "order": null,
            "overflow": null,
            "overflow_x": null,
            "overflow_y": null,
            "padding": null,
            "right": null,
            "top": null,
            "visibility": null,
            "width": null
          }
        },
        "beadea8e78804664bbfcbd95527fda43": {
          "model_module": "@jupyter-widgets/controls",
          "model_name": "DescriptionStyleModel",
          "model_module_version": "1.5.0",
          "state": {
            "_model_module": "@jupyter-widgets/controls",
            "_model_module_version": "1.5.0",
            "_model_name": "DescriptionStyleModel",
            "_view_count": null,
            "_view_module": "@jupyter-widgets/base",
            "_view_module_version": "1.2.0",
            "_view_name": "StyleView",
            "description_width": ""
          }
        },
        "3d306af68c664ed0a366e85aaf0dfcdb": {
          "model_module": "@jupyter-widgets/base",
          "model_name": "LayoutModel",
          "model_module_version": "1.2.0",
          "state": {
            "_model_module": "@jupyter-widgets/base",
            "_model_module_version": "1.2.0",
            "_model_name": "LayoutModel",
            "_view_count": null,
            "_view_module": "@jupyter-widgets/base",
            "_view_module_version": "1.2.0",
            "_view_name": "LayoutView",
            "align_content": null,
            "align_items": null,
            "align_self": null,
            "border": null,
            "bottom": null,
            "display": null,
            "flex": null,
            "flex_flow": null,
            "grid_area": null,
            "grid_auto_columns": null,
            "grid_auto_flow": null,
            "grid_auto_rows": null,
            "grid_column": null,
            "grid_gap": null,
            "grid_row": null,
            "grid_template_areas": null,
            "grid_template_columns": null,
            "grid_template_rows": null,
            "height": null,
            "justify_content": null,
            "justify_items": null,
            "left": null,
            "margin": null,
            "max_height": null,
            "max_width": null,
            "min_height": null,
            "min_width": null,
            "object_fit": null,
            "object_position": null,
            "order": null,
            "overflow": null,
            "overflow_x": null,
            "overflow_y": null,
            "padding": null,
            "right": null,
            "top": null,
            "visibility": null,
            "width": null
          }
        },
        "083c8e025835406ab0d2e80e7f4a20a4": {
          "model_module": "@jupyter-widgets/controls",
          "model_name": "ProgressStyleModel",
          "model_module_version": "1.5.0",
          "state": {
            "_model_module": "@jupyter-widgets/controls",
            "_model_module_version": "1.5.0",
            "_model_name": "ProgressStyleModel",
            "_view_count": null,
            "_view_module": "@jupyter-widgets/base",
            "_view_module_version": "1.2.0",
            "_view_name": "StyleView",
            "bar_color": null,
            "description_width": ""
          }
        },
        "5e3d5a36afe548e58fbc97360205c798": {
          "model_module": "@jupyter-widgets/base",
          "model_name": "LayoutModel",
          "model_module_version": "1.2.0",
          "state": {
            "_model_module": "@jupyter-widgets/base",
            "_model_module_version": "1.2.0",
            "_model_name": "LayoutModel",
            "_view_count": null,
            "_view_module": "@jupyter-widgets/base",
            "_view_module_version": "1.2.0",
            "_view_name": "LayoutView",
            "align_content": null,
            "align_items": null,
            "align_self": null,
            "border": null,
            "bottom": null,
            "display": null,
            "flex": null,
            "flex_flow": null,
            "grid_area": null,
            "grid_auto_columns": null,
            "grid_auto_flow": null,
            "grid_auto_rows": null,
            "grid_column": null,
            "grid_gap": null,
            "grid_row": null,
            "grid_template_areas": null,
            "grid_template_columns": null,
            "grid_template_rows": null,
            "height": null,
            "justify_content": null,
            "justify_items": null,
            "left": null,
            "margin": null,
            "max_height": null,
            "max_width": null,
            "min_height": null,
            "min_width": null,
            "object_fit": null,
            "object_position": null,
            "order": null,
            "overflow": null,
            "overflow_x": null,
            "overflow_y": null,
            "padding": null,
            "right": null,
            "top": null,
            "visibility": null,
            "width": null
          }
        },
        "6ebb44e73cff4db28191370741b00fec": {
          "model_module": "@jupyter-widgets/controls",
          "model_name": "DescriptionStyleModel",
          "model_module_version": "1.5.0",
          "state": {
            "_model_module": "@jupyter-widgets/controls",
            "_model_module_version": "1.5.0",
            "_model_name": "DescriptionStyleModel",
            "_view_count": null,
            "_view_module": "@jupyter-widgets/base",
            "_view_module_version": "1.2.0",
            "_view_name": "StyleView",
            "description_width": ""
          }
        },
        "e386f44e49a1465f941b8be9a0122fb1": {
          "model_module": "@jupyter-widgets/controls",
          "model_name": "HBoxModel",
          "model_module_version": "1.5.0",
          "state": {
            "_dom_classes": [],
            "_model_module": "@jupyter-widgets/controls",
            "_model_module_version": "1.5.0",
            "_model_name": "HBoxModel",
            "_view_count": null,
            "_view_module": "@jupyter-widgets/controls",
            "_view_module_version": "1.5.0",
            "_view_name": "HBoxView",
            "box_style": "",
            "children": [
              "IPY_MODEL_464b2f8c754545f188e22354fa5656b2",
              "IPY_MODEL_135ad0f12d9f4856b6db2525a2e7d6f2",
              "IPY_MODEL_7b69d2e073c34debb8c1f67e4abe43e6"
            ],
            "layout": "IPY_MODEL_22f7305ccc934e288c3301f4c034949e"
          }
        },
        "464b2f8c754545f188e22354fa5656b2": {
          "model_module": "@jupyter-widgets/controls",
          "model_name": "HTMLModel",
          "model_module_version": "1.5.0",
          "state": {
            "_dom_classes": [],
            "_model_module": "@jupyter-widgets/controls",
            "_model_module_version": "1.5.0",
            "_model_name": "HTMLModel",
            "_view_count": null,
            "_view_module": "@jupyter-widgets/controls",
            "_view_module_version": "1.5.0",
            "_view_name": "HTMLView",
            "description": "",
            "description_tooltip": null,
            "layout": "IPY_MODEL_fc1baa2c97ce4ab1800174f7a8dc9f5e",
            "placeholder": "​",
            "style": "IPY_MODEL_0805f99a9a23458c9ed5770a0aca463a",
            "value": "Processing Files (1 / 1)                : 100%"
          }
        },
        "135ad0f12d9f4856b6db2525a2e7d6f2": {
          "model_module": "@jupyter-widgets/controls",
          "model_name": "FloatProgressModel",
          "model_module_version": "1.5.0",
          "state": {
            "_dom_classes": [],
            "_model_module": "@jupyter-widgets/controls",
            "_model_module_version": "1.5.0",
            "_model_name": "FloatProgressModel",
            "_view_count": null,
            "_view_module": "@jupyter-widgets/controls",
            "_view_module_version": "1.5.0",
            "_view_name": "ProgressView",
            "bar_style": "success",
            "description": "",
            "description_tooltip": null,
            "layout": "IPY_MODEL_08a60d97e888439cbca68cdfbbd91c72",
            "max": 1,
            "min": 0,
            "orientation": "horizontal",
            "style": "IPY_MODEL_5402917fe7b74add855ac97ed388c50b",
            "value": 1
          }
        },
        "7b69d2e073c34debb8c1f67e4abe43e6": {
          "model_module": "@jupyter-widgets/controls",
          "model_name": "HTMLModel",
          "model_module_version": "1.5.0",
          "state": {
            "_dom_classes": [],
            "_model_module": "@jupyter-widgets/controls",
            "_model_module_version": "1.5.0",
            "_model_name": "HTMLModel",
            "_view_count": null,
            "_view_module": "@jupyter-widgets/controls",
            "_view_module_version": "1.5.0",
            "_view_name": "HTMLView",
            "description": "",
            "description_tooltip": null,
            "layout": "IPY_MODEL_6755033e680049f391bcba6f9c55762f",
            "placeholder": "​",
            "style": "IPY_MODEL_6bd62bd1ff8345b28eb37636a8f6ea34",
            "value": " 30.0kB / 30.0kB, 18.8kB/s  "
          }
        },
        "22f7305ccc934e288c3301f4c034949e": {
          "model_module": "@jupyter-widgets/base",
          "model_name": "LayoutModel",
          "model_module_version": "1.2.0",
          "state": {
            "_model_module": "@jupyter-widgets/base",
            "_model_module_version": "1.2.0",
            "_model_name": "LayoutModel",
            "_view_count": null,
            "_view_module": "@jupyter-widgets/base",
            "_view_module_version": "1.2.0",
            "_view_name": "LayoutView",
            "align_content": null,
            "align_items": null,
            "align_self": null,
            "border": null,
            "bottom": null,
            "display": null,
            "flex": null,
            "flex_flow": null,
            "grid_area": null,
            "grid_auto_columns": null,
            "grid_auto_flow": null,
            "grid_auto_rows": null,
            "grid_column": null,
            "grid_gap": null,
            "grid_row": null,
            "grid_template_areas": null,
            "grid_template_columns": null,
            "grid_template_rows": null,
            "height": null,
            "justify_content": null,
            "justify_items": null,
            "left": null,
            "margin": null,
            "max_height": null,
            "max_width": null,
            "min_height": null,
            "min_width": null,
            "object_fit": null,
            "object_position": null,
            "order": null,
            "overflow": null,
            "overflow_x": null,
            "overflow_y": null,
            "padding": null,
            "right": null,
            "top": null,
            "visibility": null,
            "width": null
          }
        },
        "fc1baa2c97ce4ab1800174f7a8dc9f5e": {
          "model_module": "@jupyter-widgets/base",
          "model_name": "LayoutModel",
          "model_module_version": "1.2.0",
          "state": {
            "_model_module": "@jupyter-widgets/base",
            "_model_module_version": "1.2.0",
            "_model_name": "LayoutModel",
            "_view_count": null,
            "_view_module": "@jupyter-widgets/base",
            "_view_module_version": "1.2.0",
            "_view_name": "LayoutView",
            "align_content": null,
            "align_items": null,
            "align_self": null,
            "border": null,
            "bottom": null,
            "display": null,
            "flex": null,
            "flex_flow": null,
            "grid_area": null,
            "grid_auto_columns": null,
            "grid_auto_flow": null,
            "grid_auto_rows": null,
            "grid_column": null,
            "grid_gap": null,
            "grid_row": null,
            "grid_template_areas": null,
            "grid_template_columns": null,
            "grid_template_rows": null,
            "height": null,
            "justify_content": null,
            "justify_items": null,
            "left": null,
            "margin": null,
            "max_height": null,
            "max_width": null,
            "min_height": null,
            "min_width": null,
            "object_fit": null,
            "object_position": null,
            "order": null,
            "overflow": null,
            "overflow_x": null,
            "overflow_y": null,
            "padding": null,
            "right": null,
            "top": null,
            "visibility": null,
            "width": null
          }
        },
        "0805f99a9a23458c9ed5770a0aca463a": {
          "model_module": "@jupyter-widgets/controls",
          "model_name": "DescriptionStyleModel",
          "model_module_version": "1.5.0",
          "state": {
            "_model_module": "@jupyter-widgets/controls",
            "_model_module_version": "1.5.0",
            "_model_name": "DescriptionStyleModel",
            "_view_count": null,
            "_view_module": "@jupyter-widgets/base",
            "_view_module_version": "1.2.0",
            "_view_name": "StyleView",
            "description_width": ""
          }
        },
        "08a60d97e888439cbca68cdfbbd91c72": {
          "model_module": "@jupyter-widgets/base",
          "model_name": "LayoutModel",
          "model_module_version": "1.2.0",
          "state": {
            "_model_module": "@jupyter-widgets/base",
            "_model_module_version": "1.2.0",
            "_model_name": "LayoutModel",
            "_view_count": null,
            "_view_module": "@jupyter-widgets/base",
            "_view_module_version": "1.2.0",
            "_view_name": "LayoutView",
            "align_content": null,
            "align_items": null,
            "align_self": null,
            "border": null,
            "bottom": null,
            "display": null,
            "flex": null,
            "flex_flow": null,
            "grid_area": null,
            "grid_auto_columns": null,
            "grid_auto_flow": null,
            "grid_auto_rows": null,
            "grid_column": null,
            "grid_gap": null,
            "grid_row": null,
            "grid_template_areas": null,
            "grid_template_columns": null,
            "grid_template_rows": null,
            "height": null,
            "justify_content": null,
            "justify_items": null,
            "left": null,
            "margin": null,
            "max_height": null,
            "max_width": null,
            "min_height": null,
            "min_width": null,
            "object_fit": null,
            "object_position": null,
            "order": null,
            "overflow": null,
            "overflow_x": null,
            "overflow_y": null,
            "padding": null,
            "right": null,
            "top": null,
            "visibility": null,
            "width": "20px"
          }
        },
        "5402917fe7b74add855ac97ed388c50b": {
          "model_module": "@jupyter-widgets/controls",
          "model_name": "ProgressStyleModel",
          "model_module_version": "1.5.0",
          "state": {
            "_model_module": "@jupyter-widgets/controls",
            "_model_module_version": "1.5.0",
            "_model_name": "ProgressStyleModel",
            "_view_count": null,
            "_view_module": "@jupyter-widgets/base",
            "_view_module_version": "1.2.0",
            "_view_name": "StyleView",
            "bar_color": null,
            "description_width": ""
          }
        },
        "6755033e680049f391bcba6f9c55762f": {
          "model_module": "@jupyter-widgets/base",
          "model_name": "LayoutModel",
          "model_module_version": "1.2.0",
          "state": {
            "_model_module": "@jupyter-widgets/base",
            "_model_module_version": "1.2.0",
            "_model_name": "LayoutModel",
            "_view_count": null,
            "_view_module": "@jupyter-widgets/base",
            "_view_module_version": "1.2.0",
            "_view_name": "LayoutView",
            "align_content": null,
            "align_items": null,
            "align_self": null,
            "border": null,
            "bottom": null,
            "display": null,
            "flex": null,
            "flex_flow": null,
            "grid_area": null,
            "grid_auto_columns": null,
            "grid_auto_flow": null,
            "grid_auto_rows": null,
            "grid_column": null,
            "grid_gap": null,
            "grid_row": null,
            "grid_template_areas": null,
            "grid_template_columns": null,
            "grid_template_rows": null,
            "height": null,
            "justify_content": null,
            "justify_items": null,
            "left": null,
            "margin": null,
            "max_height": null,
            "max_width": null,
            "min_height": null,
            "min_width": null,
            "object_fit": null,
            "object_position": null,
            "order": null,
            "overflow": null,
            "overflow_x": null,
            "overflow_y": null,
            "padding": null,
            "right": null,
            "top": null,
            "visibility": null,
            "width": null
          }
        },
        "6bd62bd1ff8345b28eb37636a8f6ea34": {
          "model_module": "@jupyter-widgets/controls",
          "model_name": "DescriptionStyleModel",
          "model_module_version": "1.5.0",
          "state": {
            "_model_module": "@jupyter-widgets/controls",
            "_model_module_version": "1.5.0",
            "_model_name": "DescriptionStyleModel",
            "_view_count": null,
            "_view_module": "@jupyter-widgets/base",
            "_view_module_version": "1.2.0",
            "_view_name": "StyleView",
            "description_width": ""
          }
        },
        "64eb477930fc41b99959d645f48715d3": {
          "model_module": "@jupyter-widgets/controls",
          "model_name": "HBoxModel",
          "model_module_version": "1.5.0",
          "state": {
            "_dom_classes": [],
            "_model_module": "@jupyter-widgets/controls",
            "_model_module_version": "1.5.0",
            "_model_name": "HBoxModel",
            "_view_count": null,
            "_view_module": "@jupyter-widgets/controls",
            "_view_module_version": "1.5.0",
            "_view_name": "HBoxView",
            "box_style": "",
            "children": [
              "IPY_MODEL_64a124094c47471096d06036005390a2",
              "IPY_MODEL_b6a380f0e58443f7a559db24976bc31f",
              "IPY_MODEL_a17a2e82f2844e25afc7f290581e7f2d"
            ],
            "layout": "IPY_MODEL_23b66fac5d1c42768f37aedd1abca1aa"
          }
        },
        "64a124094c47471096d06036005390a2": {
          "model_module": "@jupyter-widgets/controls",
          "model_name": "HTMLModel",
          "model_module_version": "1.5.0",
          "state": {
            "_dom_classes": [],
            "_model_module": "@jupyter-widgets/controls",
            "_model_module_version": "1.5.0",
            "_model_name": "HTMLModel",
            "_view_count": null,
            "_view_module": "@jupyter-widgets/controls",
            "_view_module_version": "1.5.0",
            "_view_name": "HTMLView",
            "description": "",
            "description_tooltip": null,
            "layout": "IPY_MODEL_b0bcd57df2404c76afc84208bdaf62f4",
            "placeholder": "​",
            "style": "IPY_MODEL_1714d8edf85549c193d6143aa0eac916",
            "value": "New Data Upload                         : 100%"
          }
        },
        "b6a380f0e58443f7a559db24976bc31f": {
          "model_module": "@jupyter-widgets/controls",
          "model_name": "FloatProgressModel",
          "model_module_version": "1.5.0",
          "state": {
            "_dom_classes": [],
            "_model_module": "@jupyter-widgets/controls",
            "_model_module_version": "1.5.0",
            "_model_name": "FloatProgressModel",
            "_view_count": null,
            "_view_module": "@jupyter-widgets/controls",
            "_view_module_version": "1.5.0",
            "_view_name": "ProgressView",
            "bar_style": "success",
            "description": "",
            "description_tooltip": null,
            "layout": "IPY_MODEL_858128db76f743b795e8a70a7e6a4e81",
            "max": 1,
            "min": 0,
            "orientation": "horizontal",
            "style": "IPY_MODEL_2d0a60a2d2b6456897c20274102de722",
            "value": 1
          }
        },
        "a17a2e82f2844e25afc7f290581e7f2d": {
          "model_module": "@jupyter-widgets/controls",
          "model_name": "HTMLModel",
          "model_module_version": "1.5.0",
          "state": {
            "_dom_classes": [],
            "_model_module": "@jupyter-widgets/controls",
            "_model_module_version": "1.5.0",
            "_model_name": "HTMLModel",
            "_view_count": null,
            "_view_module": "@jupyter-widgets/controls",
            "_view_module_version": "1.5.0",
            "_view_name": "HTMLView",
            "description": "",
            "description_tooltip": null,
            "layout": "IPY_MODEL_e2c52bf417854b0284df7bd2eafeae18",
            "placeholder": "​",
            "style": "IPY_MODEL_805883b350a84f3a83da12eadcc8dfa2",
            "value": " 30.0kB / 30.0kB, 18.8kB/s  "
          }
        },
        "23b66fac5d1c42768f37aedd1abca1aa": {
          "model_module": "@jupyter-widgets/base",
          "model_name": "LayoutModel",
          "model_module_version": "1.2.0",
          "state": {
            "_model_module": "@jupyter-widgets/base",
            "_model_module_version": "1.2.0",
            "_model_name": "LayoutModel",
            "_view_count": null,
            "_view_module": "@jupyter-widgets/base",
            "_view_module_version": "1.2.0",
            "_view_name": "LayoutView",
            "align_content": null,
            "align_items": null,
            "align_self": null,
            "border": null,
            "bottom": null,
            "display": null,
            "flex": null,
            "flex_flow": null,
            "grid_area": null,
            "grid_auto_columns": null,
            "grid_auto_flow": null,
            "grid_auto_rows": null,
            "grid_column": null,
            "grid_gap": null,
            "grid_row": null,
            "grid_template_areas": null,
            "grid_template_columns": null,
            "grid_template_rows": null,
            "height": null,
            "justify_content": null,
            "justify_items": null,
            "left": null,
            "margin": null,
            "max_height": null,
            "max_width": null,
            "min_height": null,
            "min_width": null,
            "object_fit": null,
            "object_position": null,
            "order": null,
            "overflow": null,
            "overflow_x": null,
            "overflow_y": null,
            "padding": null,
            "right": null,
            "top": null,
            "visibility": null,
            "width": null
          }
        },
        "b0bcd57df2404c76afc84208bdaf62f4": {
          "model_module": "@jupyter-widgets/base",
          "model_name": "LayoutModel",
          "model_module_version": "1.2.0",
          "state": {
            "_model_module": "@jupyter-widgets/base",
            "_model_module_version": "1.2.0",
            "_model_name": "LayoutModel",
            "_view_count": null,
            "_view_module": "@jupyter-widgets/base",
            "_view_module_version": "1.2.0",
            "_view_name": "LayoutView",
            "align_content": null,
            "align_items": null,
            "align_self": null,
            "border": null,
            "bottom": null,
            "display": null,
            "flex": null,
            "flex_flow": null,
            "grid_area": null,
            "grid_auto_columns": null,
            "grid_auto_flow": null,
            "grid_auto_rows": null,
            "grid_column": null,
            "grid_gap": null,
            "grid_row": null,
            "grid_template_areas": null,
            "grid_template_columns": null,
            "grid_template_rows": null,
            "height": null,
            "justify_content": null,
            "justify_items": null,
            "left": null,
            "margin": null,
            "max_height": null,
            "max_width": null,
            "min_height": null,
            "min_width": null,
            "object_fit": null,
            "object_position": null,
            "order": null,
            "overflow": null,
            "overflow_x": null,
            "overflow_y": null,
            "padding": null,
            "right": null,
            "top": null,
            "visibility": null,
            "width": null
          }
        },
        "1714d8edf85549c193d6143aa0eac916": {
          "model_module": "@jupyter-widgets/controls",
          "model_name": "DescriptionStyleModel",
          "model_module_version": "1.5.0",
          "state": {
            "_model_module": "@jupyter-widgets/controls",
            "_model_module_version": "1.5.0",
            "_model_name": "DescriptionStyleModel",
            "_view_count": null,
            "_view_module": "@jupyter-widgets/base",
            "_view_module_version": "1.2.0",
            "_view_name": "StyleView",
            "description_width": ""
          }
        },
        "858128db76f743b795e8a70a7e6a4e81": {
          "model_module": "@jupyter-widgets/base",
          "model_name": "LayoutModel",
          "model_module_version": "1.2.0",
          "state": {
            "_model_module": "@jupyter-widgets/base",
            "_model_module_version": "1.2.0",
            "_model_name": "LayoutModel",
            "_view_count": null,
            "_view_module": "@jupyter-widgets/base",
            "_view_module_version": "1.2.0",
            "_view_name": "LayoutView",
            "align_content": null,
            "align_items": null,
            "align_self": null,
            "border": null,
            "bottom": null,
            "display": null,
            "flex": null,
            "flex_flow": null,
            "grid_area": null,
            "grid_auto_columns": null,
            "grid_auto_flow": null,
            "grid_auto_rows": null,
            "grid_column": null,
            "grid_gap": null,
            "grid_row": null,
            "grid_template_areas": null,
            "grid_template_columns": null,
            "grid_template_rows": null,
            "height": null,
            "justify_content": null,
            "justify_items": null,
            "left": null,
            "margin": null,
            "max_height": null,
            "max_width": null,
            "min_height": null,
            "min_width": null,
            "object_fit": null,
            "object_position": null,
            "order": null,
            "overflow": null,
            "overflow_x": null,
            "overflow_y": null,
            "padding": null,
            "right": null,
            "top": null,
            "visibility": null,
            "width": "20px"
          }
        },
        "2d0a60a2d2b6456897c20274102de722": {
          "model_module": "@jupyter-widgets/controls",
          "model_name": "ProgressStyleModel",
          "model_module_version": "1.5.0",
          "state": {
            "_model_module": "@jupyter-widgets/controls",
            "_model_module_version": "1.5.0",
            "_model_name": "ProgressStyleModel",
            "_view_count": null,
            "_view_module": "@jupyter-widgets/base",
            "_view_module_version": "1.2.0",
            "_view_name": "StyleView",
            "bar_color": null,
            "description_width": ""
          }
        },
        "e2c52bf417854b0284df7bd2eafeae18": {
          "model_module": "@jupyter-widgets/base",
          "model_name": "LayoutModel",
          "model_module_version": "1.2.0",
          "state": {
            "_model_module": "@jupyter-widgets/base",
            "_model_module_version": "1.2.0",
            "_model_name": "LayoutModel",
            "_view_count": null,
            "_view_module": "@jupyter-widgets/base",
            "_view_module_version": "1.2.0",
            "_view_name": "LayoutView",
            "align_content": null,
            "align_items": null,
            "align_self": null,
            "border": null,
            "bottom": null,
            "display": null,
            "flex": null,
            "flex_flow": null,
            "grid_area": null,
            "grid_auto_columns": null,
            "grid_auto_flow": null,
            "grid_auto_rows": null,
            "grid_column": null,
            "grid_gap": null,
            "grid_row": null,
            "grid_template_areas": null,
            "grid_template_columns": null,
            "grid_template_rows": null,
            "height": null,
            "justify_content": null,
            "justify_items": null,
            "left": null,
            "margin": null,
            "max_height": null,
            "max_width": null,
            "min_height": null,
            "min_width": null,
            "object_fit": null,
            "object_position": null,
            "order": null,
            "overflow": null,
            "overflow_x": null,
            "overflow_y": null,
            "padding": null,
            "right": null,
            "top": null,
            "visibility": null,
            "width": null
          }
        },
        "805883b350a84f3a83da12eadcc8dfa2": {
          "model_module": "@jupyter-widgets/controls",
          "model_name": "DescriptionStyleModel",
          "model_module_version": "1.5.0",
          "state": {
            "_model_module": "@jupyter-widgets/controls",
            "_model_module_version": "1.5.0",
            "_model_name": "DescriptionStyleModel",
            "_view_count": null,
            "_view_module": "@jupyter-widgets/base",
            "_view_module_version": "1.2.0",
            "_view_name": "StyleView",
            "description_width": ""
          }
        },
        "b1d541f65026459e87ec6c8b2885d5e1": {
          "model_module": "@jupyter-widgets/controls",
          "model_name": "HBoxModel",
          "model_module_version": "1.5.0",
          "state": {
            "_dom_classes": [],
            "_model_module": "@jupyter-widgets/controls",
            "_model_module_version": "1.5.0",
            "_model_name": "HBoxModel",
            "_view_count": null,
            "_view_module": "@jupyter-widgets/controls",
            "_view_module_version": "1.5.0",
            "_view_name": "HBoxView",
            "box_style": "",
            "children": [
              "IPY_MODEL_de1084195ecf48609a52faf367a1c774",
              "IPY_MODEL_46791d145bcd494b955dba5dc04a7ffe",
              "IPY_MODEL_2eb0868140ef4a159f24a391a7a81175"
            ],
            "layout": "IPY_MODEL_4cf10360bda24346b064cee196b4d9ca"
          }
        },
        "de1084195ecf48609a52faf367a1c774": {
          "model_module": "@jupyter-widgets/controls",
          "model_name": "HTMLModel",
          "model_module_version": "1.5.0",
          "state": {
            "_dom_classes": [],
            "_model_module": "@jupyter-widgets/controls",
            "_model_module_version": "1.5.0",
            "_model_name": "HTMLModel",
            "_view_count": null,
            "_view_module": "@jupyter-widgets/controls",
            "_view_module_version": "1.5.0",
            "_view_name": "HTMLView",
            "description": "",
            "description_tooltip": null,
            "layout": "IPY_MODEL_8e5b7a693c214004abd0e83ed176bfb9",
            "placeholder": "​",
            "style": "IPY_MODEL_8e8589eb7b56495fb5d81ebcb16bb0bc",
            "value": "  outputs/train.parquet                 : 100%"
          }
        },
        "46791d145bcd494b955dba5dc04a7ffe": {
          "model_module": "@jupyter-widgets/controls",
          "model_name": "FloatProgressModel",
          "model_module_version": "1.5.0",
          "state": {
            "_dom_classes": [],
            "_model_module": "@jupyter-widgets/controls",
            "_model_module_version": "1.5.0",
            "_model_name": "FloatProgressModel",
            "_view_count": null,
            "_view_module": "@jupyter-widgets/controls",
            "_view_module_version": "1.5.0",
            "_view_name": "ProgressView",
            "bar_style": "success",
            "description": "",
            "description_tooltip": null,
            "layout": "IPY_MODEL_1768820f1f9f4fe1b190c89c1c849778",
            "max": 30041,
            "min": 0,
            "orientation": "horizontal",
            "style": "IPY_MODEL_f91c6242eac9427bbd7b6b6ef0cf7f45",
            "value": 30041
          }
        },
        "2eb0868140ef4a159f24a391a7a81175": {
          "model_module": "@jupyter-widgets/controls",
          "model_name": "HTMLModel",
          "model_module_version": "1.5.0",
          "state": {
            "_dom_classes": [],
            "_model_module": "@jupyter-widgets/controls",
            "_model_module_version": "1.5.0",
            "_model_name": "HTMLModel",
            "_view_count": null,
            "_view_module": "@jupyter-widgets/controls",
            "_view_module_version": "1.5.0",
            "_view_name": "HTMLView",
            "description": "",
            "description_tooltip": null,
            "layout": "IPY_MODEL_26a22e17c52549c4b30aa5ae22451467",
            "placeholder": "​",
            "style": "IPY_MODEL_484c25d6506a4b7891c9090e8ae7b444",
            "value": " 30.0kB / 30.0kB            "
          }
        },
        "4cf10360bda24346b064cee196b4d9ca": {
          "model_module": "@jupyter-widgets/base",
          "model_name": "LayoutModel",
          "model_module_version": "1.2.0",
          "state": {
            "_model_module": "@jupyter-widgets/base",
            "_model_module_version": "1.2.0",
            "_model_name": "LayoutModel",
            "_view_count": null,
            "_view_module": "@jupyter-widgets/base",
            "_view_module_version": "1.2.0",
            "_view_name": "LayoutView",
            "align_content": null,
            "align_items": null,
            "align_self": null,
            "border": null,
            "bottom": null,
            "display": null,
            "flex": null,
            "flex_flow": null,
            "grid_area": null,
            "grid_auto_columns": null,
            "grid_auto_flow": null,
            "grid_auto_rows": null,
            "grid_column": null,
            "grid_gap": null,
            "grid_row": null,
            "grid_template_areas": null,
            "grid_template_columns": null,
            "grid_template_rows": null,
            "height": null,
            "justify_content": null,
            "justify_items": null,
            "left": null,
            "margin": null,
            "max_height": null,
            "max_width": null,
            "min_height": null,
            "min_width": null,
            "object_fit": null,
            "object_position": null,
            "order": null,
            "overflow": null,
            "overflow_x": null,
            "overflow_y": null,
            "padding": null,
            "right": null,
            "top": null,
            "visibility": null,
            "width": null
          }
        },
        "8e5b7a693c214004abd0e83ed176bfb9": {
          "model_module": "@jupyter-widgets/base",
          "model_name": "LayoutModel",
          "model_module_version": "1.2.0",
          "state": {
            "_model_module": "@jupyter-widgets/base",
            "_model_module_version": "1.2.0",
            "_model_name": "LayoutModel",
            "_view_count": null,
            "_view_module": "@jupyter-widgets/base",
            "_view_module_version": "1.2.0",
            "_view_name": "LayoutView",
            "align_content": null,
            "align_items": null,
            "align_self": null,
            "border": null,
            "bottom": null,
            "display": null,
            "flex": null,
            "flex_flow": null,
            "grid_area": null,
            "grid_auto_columns": null,
            "grid_auto_flow": null,
            "grid_auto_rows": null,
            "grid_column": null,
            "grid_gap": null,
            "grid_row": null,
            "grid_template_areas": null,
            "grid_template_columns": null,
            "grid_template_rows": null,
            "height": null,
            "justify_content": null,
            "justify_items": null,
            "left": null,
            "margin": null,
            "max_height": null,
            "max_width": null,
            "min_height": null,
            "min_width": null,
            "object_fit": null,
            "object_position": null,
            "order": null,
            "overflow": null,
            "overflow_x": null,
            "overflow_y": null,
            "padding": null,
            "right": null,
            "top": null,
            "visibility": null,
            "width": null
          }
        },
        "8e8589eb7b56495fb5d81ebcb16bb0bc": {
          "model_module": "@jupyter-widgets/controls",
          "model_name": "DescriptionStyleModel",
          "model_module_version": "1.5.0",
          "state": {
            "_model_module": "@jupyter-widgets/controls",
            "_model_module_version": "1.5.0",
            "_model_name": "DescriptionStyleModel",
            "_view_count": null,
            "_view_module": "@jupyter-widgets/base",
            "_view_module_version": "1.2.0",
            "_view_name": "StyleView",
            "description_width": ""
          }
        },
        "1768820f1f9f4fe1b190c89c1c849778": {
          "model_module": "@jupyter-widgets/base",
          "model_name": "LayoutModel",
          "model_module_version": "1.2.0",
          "state": {
            "_model_module": "@jupyter-widgets/base",
            "_model_module_version": "1.2.0",
            "_model_name": "LayoutModel",
            "_view_count": null,
            "_view_module": "@jupyter-widgets/base",
            "_view_module_version": "1.2.0",
            "_view_name": "LayoutView",
            "align_content": null,
            "align_items": null,
            "align_self": null,
            "border": null,
            "bottom": null,
            "display": null,
            "flex": null,
            "flex_flow": null,
            "grid_area": null,
            "grid_auto_columns": null,
            "grid_auto_flow": null,
            "grid_auto_rows": null,
            "grid_column": null,
            "grid_gap": null,
            "grid_row": null,
            "grid_template_areas": null,
            "grid_template_columns": null,
            "grid_template_rows": null,
            "height": null,
            "justify_content": null,
            "justify_items": null,
            "left": null,
            "margin": null,
            "max_height": null,
            "max_width": null,
            "min_height": null,
            "min_width": null,
            "object_fit": null,
            "object_position": null,
            "order": null,
            "overflow": null,
            "overflow_x": null,
            "overflow_y": null,
            "padding": null,
            "right": null,
            "top": null,
            "visibility": null,
            "width": null
          }
        },
        "f91c6242eac9427bbd7b6b6ef0cf7f45": {
          "model_module": "@jupyter-widgets/controls",
          "model_name": "ProgressStyleModel",
          "model_module_version": "1.5.0",
          "state": {
            "_model_module": "@jupyter-widgets/controls",
            "_model_module_version": "1.5.0",
            "_model_name": "ProgressStyleModel",
            "_view_count": null,
            "_view_module": "@jupyter-widgets/base",
            "_view_module_version": "1.2.0",
            "_view_name": "StyleView",
            "bar_color": null,
            "description_width": ""
          }
        },
        "26a22e17c52549c4b30aa5ae22451467": {
          "model_module": "@jupyter-widgets/base",
          "model_name": "LayoutModel",
          "model_module_version": "1.2.0",
          "state": {
            "_model_module": "@jupyter-widgets/base",
            "_model_module_version": "1.2.0",
            "_model_name": "LayoutModel",
            "_view_count": null,
            "_view_module": "@jupyter-widgets/base",
            "_view_module_version": "1.2.0",
            "_view_name": "LayoutView",
            "align_content": null,
            "align_items": null,
            "align_self": null,
            "border": null,
            "bottom": null,
            "display": null,
            "flex": null,
            "flex_flow": null,
            "grid_area": null,
            "grid_auto_columns": null,
            "grid_auto_flow": null,
            "grid_auto_rows": null,
            "grid_column": null,
            "grid_gap": null,
            "grid_row": null,
            "grid_template_areas": null,
            "grid_template_columns": null,
            "grid_template_rows": null,
            "height": null,
            "justify_content": null,
            "justify_items": null,
            "left": null,
            "margin": null,
            "max_height": null,
            "max_width": null,
            "min_height": null,
            "min_width": null,
            "object_fit": null,
            "object_position": null,
            "order": null,
            "overflow": null,
            "overflow_x": null,
            "overflow_y": null,
            "padding": null,
            "right": null,
            "top": null,
            "visibility": null,
            "width": null
          }
        },
        "484c25d6506a4b7891c9090e8ae7b444": {
          "model_module": "@jupyter-widgets/controls",
          "model_name": "DescriptionStyleModel",
          "model_module_version": "1.5.0",
          "state": {
            "_model_module": "@jupyter-widgets/controls",
            "_model_module_version": "1.5.0",
            "_model_name": "DescriptionStyleModel",
            "_view_count": null,
            "_view_module": "@jupyter-widgets/base",
            "_view_module_version": "1.2.0",
            "_view_name": "StyleView",
            "description_width": ""
          }
        }
      }
    }
  },
  "nbformat": 4,
  "nbformat_minor": 5
}