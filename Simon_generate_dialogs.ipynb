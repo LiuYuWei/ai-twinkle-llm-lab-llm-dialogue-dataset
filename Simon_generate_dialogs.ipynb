{
  "cells": [
    {
      "cell_type": "markdown",
      "metadata": {
        "id": "view-in-github",
        "colab_type": "text"
      },
      "source": [
        "<a href=\"https://colab.research.google.com/github/LiuYuWei/ai-twinkle-llm-lab-llm-dialogue-dataset/blob/main/Simon_generate_dialogs.ipynb\" target=\"_parent\"><img src=\"https://colab.research.google.com/assets/colab-badge.svg\" alt=\"Open In Colab\"/></a>"
      ]
    },
    {
      "cell_type": "markdown",
      "id": "4df8ae2d-0c56-48f2-bef6-d7798800bfd5",
      "metadata": {
        "id": "4df8ae2d-0c56-48f2-bef6-d7798800bfd5"
      },
      "source": [
        "# 01 - 對話資料生成 & 對話集格式介紹\n",
        "\n",
        "在這個 Lab，我們的目標是建立一份「可持續擴充」的對話資料集。主要的步驟如下：\n",
        "1. 使用 OpenAI SDK 連 `Gemma-3-12B-it` API\n",
        "2. 介紹對話資料的常見格式：**Alpaca**, **ShareGPT**，以及 **OpenAI** 格式（我們採用後者）\n",
        "3. 探討 `.jsonl` 格式與 `.parquet` 格式的優缺點，並說明 HF Hub 對 parquet 的轉換支援\n",
        "   (上傳 parquet 時 HF 會自動生成 `.parquet` 分支與 viewer)"
      ]
    },
    {
      "cell_type": "markdown",
      "source": [
        "## I. 初始化參數"
      ],
      "metadata": {
        "id": "Cp6NGO-N6IpY"
      },
      "id": "Cp6NGO-N6IpY"
    },
    {
      "cell_type": "code",
      "source": [
        "from google.colab import userdata\n"
      ],
      "metadata": {
        "id": "MpqGewAZCGJi"
      },
      "id": "MpqGewAZCGJi",
      "execution_count": 1,
      "outputs": []
    },
    {
      "cell_type": "markdown",
      "source": [
        "請去申請 Google API Key 和 Huggingface API Key 然後放到 Colab 左邊有個鑰匙的地方，保護你的 Key"
      ],
      "metadata": {
        "id": "IHARTc29GuDO"
      },
      "id": "IHARTc29GuDO"
    },
    {
      "cell_type": "code",
      "source": [
        "from openai import OpenAI\n",
        "\n",
        "# 重新初始化 API client\n",
        "API_KEY = userdata.get('GOOGLE_API_KEY')\n",
        "BASE_URL = \"https://generativelanguage.googleapis.com/v1beta/openai/\"\n",
        "MODEL = \"gemma-3-27b-it\"\n",
        "\n",
        "client = OpenAI(\n",
        "    api_key=API_KEY,\n",
        "    base_url=BASE_URL\n",
        ")\n",
        "\n",
        "print(\"API client 已初始化\")"
      ],
      "metadata": {
        "colab": {
          "base_uri": "https://localhost:8080/"
        },
        "id": "CoHUqXvH299O",
        "outputId": "20df610c-6f91-4719-84f8-031a1ffa3ce2"
      },
      "id": "CoHUqXvH299O",
      "execution_count": 2,
      "outputs": [
        {
          "output_type": "stream",
          "name": "stdout",
          "text": [
            "API client 已初始化\n"
          ]
        }
      ]
    },
    {
      "cell_type": "markdown",
      "id": "5ffa29ba-2e60-4041-a21f-c8f328f61304",
      "metadata": {
        "id": "5ffa29ba-2e60-4041-a21f-c8f328f61304"
      },
      "source": [
        "## II. 常見對話資料集格式比較\n",
        "\n"
      ]
    },
    {
      "cell_type": "markdown",
      "id": "241fddab-ede4-4d95-86b7-569bee685087",
      "metadata": {
        "id": "241fddab-ede4-4d95-86b7-569bee685087"
      },
      "source": [
        "<p align=\"center\">\n",
        "  <img src=\"https://github.com/ai-twinkle/llm-lab/blob/main/courses/2025-08-llm-dialogue-dataset/assets/01_wiki_data_format.png?raw=1\" width=\"100%\"/><br/>\n",
        "  <em align=\"center\">圖 1：Wiki 對話格式示意圖</em>\n",
        "</p>"
      ]
    },
    {
      "cell_type": "markdown",
      "id": "cd084c2b-1741-4a4d-8932-5e6dfdfafcfa",
      "metadata": {
        "id": "cd084c2b-1741-4a4d-8932-5e6dfdfafcfa"
      },
      "source": [
        "## JSONL vs Parquet 比較\n",
        "\n",
        "| 格式     | 優點                          | 缺點                         |\n",
        "|----------|-------------------------------|------------------------------|\n",
        "| `.jsonl` | 易讀、輕量、開發友善              | 檔案大、大量數據讀取效率較低   |\n",
        "| `.parquet` | 壓縮效果好、查詢效能高、支援 HF 轉換 | 不易直接閱讀，需使用工具處理   |\n",
        "\n",
        "注意：即使你上傳 `.jsonl`，HF Hub 也可能幫你生成 `.parquet` 分支，方便瀏覽與載入。"
      ]
    },
    {
      "cell_type": "markdown",
      "id": "e0a123e6-20c2-41d3-a235-7cfc8974c969",
      "metadata": {
        "id": "e0a123e6-20c2-41d3-a235-7cfc8974c969"
      },
      "source": [
        "<p align=\"center\">\n",
        "  <img src=\"https://github.com/ai-twinkle/llm-lab/blob/main/courses/2025-08-llm-dialogue-dataset/assets/01_hf_parquet_branch.png?raw=1\" width=\"100%\"/><br/>\n",
        "  <em>圖 2：HF Hub 自動生成的 .parquet 分支</em>\n",
        "</p>"
      ]
    },
    {
      "cell_type": "markdown",
      "id": "911efc9a-b8b9-4b28-92d8-c6d405ce31e3",
      "metadata": {
        "id": "911efc9a-b8b9-4b28-92d8-c6d405ce31e3"
      },
      "source": [
        "## Reference-Free vs Reference-Based\n",
        "\n",
        "- **Reference-Free（無參考）**：用一些 seed prompt 引導模型生成。最早出自 [Self-Instruct: Aligning Language Models with Self-Generated Instructions\n",
        "](https://arxiv.org/abs/2212.10560)。\n",
        "- **Reference-Based（參考內容）**：使用真實資料片段（例如 Wiki 條目）作 prompt 佐料，讓生成內容更 grounded。"
      ]
    },
    {
      "cell_type": "markdown",
      "id": "582b3052-568d-4ab3-aa56-cc5fe2c942ab",
      "metadata": {
        "id": "582b3052-568d-4ab3-aa56-cc5fe2c942ab"
      },
      "source": [
        "### Reference-Free 實作\n",
        "\n",
        "在 Reference-Free 的情境下，我們並不依賴任何外部知識庫或文件，而是透過 **seed 任務 (seed task)** 來驅動模型自行生成資料。  \n",
        "這些 seed 任務通常包含一個 **instruction（指令）**，加上少量的 **instance（範例輸入/輸出對）**，作為模型模仿與延伸的起點。  \n",
        "\n",
        "這種方法的代表性工作是 *Self-Instruct*，它透過人工設計的一些高品質種子指令，讓模型去「舉一反三」產生更多指令和對應答案，最終建立出龐大的資料集。\n",
        "\n",
        "以下是一個取自 [self-instruct](https://github.com/yizhongw/self-instruct/blob/main/data/seed_tasks.jsonl) seed 範例，主題是「早餐建議」。  \n",
        "\n",
        "```json\n",
        "{\n",
        "  \"id\": \"seed_task_0\",\n",
        "  \"name\": \"breakfast_suggestion\",\n",
        "  \"instruction\": \"Is there anything I can eat for a breakfast that doesn't include eggs, yet includes protein, and has roughly 700-1000 calories?\",\n",
        "  \"instances\": [\n",
        "    {\n",
        "      \"input\": \"\",\n",
        "      \"output\": \"Yes, you can have 1 oatmeal banana protein shake and 4 strips of bacon. The oatmeal banana protein shake may contain 1/2 cup oatmeal, 60 grams whey protein powder, 1/2 medium banana, 1 tbsp flaxseed oil and 1/2 cup water, totaling about 550 calories. The 4 strips of bacon contains about 200 calories.\"\n",
        "    }\n",
        "  ],\n",
        "  \"is_classification\": false\n",
        "}\n",
        "```\n",
        "說明：\n",
        "- id：任務的唯一識別碼。\n",
        "- name：任務名稱，方便辨識。\n",
        "- instruction：給模型的主要問題或指令。\n",
        "- instances：包含輸入/輸出對，本例中 input 為空，代表模型直接依 instruction 回答；output 是一個可能的解答。\n",
        "- is_classification：標記此任務是否為分類型問題（此例為否）。"
      ]
    },
    {
      "cell_type": "markdown",
      "id": "52128cae-647b-43da-913d-04aed64fc783",
      "metadata": {
        "id": "52128cae-647b-43da-913d-04aed64fc783"
      },
      "source": [
        "在實務中，我們會設計數十到數百個 seed 任務，涵蓋不同領域與指令型態，作為 Reference-Free 資料生成的核心基礎。\n",
        "\n",
        "不過，我們的作法並**不完全等同於 Self-Instruct**。\n",
        "相較於 Self-Instruct 的完整 pipeline（如：過濾、去重、迭代擴展），我們傾向採用更簡單直接的方式：\n",
        "\t1.\t人工撰寫少量高品質 seed 指令。\n",
        "\t2.\t要求模型基於這些 seed 產生新的 seed 指令（但僅限輸出 seed 本文，避免雜訊）。\n",
        "\t3.\t再利用這些新 seed 指令，由模型生成單輪問答配對。\n",
        "\n",
        "這樣的流程更輕量，雖然缺少複雜的篩選與多輪迭代，但對於課程實作與教學目標而言，已經能清楚展現 Reference-Free 的核心精神。"
      ]
    },
    {
      "cell_type": "code",
      "execution_count": 3,
      "id": "727cbf67-aca6-4e63-854f-d08a889ea711",
      "metadata": {
        "colab": {
          "base_uri": "https://localhost:8080/"
        },
        "id": "727cbf67-aca6-4e63-854f-d08a889ea711",
        "outputId": "455dbe35-088a-4ade-cc96-ce9bb6b5a647"
      },
      "outputs": [
        {
          "output_type": "stream",
          "name": "stdout",
          "text": [
            "🔹 原始 seed： Is there anything I can eat for a breakfast that doesn't include eggs, yet includes protein, and has roughly 700-1000 calories?\n",
            "🔸 新的 seed： 我想要一份適合午餐的食譜，不含紅肉，富含纖維質，總熱量約在600-800卡路里之間。\n"
          ]
        }
      ],
      "source": [
        "# Step 1: 以既有 seed 為出發點，要求 LLM 產生「不同但相關」的新 seed。\n",
        "# 重要：嚴格要求只輸出 seed 文字本身，不要任何多餘說明、標籤或引號。\n",
        "\n",
        "from openai import OpenAI\n",
        "import re\n",
        "\n",
        "# 假設你已經在前面初始化過 client / MODEL\n",
        "# client = OpenAI(api_key=API_KEY, base_url=f\"{BASE_URL}/v1\")\n",
        "# MODEL = \"gemma-3-12b-it\"\n",
        "\n",
        "base_seed = \"Is there anything I can eat for a breakfast that doesn't include eggs, yet includes protein, and has roughly 700-1000 calories?\"\n",
        "\n",
        "# Adjusted messages to remove the system role and include instructions in the user message\n",
        "seed_gen_messages = [\n",
        "    {\n",
        "        \"role\": \"user\",\n",
        "        \"content\": (\n",
        "            \"你是一個資料生成器。你的任務是『根據給定 seed，產生一則不同但主題相關的 seed 指令』。\\n\"\n",
        "            \"務必遵守：\\n\"\n",
        "            \"1) 僅輸出新的 seed 指令本身（繁體中文）。\\n\"\n",
        "            \"2) 不要加任何解釋、前後文、引號、標點裝飾或標籤。\\n\"\n",
        "            \"3) 一至兩句話，清楚可執行。\\n\"\n",
        "            \"4) 避免重複與原 seed 完全相同的限制條件或措辭，但主題需相關。\\n\"\n",
        "            f\"這是原始 seed：\\n{base_seed}\\n\\n\"\n",
        "            \"請依規則產生一個新的 seed 指令（繁體中文）。只輸出新 seed 本文，其他一律不要。\"\n",
        "        )\n",
        "    },\n",
        "]\n",
        "\n",
        "resp_seed = client.chat.completions.create(\n",
        "    model=MODEL,\n",
        "    messages=seed_gen_messages,\n",
        "    temperature=0.9,\n",
        "    max_tokens=200,\n",
        ")\n",
        "\n",
        "new_seed_instruction_raw = resp_seed.choices[0].message.content.strip()\n",
        "\n",
        "# 基本清理：移除常見多餘字樣（保險）\n",
        "def sanitize_seed(text: str) -> str:\n",
        "    text = text.strip()\n",
        "    # 移除可能的程式碼圍欄或引號\n",
        "    text = re.sub(r\"^```.*?\\n|\\n```$\", \"\", text, flags=re.DOTALL)  # 去掉 ``` 區塊\n",
        "    text = text.strip(\"「」\\\"'` \\n\\t\")\n",
        "    # 去掉可能的前綴\n",
        "    text = re.sub(r\"^(新的?seed指令[:：]\\s*|seed[:：]\\s*|新指令[:：]\\s*)\", \"\", text, flags=re.IGNORECASE)\n",
        "    return text.strip()\n",
        "\n",
        "new_seed_instruction = sanitize_seed(new_seed_instruction_raw)\n",
        "\n",
        "print(\"🔹 原始 seed：\", base_seed)\n",
        "print(\"🔸 新的 seed：\", new_seed_instruction)"
      ]
    },
    {
      "cell_type": "code",
      "execution_count": 4,
      "id": "93ef39f8-4d25-4404-bcc4-59c4da85a9a9",
      "metadata": {
        "colab": {
          "base_uri": "https://localhost:8080/"
        },
        "id": "93ef39f8-4d25-4404-bcc4-59c4da85a9a9",
        "outputId": "0730d891-0f87-4996-edf1-c2d17d4956c9"
      },
      "outputs": [
        {
          "output_type": "stream",
          "name": "stdout",
          "text": [
            "✅ 已生成單輪 QA 並寫入： outputs/datasets.jsonl\n",
            "\n",
            "=== 回答預覽 ===\n",
            " 好的，沒問題！身為營養與飲食規劃專家，我為您設計一份富含纖維質、不含紅肉、熱量約在600-800卡路里的午餐食譜，並提供詳細的食材、做法和營養分析，以及一些可替換的選項，讓您可以根據自己的喜好調整。\n",
            "\n",
            "**食譜名稱：藜麥雞胸肉蔬菜沙拉佐酪梨醬**\n",
            "\n",
            "**總熱量：約700-750卡路里 (依食材份量略有調整)**\n",
            "\n",
            "**主要營養素：**\n",
            "\n",
            "*   **蛋白質：** 約40-50克 (來自雞胸肉、藜麥)\n",
            "*   **纖維質：** 約15-20克 (來自藜麥、蔬菜、酪梨)\n",
            "*   **碳水化合物：** 約60-80克 (主要來自藜麥、蔬菜)\n",
            "*   **脂肪：** 約30-40克 (主要來自酪梨、橄欖油)\n",
            "\n",
            "**食材：**\n",
            "\n",
            "*   **藜麥：** 1/2 杯 (煮熟後約1杯) - 約220卡路里，5克蛋白質，3克纖維\n",
            "*   **雞胸肉：** 150克 (去皮去骨) - 約165卡路里，30克蛋白質，0克纖維\n",
            "*   **綜合蔬菜：** 2杯 (例如：生菜、菠菜、甜椒、小黃瓜、番茄、紅蘿蔔) - 約50-80卡路里，2-4克蛋白質，4-6克纖維\n",
            "*   **酪梨：** 1/4顆 - 約80卡路里，1克蛋白質，3克纖維\n",
            "*   **檸檬汁：** 1湯匙 - 約5卡路里\n",
            "*   **橄欖油：** 1湯匙 - 約120卡路里\n",
            "*   **調味料：** 鹽、黑胡椒、蒜粉、義大利香草 (適量)\n",
            "*   **可選：** 堅果碎 (杏仁、核桃) 1湯匙 - 約50-70卡路里，2-3克蛋白質，1-2克纖維\n",
            "\n",
            "**做法：**\n",
            "\n",
            "1.  **準備藜麥：** 將藜麥洗淨，加入2杯水煮沸後轉小火煮15-20分鐘，直到水分被吸收。放涼備用。\n",
            "2.  **烹調雞胸肉：** 雞胸肉可以用多種方式烹調，例如：\n",
            "    *   **烤箱：** 預熱烤箱至180°C，將雞\n"
          ]
        }
      ],
      "source": [
        "# Step 2: 以「新的 seed 指令」當作 user 提問，生成單輪回答（assistant 一次回覆）。\n",
        "# 產出為 OpenAI messages 格式，可直接累積進 datasets.jsonl。\n",
        "\n",
        "import json\n",
        "from uuid import uuid4\n",
        "from pathlib import Path\n",
        "\n",
        "# Remove the system message and include instructions in the user message\n",
        "qa_messages = [\n",
        "    {\n",
        "        \"role\": \"user\",\n",
        "        \"content\": (\n",
        "            \"你是一位營養與飲食規劃的專家，請使用繁體中文，給出明確、可執行的建議。\\n\\n\"\n",
        "            f\"{new_seed_instruction}\"\n",
        "        )\n",
        "    },\n",
        "]\n",
        "\n",
        "resp_qa = client.chat.completions.create(\n",
        "    model=MODEL,\n",
        "    messages=qa_messages,\n",
        "    temperature=0.7,\n",
        "    max_tokens=600,\n",
        ")\n",
        "\n",
        "answer = resp_qa.choices[0].message.content\n",
        "\n",
        "example = {\n",
        "    \"id\": str(uuid4()),\n",
        "    \"type\": \"reference_free\",\n",
        "    \"seed\": new_seed_instruction,\n",
        "    \"messages\": [\n",
        "        # qa_messages[0],                 # system (removed)\n",
        "        {\"role\": \"user\", \"content\": new_seed_instruction}, # user（新的 seed）\n",
        "        {\"role\": \"assistant\", \"content\": answer},  # 單輪回答\n",
        "    ]\n",
        "}\n",
        "\n",
        "# ✅ 可選：追加寫入 datasets.jsonl（供下一章節 QC 使用）\n",
        "out_path = Path(\"outputs/datasets.jsonl\")\n",
        "out_path.parent.mkdir(parents=True, exist_ok=True)\n",
        "with out_path.open(\"a\", encoding=\"utf-8\") as f:\n",
        "    f.write(json.dumps(example, ensure_ascii=False) + \"\\n\")\n",
        "\n",
        "print(\"✅ 已生成單輪 QA 並寫入：\", out_path)\n",
        "print(\"\\n=== 回答預覽 ===\\n\", answer[:800])"
      ]
    },
    {
      "cell_type": "markdown",
      "id": "60cc5f17-dc9f-400b-9a1b-94f7975ac569",
      "metadata": {
        "id": "60cc5f17-dc9f-400b-9a1b-94f7975ac569"
      },
      "source": [
        "## Reference-based 資料生成\n",
        "\n",
        "在 Reference-based 的情境下，我們會使用一段外部文本作為依據，並在其上生成問答資料。\n",
        "這種方式常見於知識型 QA 系統（例如 Wikipedia 問答），其核心原則是：\n",
        "- 問題（Question）必須來自於文本\n",
        "- 答案（Answer）必須完全依照文本，不可超出文本範圍\n",
        "\n",
        "這樣生成的資料，可以幫助模型學會「根據參考內容回答」，而非憑空想像。"
      ]
    },
    {
      "cell_type": "code",
      "source": [
        "wiki_context = \"\"\"\n",
        "[ 開源模型 ] Google Gemma 3 270M 介紹\n",
        "Simon Liu\n",
        "\n",
        "[ 開源模型 ] Google Gemma 3 270M\n",
        "Google 官方部落格介紹：連結\n",
        "\n",
        "Gemma 3 270M 是 Google DeepMind 於 2025 年 8 月正式推出的一款極致輕量化、大幅降低運算成本的開源語言模型。其設計理念側重於高能效、可在邊緣設備上直接運行 (on-device)，並且能迅速完成特定任務的微調 (fine-tuning)，以達到成本效益最佳化。\n",
        "\n",
        "I. 核心技術特點與差異化優勢\n",
        "1. 模型規模與架構設計\n",
        "總參數量為 2.7 億個參數，其中約 1.7 億個參數是 embedding 層權重，剩下則是 transformer 模組，屬於 Gemma 3 家族中的最小版本，採用 decoder‐only Transformer 架構。\n",
        "\n",
        "2. 能源效率極佳\n",
        "透過 INT4 量化後，根據官方的說法，在 Pixel 9 Pro SoC 上進行 25 次對話測試僅消耗 0.75% 電量，展現出極低耗電特性。\n",
        "\n",
        "3. 出色的 instruction-following 能力\n",
        "即使在未經複雜調校下，依然具備強大的「依指令執行」能力，於 IFEval 基準測試中，Gemma 3 270M 取得約 51.2% 的分數，超越多數更大模型。\n",
        "\n",
        "4. 支援量化自覺訓練 (QAT)，便於部署\n",
        "提供可用於 INT4 推論的 QAT 檢查點，確保在極度壓縮下仍維持足夠性能，適合資源受限的執行環境。\n",
        "\n",
        "\n",
        "實際在 Samsung S24 Plus 測試 Google Gemma 3 270M INT8 實測結果，手機離線運算速度表現真的很漂亮，知識能力就不為難他了，或許可以 Fine-Tune 成文字對分類的AI模型\n",
        "應用場景與部署策略\n",
        "適用任務類型\n",
        "適合高頻、明確定義片段任務，例如：情緒分析 (sentiment analysis)、實體擷取 (entity extraction)、查詢 (query routing)、結構化文本生成、創意寫作、遵從性檢查等。\n",
        "\n",
        "快速微調與部署\n",
        "模型尺寸小，可在數小時內完成 fine‑tuning，極速部署原型，且可在輕量基礎設施或裝置端運行，提高開發效率並降低成本。\n",
        "\n",
        "隱私與使用者控制\n",
        "可完全本地化部署，避免資料往返雲端，提升敏感資料保護及隱私控制。\n",
        "\n",
        "建構專責微模型 (fleet of specialized models)\n",
        "利用其小巧、效率高的特性，可同時維運多個專門優化的任務模型，實現模組化、效能優化與成本最小化。\n",
        "\n",
        "比較分析與風險考量\n",
        "成本效益 VS 通用能力\n",
        "相較大模型，其推論成本與能耗極低；但在通用性、複雜對話或生成能力方面仍有限制，應視任務選擇。\n",
        "\n",
        "推論性能 VS 訓練性能\n",
        "雖然適合地端部署和快速微調，蛋 Google Gemma 的 Fine-Tuning 仍會建議在 GPU 或者 TPU 上的完成，並非本地端的設備進行處理。\n",
        "\n",
        "結論\n",
        "Gemma 3 270M 是典型的在資源受限環境中，以最低成本、最快部署速度能夠完成高效能任務，兼顧能效與靈活性。適用於邊緣部署、快速開發與特定功能場景，如客服分類、自動標註與本地化創意應用。\n",
        "\n",
        "若企業目標是打造輕量、可擴展且具隱私保障 Edge 端的 AI 解決方案，Gemma 3 270M 是值得納入模型庫的優選選項。\n",
        "\"\"\"\n",
        "NUM_QA = 10  # 想產生幾組 QA\n"
      ],
      "metadata": {
        "id": "XKPF6HVH7sLk"
      },
      "id": "XKPF6HVH7sLk",
      "execution_count": 5,
      "outputs": []
    },
    {
      "cell_type": "code",
      "execution_count": 7,
      "id": "b98dab6b-5a35-4ef2-9cd5-638988ee81a6",
      "metadata": {
        "id": "b98dab6b-5a35-4ef2-9cd5-638988ee81a6"
      },
      "outputs": [],
      "source": [
        "# ==== 產生「只有問題」→ 再逐題回答（Reference-based）====\n",
        "import json, re\n",
        "from typing import List\n",
        "from uuid import uuid4\n",
        "from pathlib import Path\n",
        "\n",
        "# ---------- (A) 用 Structured Outputs 產生「問題清單」 ----------\n",
        "# 參考：OpenAI Structured Outputs / responses.parse（若端點不支援，會自動 fallback）\n",
        "# Docs: platform.openai.com/docs/guides/structured-outputs & responses.parse\n",
        "from pydantic import BaseModel, Field, conlist\n",
        "\n",
        "class QuestionItem(BaseModel):\n",
        "    question: str = Field(..., min_length=4, description=\"依據給定文本可直接回答的問題（繁體中文）\")\n",
        "\n",
        "class QuestionList(BaseModel):\n",
        "    items: List[QuestionItem]\n",
        "\n",
        "# =================================================================\n",
        "#  請將此函式完整替換掉您原本的 generate_questions_from_context\n",
        "# =================================================================\n",
        "def generate_questions_from_context(context: str, n_pairs: int = 4) -> List[str]:\n",
        "    # Removed system rules and incorporated into user rules\n",
        "    user_rules = (\n",
        "        \"你是資料標註助理，請使用繁體中文設計問題。\\n\"\n",
        "        f\"請產生 {n_pairs} 題問題，不要提供答案。\\n\"\n",
        "        \"原則：\\n\"\n",
        "        \"1) 問題必須可由【文本】直接回答，或能忠實改寫自其中資訊。\\n\"\n",
        "        \"2) 禁止加入【文本】以外的知識。\\n\"\n",
        "        \"3) 問題要清楚、具體，答案可在 1–2 句內表達。\\n\"\n",
        "        \"4) 若【文本】不足以支撐問題，請產生需要使用者進一步釐清的問題（單一句）。\\n\"\n",
        "        \"5) 問題要自然，不要暴露有任何【文本】或外部資料存在。\\n\"\n",
        "        \"6) 只輸出 JSON，格式固定為：{\\\"items\\\":[{\\\"question\\\":\\\"...\\\"}, ...]}。\\n\\n\"\n",
        "        \"請根據以下【文本】設計問題：\\n\\n\"\n",
        "        f\"{context}\\n\\n\"\n",
        "        \"⚠️ 僅輸出 JSON，格式：{\\\"items\\\":[{\\\"question\\\":\\\"...\\\"}, ...]}，\"\n",
        "        \"不得有額外說明/Markdown/前後綴。\"\n",
        "    )\n",
        "\n",
        "    # ---- 路徑 1：responses.parse（支援時最穩定）----\n",
        "    try:\n",
        "        # 假設 client 和 MODEL 變數已在外部定義\n",
        "        # 注意：如果您的 client 環境本身就不支援 parse 或 pydantic model，這裡仍可能出錯並進入 except\n",
        "        parsed = client.beta.chat.completions.parse(\n",
        "            model=MODEL,\n",
        "            messages=[{\"role\": \"user\", \"content\": user_rules}],\n",
        "            response_format=QuestionList,\n",
        "        )\n",
        "        items = parsed.choices[0].message.parsed.items\n",
        "        questions = [it.question.strip() for it in items if it.question.strip()]\n",
        "        return questions[:n_pairs]\n",
        "\n",
        "    except Exception:\n",
        "        # ---- 路徑 2：Chat Completions + JSON（相容端常用）----\n",
        "        # 【修正部分】將 system instruction 合併到 user prompt\n",
        "        fallback_user = (\n",
        "            \"你是資料標註助理。請只輸出 JSON，不要任何解釋或 Markdown。\\n\\n\"  # <-- 將 system 指令移到這裡\n",
        "            f\"請根據以下【文本】設計 {n_pairs} 題問題，不要提供答案。\\n\"\n",
        "            \"原則：\\n\"\n",
        "            \"1) 問題必須可由【文本】直接回答，或能忠實改寫自其中資訊。\\n\"\n",
        "            \"2) 禁止加入【文本】以外的知識。\\n\"\n",
        "            \"3) 問題要清楚、具體，答案可在 1–2 句內表達。\\n\"\n",
        "            \"4) 若【文本】不足以支撐問題，請產生需要使用者進一步釐清的問題（單一句）。\\n\"\n",
        "            \"5) 問題要自然，不要暴露有任何【文本】或外部資料存在。\\n\"\n",
        "            \"6) 輸出 JSON 陣列，每個物件僅含 question 欄位，格式：[{\\\"question\\\":\\\"...\\\"}, ...]。\\n\\n\"\n",
        "            f\"【文本】\\n{context}\\n\\n\"\n",
        "            \"⚠️ 僅輸出 JSON 陣列，不得有額外說明/Markdown/前後綴。\"\n",
        "        )\n",
        "        resp = client.chat.completions.create(\n",
        "            model=MODEL,\n",
        "            messages=[\n",
        "                # 只剩下 user 角色\n",
        "                {\"role\": \"user\", \"content\": fallback_user}\n",
        "            ],\n",
        "            temperature=0.2,\n",
        "            max_tokens=800,\n",
        "        )\n",
        "        raw = resp.choices[0].message.content.strip()\n",
        "        txt = re.sub(r\"^```json\\s*|\\s*```$\", \"\", raw, flags=re.IGNORECASE).strip()\n",
        "        data = json.loads(txt)\n",
        "\n",
        "        items = data.get(\"items\") if isinstance(data, dict) and \"items\" in data else data\n",
        "        if not isinstance(items, list):\n",
        "            raise ValueError(\"模型輸出不是問題清單 JSON 陣列/物件\")\n",
        "\n",
        "        qs = []\n",
        "        for obj in items:\n",
        "            if isinstance(obj, dict) and \"question\" in obj:\n",
        "                q = str(obj[\"question\"]).strip()\n",
        "            elif isinstance(obj, str):\n",
        "                q = obj.strip()\n",
        "            else:\n",
        "                continue\n",
        "            if q:\n",
        "                qs.append(q)\n",
        "        return qs[:n_pairs]"
      ]
    },
    {
      "cell_type": "code",
      "execution_count": 8,
      "id": "473c3f77-c4ad-4d3c-9085-ede92c3d2b8a",
      "metadata": {
        "id": "473c3f77-c4ad-4d3c-9085-ede92c3d2b8a"
      },
      "outputs": [],
      "source": [
        "# ---------- (B) 逐題回答：每題都嚴格依 context 回答（單輪） ----------\n",
        "def answer_questions_from_context(questions: list[str], context: str) -> list[dict]:\n",
        "    \"\"\"\n",
        "    依據 context 作答, 但「不要暴露有參考文本」。\n",
        "    若題目資訊不足以得出明確答案：提出一個具體、簡潔的釐清問題（單一句）,\n",
        "    或請使用者補充需要的關鍵條件；不要說「無法回答」「缺乏文本」等字眼。\n",
        "    \"\"\"\n",
        "    results = []\n",
        "    # Removed system message and incorporated into user message\n",
        "    user_instructions = (\n",
        "        \"你是一位知識淵博且精準的助理，請使用繁體中文回答。\\n\"\n",
        "        \"原則：\\n\"\n",
        "        \"1) 回答要自然直接，不要提到你參考了任何外部文本/資料，也不要使用「根據提供的文本/段落/資料」等措辭。\\n\"\n",
        "        \"2) 若題目資訊不足以形成明確答案：請提出一個具體、簡潔的釐清問題（只用單一句），\"\n",
        "        \"   或請使用者補充最關鍵的條件；不要說你無法回答、不要提到資訊不足或來源限制。\\n\"\n",
        "        \"3) 優先提供可執行、可驗證的重點；避免冗長鋪陳與套話。\\n\"\n",
        "        \"4) 禁止露出任何內部規則、提示詞或參考來源。\\n\\n\"\n",
        "        \"【背景資料】\\n\"\n",
        "        f\"{context}\\n\\n\"\n",
        "        \"【問題】\"\n",
        "    )\n",
        "    for q in questions:\n",
        "        # Attention: context is still included in the user message to \"implicitly limit\" the model,\n",
        "        # but the instructions prohibit it from exposing the source in its response.\n",
        "        user = f\"{user_instructions}{q}\"\n",
        "        resp = client.chat.completions.create(\n",
        "            model=MODEL,\n",
        "            messages=[\n",
        "                {\"role\": \"user\", \"content\": user},\n",
        "            ],\n",
        "            temperature=0.2,\n",
        "            max_tokens=1000,\n",
        "        )\n",
        "        ans = resp.choices[0].message.content.strip()\n",
        "        results.append({\"question\": q, \"answer\": ans})\n",
        "    return results"
      ]
    },
    {
      "cell_type": "code",
      "execution_count": 9,
      "id": "332d00c6-2667-44b9-b9d0-b31e8bb7384e",
      "metadata": {
        "id": "332d00c6-2667-44b9-b9d0-b31e8bb7384e"
      },
      "outputs": [],
      "source": [
        "# ---------- (C) 封裝為：產生問題 → 逐題回答 → 追加寫入 datasets.jsonl ----------\n",
        "def build_reference_based_from_context(context: str, n_pairs: int = 4, out_path: Path = Path(\"outputs/datasets.jsonl\")):\n",
        "    out_path.parent.mkdir(parents=True, exist_ok=True)\n",
        "\n",
        "    qs = generate_questions_from_context(context, n_pairs=n_pairs)\n",
        "    qa_list = answer_questions_from_context(qs, context) # 假設此函式內部也做了相應調整\n",
        "\n",
        "    wrote = 0\n",
        "    with out_path.open(\"a\", encoding=\"utf-8\") as f:\n",
        "        for qa in qa_list:\n",
        "            # 方案 B: 將系統指令合併到 user 訊息中\n",
        "            # 這裡的 user_prompt 格式，應該要和 answer_questions_from_context 中\n",
        "            # 用來生成答案的 prompt 格式保持一致，以確保訓練和推理的一致性。\n",
        "            user_prompt_with_instruction = (\n",
        "                f\"請嚴格依據以下提供的文本回答問題，並使用繁體中文。\\n\\n\"\n",
        "                f\"--- 文本開始 ---\\n{context}\\n--- 文本結束 ---\\n\\n\"\n",
        "                f\"問題：{qa['question']}\"\n",
        "            )\n",
        "\n",
        "            rec = {\n",
        "                \"id\": str(uuid4()),\n",
        "                \"type\": \"reference_based\",\n",
        "                \"seed\": context,\n",
        "                \"context\": context,\n",
        "                \"messages\": [\n",
        "                    # 不再使用 system 角色\n",
        "                    {\"role\": \"user\", \"content\": user_prompt_with_instruction},\n",
        "                    {\"role\": \"assistant\", \"content\": qa[\"answer\"]},\n",
        "                ],\n",
        "            }\n",
        "            f.write(json.dumps(rec, ensure_ascii=False) + \"\\n\")\n",
        "            wrote += 1\n",
        "\n",
        "    print(f\"✅ 已新增 {wrote} 筆 reference-based QA 至 {out_path}\")\n",
        "    return qa_list"
      ]
    },
    {
      "cell_type": "code",
      "source": [
        "len(wiki_context)"
      ],
      "metadata": {
        "colab": {
          "base_uri": "https://localhost:8080/"
        },
        "id": "BYBNHYma7XZK",
        "outputId": "69fc3735-90b2-40e0-c1f6-98dee3c404f3"
      },
      "id": "BYBNHYma7XZK",
      "execution_count": 10,
      "outputs": [
        {
          "output_type": "execute_result",
          "data": {
            "text/plain": [
              "1428"
            ]
          },
          "metadata": {},
          "execution_count": 10
        }
      ]
    },
    {
      "cell_type": "code",
      "source": [
        "import re\n",
        "\n",
        "def split_markdown_by_headers(markdown_text):\n",
        "    \"\"\"Splits a markdown string by headers (#, ##, ###).\"\"\"\n",
        "    # Use regex to find all headers and their positions\n",
        "    # This regex looks for lines starting with 1 to 3 '#' characters, followed by a space\n",
        "    # and captures the header line and the content that follows until the next header\n",
        "    segments = []\n",
        "    # Find all matches of headers and their starting positions\n",
        "    matches = list(re.finditer(r\"^(#+\\s.*)$\", markdown_text, re.MULTILINE))\n",
        "\n",
        "    if not matches:\n",
        "        # If no headers are found, return the entire text as a single segment\n",
        "        return [markdown_text]\n",
        "\n",
        "    # Add content before the first header if it exists\n",
        "    if matches[0].start() > 0:\n",
        "        segments.append(markdown_text[:matches[0].start()].strip())\n",
        "\n",
        "    # Iterate through the matches to extract segments\n",
        "    for i in range(len(matches)):\n",
        "        start_pos = matches[i].start()\n",
        "        # The end position is the start of the next header, or the end of the text\n",
        "        end_pos = matches[i+1].start() if i+1 < len(matches) else len(markdown_text)\n",
        "        segment = markdown_text[start_pos:end_pos].strip()\n",
        "        if segment:\n",
        "            segments.append(segment)\n",
        "\n",
        "    return segments\n",
        "\n",
        "# Split the wiki_context\n",
        "wiki_segments = split_markdown_by_headers(wiki_context)\n",
        "\n",
        "# Print the number of segments and the first few\n",
        "print(f\"Split wiki_context into {len(wiki_segments)} segments.\")\n",
        "for i, segment in enumerate(wiki_segments):\n",
        "    print(f\"\\n--- Segment {i+1} ---\")\n",
        "    print(segment[:500] + ('...' if len(segment) > 500 else ''))"
      ],
      "metadata": {
        "colab": {
          "base_uri": "https://localhost:8080/"
        },
        "id": "EoiTAHOb9N3p",
        "outputId": "048cf759-11c1-4e0c-f1f0-dea7b2402f86"
      },
      "id": "EoiTAHOb9N3p",
      "execution_count": 11,
      "outputs": [
        {
          "output_type": "stream",
          "name": "stdout",
          "text": [
            "Split wiki_context into 1 segments.\n",
            "\n",
            "--- Segment 1 ---\n",
            "\n",
            "[ 開源模型 ] Google Gemma 3 270M 介紹\n",
            "Simon Liu\n",
            "\n",
            "[ 開源模型 ] Google Gemma 3 270M\n",
            "Google 官方部落格介紹：連結\n",
            "\n",
            "Gemma 3 270M 是 Google DeepMind 於 2025 年 8 月正式推出的一款極致輕量化、大幅降低運算成本的開源語言模型。其設計理念側重於高能效、可在邊緣設備上直接運行 (on-device)，並且能迅速完成特定任務的微調 (fine-tuning)，以達到成本效益最佳化。\n",
            "\n",
            "I. 核心技術特點與差異化優勢\n",
            "1. 模型規模與架構設計\n",
            "總參數量為 2.7 億個參數，其中約 1.7 億個參數是 embedding 層權重，剩下則是 transformer 模組，屬於 Gemma 3 家族中的最小版本，採用 decoder‐only Transformer 架構。\n",
            "\n",
            "2. 能源效率極佳\n",
            "透過 INT4 量化後，根據官方的說法，在 Pixel 9 Pro SoC 上進行 25 次對話測試僅消耗 0.75% 電量，展現出極低耗電特性。\n",
            "\n",
            "3. 出色的 instruction-following...\n"
          ]
        }
      ]
    },
    {
      "cell_type": "code",
      "source": [
        "for context in wiki_segments:\n",
        "    print(\"====\")\n",
        "    print(len(context))\n",
        "    print(int(len(context)/100)+1)\n",
        "    print(context[:30])\n",
        "    print(\"=====\")"
      ],
      "metadata": {
        "colab": {
          "base_uri": "https://localhost:8080/"
        },
        "id": "lPl422189trw",
        "outputId": "de035553-fe11-4f98-a5b8-cd37b3f588fa"
      },
      "id": "lPl422189trw",
      "execution_count": 12,
      "outputs": [
        {
          "output_type": "stream",
          "name": "stdout",
          "text": [
            "====\n",
            "1428\n",
            "15\n",
            "\n",
            "[ 開源模型 ] Google Gemma 3 270M \n",
            "=====\n"
          ]
        }
      ]
    },
    {
      "cell_type": "code",
      "source": [
        "import time\n",
        "\n",
        "for context in wiki_segments:\n",
        "    _qa_preview = build_reference_based_from_context(context, n_pairs=min(int(len(context)/100)+1, 10))\n",
        "    print(\"\\n--- 產生預覽 ---\")\n",
        "    for i, qa in enumerate(_qa_preview, 1):\n",
        "        print(f\"Q{i}: {qa['question']}\")\n",
        "        print(f\"A{i}: {qa['answer'][:200]}{'...' if len(qa['answer'])>200 else ''}\\n\")\n",
        "    time.sleep(5)"
      ],
      "metadata": {
        "colab": {
          "base_uri": "https://localhost:8080/"
        },
        "id": "4mRbvk1Z92rz",
        "outputId": "7f5262d8-935d-4675-ea00-3bfdde8d36fc"
      },
      "id": "4mRbvk1Z92rz",
      "execution_count": 15,
      "outputs": [
        {
          "output_type": "stream",
          "name": "stdout",
          "text": [
            "✅ 已新增 10 筆 reference-based QA 至 outputs/datasets.jsonl\n",
            "\n",
            "--- 產生預覽 ---\n",
            "Q1: Gemma 3 270M 是由哪個團隊推出的？\n",
            "A1: Google DeepMind。\n",
            "\n",
            "Q2: Gemma 3 270M 模型總共有多少個參數？\n",
            "A2: Gemma 3 270M 模型總共有 2.7 億個參數。\n",
            "\n",
            "Q3: 在 Pixel 9 Pro SoC 上進行 25 次對話測試，Gemma 3 270M 消耗了多少電量？\n",
            "A3: Gemma 3 270M 在 Pixel 9 Pro SoC 上進行 25 次對話測試，消耗了 0.75% 的電量。\n",
            "\n",
            "Q4: Gemma 3 270M 在 IFEval 基準測試中取得了多少分數？\n",
            "A4: Gemma 3 270M 在 IFEval 基準測試中取得了約 51.2% 的分數。\n",
            "\n",
            "Q5: Gemma 3 270M 支援哪種訓練方法，便於部署？\n",
            "A5: Gemma 3 270M 支援量化自覺訓練 (QAT)，提供可用於 INT4 推論的 QAT 檢查點，確保在極度壓縮下仍維持足夠性能。\n",
            "\n",
            "Q6: Gemma 3 270M 適合哪些高頻、明確定義的片段任務？\n",
            "A6: Gemma 3 270M 適合情緒分析、實體擷取、查詢路由、結構化文本生成、創意寫作、以及遵從性檢查等任務。\n",
            "\n",
            "Q7: Gemma 3 270M 的快速微調大約需要多長時間？\n",
            "A7: 數小時。\n",
            "\n",
            "Q8: 本地化部署 Gemma 3 270M 可以帶來什麼樣的優勢？\n",
            "A8: 本地化部署 Gemma 3 270M 的優勢在於提升敏感資料的保護與隱私控制，以及避免資料傳輸至雲端。\n",
            "\n",
            "Q9: 相較於大型模型，Gemma 3 270M 在哪些方面存在限制？\n",
            "A9: 通用性、複雜對話或生成能力方面。\n",
            "\n",
            "Q10: 雖然 Gemma 3 270M 適合地端部署和快速微調，但 Google 建議在哪種硬體上完成 Fine-Tuning？\n",
            "A10: Google 建議在 GPU 或 TPU 上完成 Gemma 3 270M 的 Fine-Tuning。\n",
            "\n"
          ]
        }
      ]
    },
    {
      "cell_type": "markdown",
      "metadata": {
        "id": "3014b7ac-7748-46f6-965e-8f92b57377cf"
      },
      "source": [
        "# 02 - 資料品質檢查與過濾（Quality Checks）\n",
        "\n",
        "<div align=\"left\" style=\"line-height: 1;\">\n",
        "  <a href=\"https://discord.gg/Cx737yw4ed\" target=\"_blank\" style=\"margin: 2px;\">\n",
        "    <img alt=\"Discord\" src=\"https://img.shields.io/badge/Discord-Twinkle%20AI-7289da?logo=discord&logoColor=white&color=7289da\" style=\"display: inline-block; vertical-align: middle;\"/>\n",
        "  </a>\n",
        "  <a href=\"https://huggingface.co/twinkle-ai\" target=\"_blank\" style=\"margin: 2px;\">\n",
        "    <img alt=\"Hugging Face\" src=\"https://img.shields.io/badge/%F0%9F%A4%97%20Hugging%20Face-Twinkle%20AI-ffc107?color=ffc107&logoColor=white\" style=\"display: inline-block; vertical-align: middle;\"/>\n",
        "  </a>\n",
        "  <a href=\"https://github.com/ai-twinkle\" target=\"_blank\" style=\"margin: 2px;\">\n",
        "    <img alt=\"GitHub\" src=\"https://img.shields.io/badge/GitHub-ai--twinkle-181717?logo=github&logoColor=white&color=181717\" style=\"display: inline-block; vertical-align: middle;\"/>\n",
        "  </a>\n",
        "  <a href=\"https://colab.research.google.com/github/ai-twinkle/llm-lab/blob/main/courses/2025-08-llm-dialogue-dataset/02_quality_checks.ipynb\" target=\"_blank\" style=\"margin: 2px;\">\n",
        "    <img src=\"https://colab.research.google.com/assets/colab-badge.svg\" alt=\"Open 00_setup_and_api_call In Colab\" style=\"display: inline-block; vertical-align: middle;\"/>\n",
        "  </a>\n",
        "</div>\n",
        "\n",
        "目標：\n",
        "- 載入 `raw.jsonl`\n",
        "- 規則式檢查：敏感詞 / 結構完整 / 長度門檻 / 不含 placeholder\n",
        "- 產出 `clean.jsonl`\n",
        "- 生成摘要報表（通過/剔除統計、剔除原因分佈）"
      ],
      "id": "3014b7ac-7748-46f6-965e-8f92b57377cf"
    },
    {
      "cell_type": "markdown",
      "metadata": {
        "id": "50b8ced3-2e81-4f19-af3f-99c98c5efbd8"
      },
      "source": [
        "### 註：不論如何，禁用 [opencc-python](https://github.com/yichen0831/opencc-python) 做任何轉換\n",
        "\n",
        "雖然 OpenCC 的簡轉繁功能很方便，但它只是機械式轉換，繁體字有時會被誤判或錯轉，導致語意錯誤或不符合在地用法，因此並不適合需要精準繁體輸出的情境。"
      ],
      "id": "50b8ced3-2e81-4f19-af3f-99c98c5efbd8"
    },
    {
      "cell_type": "markdown",
      "metadata": {
        "id": "8aed0c38-dc62-44ef-aa93-dc043781f5c8"
      },
      "source": [
        "## 1. 準備路徑與依賴"
      ],
      "id": "8aed0c38-dc62-44ef-aa93-dc043781f5c8"
    },
    {
      "cell_type": "code",
      "execution_count": 16,
      "metadata": {
        "id": "92d2e6e0-336f-4893-88b9-2b88dc67c79d",
        "colab": {
          "base_uri": "https://localhost:8080/"
        },
        "outputId": "3c142cd1-5469-4c34-ceae-4e3b02d4d219"
      },
      "outputs": [
        {
          "output_type": "stream",
          "name": "stdout",
          "text": [
            "✅ 讀取來源： outputs/datasets.jsonl\n",
            "✅ 乾淨輸出： outputs/clean.jsonl\n"
          ]
        }
      ],
      "source": [
        "from pathlib import Path\n",
        "import json, re, statistics\n",
        "from collections import Counter, defaultdict\n",
        "\n",
        "INPUT_PATH = Path(\"outputs/datasets.jsonl\")\n",
        "OUTPUT_DIR = Path(\"outputs\")\n",
        "OUTPUT_CLEAN = OUTPUT_DIR / \"clean.jsonl\"\n",
        "OUTPUT_REPORT = OUTPUT_DIR / \"qc_report.json\"\n",
        "\n",
        "assert INPUT_PATH.exists(), f\"找不到 {INPUT_PATH}，請先完成 01_generate_dialogs.ipynb\"\n",
        "OUTPUT_DIR.mkdir(parents=True, exist_ok=True)\n",
        "\n",
        "print(\"✅ 讀取來源：\", INPUT_PATH)\n",
        "print(\"✅ 乾淨輸出：\", OUTPUT_CLEAN)"
      ],
      "id": "92d2e6e0-336f-4893-88b9-2b88dc67c79d"
    },
    {
      "cell_type": "markdown",
      "metadata": {
        "id": "3926d664-eddd-4303-9207-b3a2260afaf3"
      },
      "source": [
        "## 2. 載入資料\n",
        "\n",
        "逐行讀取 JSONL，存到 list。這裡不做任何變形，只檢視基本鍵值。"
      ],
      "id": "3926d664-eddd-4303-9207-b3a2260afaf3"
    },
    {
      "cell_type": "code",
      "execution_count": 17,
      "metadata": {
        "id": "a26301db-4c15-4580-a84b-5f6a4687685b",
        "colab": {
          "base_uri": "https://localhost:8080/"
        },
        "outputId": "23a33284-0d26-4329-bbfa-a26c7fb656f2"
      },
      "outputs": [
        {
          "output_type": "execute_result",
          "data": {
            "text/plain": [
              "11"
            ]
          },
          "metadata": {},
          "execution_count": 17
        }
      ],
      "source": [
        "records = []\n",
        "with INPUT_PATH.open(\"r\", encoding=\"utf-8\") as f:\n",
        "    for line in f:\n",
        "        try:\n",
        "            records.append(json.loads(line))\n",
        "        except Exception as e:\n",
        "            # 若出現無法解析的行，記錄並跳過\n",
        "            print(\"⚠️ 無法解析的行，已略過：\", e)\n",
        "\n",
        "len(records)"
      ],
      "id": "a26301db-4c15-4580-a84b-5f6a4687685b"
    },
    {
      "cell_type": "markdown",
      "metadata": {
        "id": "9b9753e1-25c2-4fce-9faa-c6266f19f43c"
      },
      "source": [
        "## 3. 品質規則定義\n",
        "\n",
        "本課採「規則式（rule-based）」檢查以快速過濾：\n",
        "1. **結構**：`messages` 至少包含 `system`、`user`、`assistant` 三則；且對話文本不為空。\n",
        "2. **多輪性**：對話需包含至少 3 輪（可鬆綁為 1 輪以上，但本課先採至少 3 輪）。\n",
        "3. **長度**：合併文本長度至少 80 字（避免過短）。\n",
        "4. **敏感詞**：過濾個資或敏感詞（示例黑名單）。\n",
        "5. **Placeholder**：不得包含 `XXX`、`<填充>` 類佔位符。"
      ],
      "id": "9b9753e1-25c2-4fce-9faa-c6266f19f43c"
    },
    {
      "cell_type": "code",
      "execution_count": 18,
      "metadata": {
        "id": "4c0923e3-6fa0-41bb-97a4-653a036c72d5"
      },
      "outputs": [],
      "source": [
        "# 1) 結構/角色檢查\n",
        "def has_min_roles(msgs):\n",
        "    roles = [m.get(\"role\") for m in msgs]\n",
        "    return {\"user\", \"assistant\"}.issubset(set(roles))\n",
        "\n",
        "# 2) 多輪性（這裡以訊息數 >= 3 視為最低門檻；若需要更嚴謹可解析回合）\n",
        "def has_min_turns(msgs, min_msgs=2):\n",
        "    return len(msgs) >= min_msgs\n",
        "\n",
        "# 3) 長度門檻\n",
        "def meet_min_length(msgs, min_chars=80):\n",
        "    total = sum(len((m.get(\"content\") or \"\").strip()) for m in msgs)\n",
        "    return total >= min_chars\n",
        "\n",
        "# 4) 敏感詞（示例）：身分證/電話/地址/Email/信用卡/生日\n",
        "SENSITIVE_PATTERNS = [\n",
        "    r\"\\b[A-Z][12]\\d{8}\\b\",                         # 台灣身分證格式\n",
        "    r\"\\b09\\d{8}\\b|\\b0\\d{1,2}-\\d{6,8}\\b\",          # 手機或市話\n",
        "    r\"[A-Za-z0-9._%+-]+@[A-Za-z0-9.-]+\\.[A-Za-z]{2,}\",  # email\n",
        "    r\"\\b\\d{4}[- ]?\\d{4}[- ]?\\d{4}[- ]?\\d{4}\\b\",   # 信用卡 16 碼\n",
        "    r\"\\b(19|20)\\d{2}[/-]\\d{1,2}[/-]\\d{1,2}\\b\",    # 西元生日 yyyy/mm/dd 或 yyyy-mm-dd\n",
        "]\n",
        "\n",
        "def has_sensitive(text):\n",
        "    return any(re.search(p, text) for p in SENSITIVE_PATTERNS)\n",
        "\n",
        "# 5) Placeholder 過濾\n",
        "PLACEHOLDER_PATTERNS = [r\"XXX\", r\"<填充>\", r\"\\[PLACEHOLDER\\]\"]\n",
        "\n",
        "def has_placeholder(text):\n",
        "    return any(re.search(p, text, flags=re.IGNORECASE) for p in PLACEHOLDER_PATTERNS)"
      ],
      "id": "4c0923e3-6fa0-41bb-97a4-653a036c72d5"
    },
    {
      "cell_type": "markdown",
      "metadata": {
        "id": "80e5a6cd-4b31-451f-a1c8-c34437a11560"
      },
      "source": [
        "## 4. 單筆檢查與原因標註\n",
        "\n",
        "輸入一筆記錄，回傳 (是否通過, 剔除原因集合)。"
      ],
      "id": "80e5a6cd-4b31-451f-a1c8-c34437a11560"
    },
    {
      "cell_type": "code",
      "execution_count": 19,
      "metadata": {
        "id": "495390d6-59f4-4ec5-a7e7-1b236a5a1ef7"
      },
      "outputs": [],
      "source": [
        "def join_text_by_roles(msgs, roles=(\"assistant\",)):\n",
        "    return \"\\n\".join((m.get(\"content\") or \"\").strip()\n",
        "                     for m in msgs if m.get(\"role\") in roles)\n",
        "\n",
        "def quality_check(record):\n",
        "    reasons = []\n",
        "\n",
        "    msgs = record.get(\"messages\", [])\n",
        "    if not isinstance(msgs, list) or not msgs:\n",
        "        return False, {\"bad_structure\"}\n",
        "\n",
        "    if not has_min_roles(msgs):\n",
        "        reasons.append(\"missing_roles\")\n",
        "\n",
        "    if not has_min_turns(msgs, min_msgs=1):\n",
        "        reasons.append(\"too_few_messages\")\n",
        "\n",
        "    # ⬇️ 只看 assistant 文字，避免掃到 user 提示內的「例如 身分證/電話…」\n",
        "    text = join_text_by_roles(msgs, roles=(\"assistant\",))\n",
        "\n",
        "    if not meet_min_length(msgs, min_chars=8):\n",
        "        reasons.append(\"too_short\")\n",
        "\n",
        "    if has_sensitive(text):\n",
        "        reasons.append(\"sensitive_content\")\n",
        "\n",
        "    if has_placeholder(text):\n",
        "        reasons.append(\"placeholder_found\")\n",
        "\n",
        "    return (len(reasons) == 0), set(reasons)"
      ],
      "id": "495390d6-59f4-4ec5-a7e7-1b236a5a1ef7"
    },
    {
      "cell_type": "markdown",
      "metadata": {
        "id": "943576f6-5c01-488e-8e71-f305afae9dd1"
      },
      "source": [
        "## 5. 執行過濾並輸出 `clean.jsonl`"
      ],
      "id": "943576f6-5c01-488e-8e71-f305afae9dd1"
    },
    {
      "cell_type": "code",
      "execution_count": 20,
      "metadata": {
        "id": "71a2ae66-e807-4ecd-a4bf-577825c339d2",
        "colab": {
          "base_uri": "https://localhost:8080/"
        },
        "outputId": "381c2ea2-23e6-46a7-aea3-07d2b428c7e4"
      },
      "outputs": [
        {
          "output_type": "stream",
          "name": "stdout",
          "text": [
            "✅ 通過：11  筆\n",
            "❌ 剔除：0 筆\n"
          ]
        }
      ],
      "source": [
        "kept, dropped = [], []\n",
        "for rec in records:\n",
        "    ok, reasons = quality_check(rec)\n",
        "    if ok:\n",
        "        kept.append(rec)\n",
        "    else:\n",
        "        dropped.append((rec.get(\"id\"), reasons))\n",
        "\n",
        "with OUTPUT_CLEAN.open(\"w\", encoding=\"utf-8\") as f:\n",
        "    for r in kept:\n",
        "        f.write(json.dumps(r, ensure_ascii=False) + \"\\n\")\n",
        "\n",
        "print(f\"✅ 通過：{len(kept)}  筆\")\n",
        "print(f\"❌ 剔除：{len(dropped)} 筆\")"
      ],
      "id": "71a2ae66-e807-4ecd-a4bf-577825c339d2"
    },
    {
      "cell_type": "markdown",
      "metadata": {
        "id": "ae5ec9a4-9eea-4a5a-8af4-0cdbead0a49a"
      },
      "source": [
        "## 6. 產出品質報表\n",
        "\n",
        "統計剔除原因分佈、長度分佈（通過者），並輸出 `qc_report.json` 方便保存與追蹤。"
      ],
      "id": "ae5ec9a4-9eea-4a5a-8af4-0cdbead0a49a"
    },
    {
      "cell_type": "code",
      "execution_count": 21,
      "metadata": {
        "id": "91348e15-d898-4b96-a6f4-8e19fa1080ae",
        "colab": {
          "base_uri": "https://localhost:8080/"
        },
        "outputId": "5dab8bb1-4083-46ab-c645-623aa8efc16a"
      },
      "outputs": [
        {
          "output_type": "stream",
          "name": "stdout",
          "text": [
            "{\n",
            "  \"input_total\": 11,\n",
            "  \"kept\": 11,\n",
            "  \"dropped\": 0,\n",
            "  \"drop_reasons\": {},\n",
            "  \"length_stats_kept\": {\n",
            "    \"min\": 822,\n",
            "    \"max\": 1598,\n",
            "    \"mean\": 1491.73,\n",
            "    \"median\": 1563\n",
            "  }\n",
            "}\n"
          ]
        }
      ],
      "source": [
        "# 剔除原因分佈\n",
        "reason_counter = Counter()\n",
        "for _id, reasons in dropped:\n",
        "    reason_counter.update(reasons)\n",
        "\n",
        "# 通過資料長度（字元計）分佈\n",
        "lengths = []\n",
        "for r in kept:\n",
        "    lengths.append(sum(len((m.get(\"content\") or \"\").strip()) for m in r[\"messages\"]))\n",
        "\n",
        "report = {\n",
        "    \"input_total\": len(records),\n",
        "    \"kept\": len(kept),\n",
        "    \"dropped\": len(dropped),\n",
        "    \"drop_reasons\": dict(reason_counter),\n",
        "    \"length_stats_kept\": {\n",
        "        \"min\": min(lengths) if lengths else 0,\n",
        "        \"max\": max(lengths) if lengths else 0,\n",
        "        \"mean\": round(statistics.mean(lengths), 2) if lengths else 0,\n",
        "        \"median\": statistics.median(lengths) if lengths else 0,\n",
        "    },\n",
        "}\n",
        "\n",
        "with OUTPUT_REPORT.open(\"w\", encoding=\"utf-8\") as f:\n",
        "    json.dump(report, f, ensure_ascii=False, indent=2)\n",
        "\n",
        "print(json.dumps(report, ensure_ascii=False, indent=2))"
      ],
      "id": "91348e15-d898-4b96-a6f4-8e19fa1080ae"
    },
    {
      "cell_type": "markdown",
      "metadata": {
        "id": "fbb83d71-8c3f-41d6-adb7-3ff00e181cfb"
      },
      "source": [
        "## 7. 抽樣檢視通過樣本（前 2 筆）\n",
        "\n",
        "確認清洗後的資料結構與內容是否符合預期。"
      ],
      "id": "fbb83d71-8c3f-41d6-adb7-3ff00e181cfb"
    },
    {
      "cell_type": "code",
      "execution_count": 22,
      "metadata": {
        "id": "1f78a29c-74fa-465c-a16d-1ba8f406406a",
        "colab": {
          "base_uri": "https://localhost:8080/"
        },
        "outputId": "a4708639-cc84-46f7-a9ec-57e797623cf9"
      },
      "outputs": [
        {
          "output_type": "stream",
          "name": "stdout",
          "text": [
            "\n",
            "--- Clean Sample 1 / topic=None ---\n",
            "好的，沒問題！身為營養與飲食規劃專家，我為您設計一份富含纖維質、不含紅肉、熱量約在600-800卡路里的午餐食譜，並提供詳細的食材、做法和營養分析，以及一些可替換的選項，讓您可以根據自己的喜好調整。\n",
            "\n",
            "**食譜名稱：藜麥雞胸肉蔬菜沙拉佐酪梨醬**\n",
            "\n",
            "**總熱量：約700-750卡路里 (依食材份量略有調整)**\n",
            "\n",
            "**主要營養素：**\n",
            "\n",
            "*   **蛋白質：** 約40-50克 (來自雞胸肉、藜麥)\n",
            "*   **纖維質：** 約15-20克 (來自藜麥、蔬菜、酪梨)\n",
            "*   **碳水化合物：** 約60-80克 (主要來自藜麥、蔬菜)\n",
            "*   **脂肪：** 約30-40克 (主要來自酪梨、橄欖油)\n",
            "\n",
            "**食材：**\n",
            "\n",
            "*   **藜麥：** 1/2 杯 (煮熟後約1杯) - 約220卡路里，5克蛋白質，3克纖維\n",
            "*   **雞胸肉：** 150克 (去皮去骨) - 約165卡路里，30克蛋白質，0克纖維\n",
            "*   **綜合蔬菜：** 2杯 (例如：生菜、菠菜、甜椒、小黃瓜、番茄、紅蘿蔔) - 約50-80卡路里，2-4克蛋白質，4-6克纖維\n",
            "*   **酪梨：** 1/4顆 - 約80...\n",
            "\n",
            "--- Clean Sample 2 / topic=None ---\n",
            "Google DeepMind。\n"
          ]
        }
      ],
      "source": [
        "preview = []\n",
        "with OUTPUT_CLEAN.open(\"r\", encoding=\"utf-8\") as f:\n",
        "    for i, line in enumerate(f):\n",
        "        if i >= 2:\n",
        "            break\n",
        "        preview.append(json.loads(line))\n",
        "\n",
        "for i, s in enumerate(preview, 1):\n",
        "    print(f\"\\n--- Clean Sample {i} / topic={s.get('topic')} ---\")\n",
        "    text = s[\"messages\"][-1][\"content\"]\n",
        "    print(text[:500] + (\"...\" if len(text) > 500 else \"\"))"
      ],
      "id": "1f78a29c-74fa-465c-a16d-1ba8f406406a"
    },
    {
      "cell_type": "markdown",
      "metadata": {
        "id": "52ebdc34-7526-4679-bf09-b9f868311a92"
      },
      "source": [
        "## 8.（可選）LLM 輔助檢查（實務建議）\n",
        "> 所謂的 LLM-as-Judge\n",
        "\n",
        "在規則式檢查後，可抽樣使用 LLM 來做語義層面的檢查（如：是否符合主題、語氣、是否含危險建議等）。  \n",
        "以下為示意程式（預設註解，不影響主流程）。"
      ],
      "id": "52ebdc34-7526-4679-bf09-b9f868311a92"
    },
    {
      "cell_type": "code",
      "execution_count": 23,
      "metadata": {
        "id": "88b8958b-6f3a-4417-9ba2-e13a4a5500fd"
      },
      "outputs": [],
      "source": [
        "# from openai import OpenAI\n",
        "# API_KEY = \"\"  # 註解：這裡要問 Twinkle AI 社群\n",
        "# BASE_URL = \"https://litellm-ekkks8gsocw.dgx-coolify.apmic.ai\"\n",
        "# client = OpenAI(api_key=API_KEY, base_url=f\"{BASE_URL}/v1\")\n",
        "#\n",
        "# def llm_qc_judgement(text: str) -> bool:\n",
        "#     \"\"\"回傳 True 視為通過；False 視為不通過\"\"\"\n",
        "#     prompt = f\"請閱讀以下對話是否符合：主題連貫、語氣正式友善、無敏感資料、無危險建議。\\n\\n{text}\\n\\n請只回答：PASS 或 FAIL。\"\n",
        "#     resp = client.chat.completions.create(\n",
        "#         model=\"gemma-3-12b-it\",\n",
        "#         messages=[{\"role\":\"user\",\"content\": prompt}],\n",
        "#         temperature=0.0,\n",
        "#         max_tokens=10,\n",
        "#     )\n",
        "#     ans = resp.choices[0].message.content.strip().upper()\n",
        "#     return ans.startswith(\"PASS\")\n",
        "#\n",
        "# # 示例（只檢查前 3 筆）\n",
        "# for s in preview:\n",
        "#     ok = llm_qc_judgement(\"\\n\".join(m[\"content\"] for m in s[\"messages\"]))\n",
        "#     print(\"LLM QC ->\", \"PASS\" if ok else \"FAIL\")"
      ],
      "id": "88b8958b-6f3a-4417-9ba2-e13a4a5500fd"
    },
    {
      "cell_type": "markdown",
      "metadata": {
        "id": "e2bfbf3a-5157-4bab-826b-64c510619a31"
      },
      "source": [
        "## 9.（可選）如果生成資料集一直沒通過"
      ],
      "id": "e2bfbf3a-5157-4bab-826b-64c510619a31"
    },
    {
      "cell_type": "code",
      "execution_count": 24,
      "metadata": {
        "id": "b5d49ad4-a02e-4416-81a3-22bdd0b10ab5"
      },
      "outputs": [],
      "source": [
        "# 🔍 Debug：逐筆列出命中的敏感詞 / Placeholder（含前後文）\n",
        "import re\n",
        "\n",
        "def _ctx(text: str, start: int, end: int, width: int = 50) -> str:\n",
        "    s = max(0, start - width)\n",
        "    e = min(len(text), end + width)\n",
        "    return text[s:start] + \"【\" + text[start:end] + \"】\" + text[end:e]\n",
        "\n",
        "def debug_scan_record(rec: dict, show_only_hits: bool = True):\n",
        "    rid = rec.get(\"id\", \"<no-id>\")\n",
        "    topic = rec.get(\"topic\", \"\")\n",
        "    msgs = rec.get(\"messages\", [])\n",
        "\n",
        "    # 🔑 只掃 assistant（模型輸出）\n",
        "    text = \"\\n\".join((m.get(\"content\") or \"\") for m in msgs if m.get(\"role\") == \"assistant\")\n",
        "\n",
        "    sens_hits = []\n",
        "    for p in SENSITIVE_PATTERNS:\n",
        "        for m in re.finditer(p, text, flags=re.IGNORECASE):\n",
        "            sens_hits.append((p, m.start(), m.end(), m.group(0)))\n",
        "\n",
        "    ph_hits = []\n",
        "    for p in PLACEHOLDER_PATTERNS:\n",
        "        for m in re.finditer(p, text, flags=re.IGNORECASE):\n",
        "            ph_hits.append((p, m.start(), m.end(), m.group(0)))\n",
        "\n",
        "    if sens_hits or ph_hits or not show_only_hits:\n",
        "        print(f\"\\n=== Record id={rid} | topic={topic} ===\")\n",
        "        if sens_hits:\n",
        "            print(f\"Sensitive matches ({len(sens_hits)}):\")\n",
        "            for p, s, e, g in sens_hits:\n",
        "                print(f\" - pattern: {p}  | match: {g!r}\")\n",
        "                print(\"   ...\", _ctx(text, s, e), \"...\")\n",
        "        if ph_hits:\n",
        "            print(f\"Placeholder matches ({len(ph_hits)}):\")\n",
        "            for p, s, e, g in ph_hits:\n",
        "                print(f\" - pattern: {p}  | match: {g!r}\")\n",
        "                print(\"   ...\", _ctx(text, s, e), \"...\")\n",
        "    return bool(sens_hits), bool(ph_hits)\n",
        "\n",
        "def debug_scan_all(recs: list[dict], limit: int | None = None):\n",
        "    n = 0\n",
        "    total_sens = total_ph = 0\n",
        "    for rec in recs:\n",
        "        sens, ph = debug_scan_record(rec)\n",
        "        total_sens += int(sens)\n",
        "        total_ph += int(ph)\n",
        "        n += 1\n",
        "        if limit and n >= limit:\n",
        "            break\n",
        "    print(f\"\\nSummary: scanned {n} records | with_sensitive={total_sens} | with_placeholder={total_ph}\")"
      ],
      "id": "b5d49ad4-a02e-4416-81a3-22bdd0b10ab5"
    },
    {
      "cell_type": "code",
      "execution_count": 25,
      "metadata": {
        "id": "f4161db3-b9e8-430e-b8b7-a5492edc3491",
        "colab": {
          "base_uri": "https://localhost:8080/"
        },
        "outputId": "8f952706-7219-4a7b-8799-3c3aa01b5aea"
      },
      "outputs": [
        {
          "output_type": "stream",
          "name": "stdout",
          "text": [
            "\n",
            "Summary: scanned 11 records | with_sensitive=0 | with_placeholder=0\n"
          ]
        }
      ],
      "source": [
        "# 假設你已在前面載入 records = [...]（從 raw.jsonl）\n",
        "debug_scan_all(records)          # 掃全部\n",
        "# 或只看前 10 筆\n",
        "# debug_scan_all(records, limit=10)"
      ],
      "id": "f4161db3-b9e8-430e-b8b7-a5492edc3491"
    },
    {
      "cell_type": "markdown",
      "metadata": {
        "id": "74e85e7f-dce9-4f7a-a73f-033328c2e549"
      },
      "source": [
        "# 03 — 將資料集上傳到 Hugging Face Hub（Dataset Repo）\n",
        "<div align=\"left\" style=\"line-height: 1;\">\n",
        "  <a href=\"https://discord.gg/Cx737yw4ed\" target=\"_blank\" style=\"margin: 2px;\">\n",
        "    <img alt=\"Discord\" src=\"https://img.shields.io/badge/Discord-Twinkle%20AI-7289da?logo=discord&logoColor=white&color=7289da\" style=\"display: inline-block; vertical-align: middle;\"/>\n",
        "  </a>\n",
        "  <a href=\"https://huggingface.co/twinkle-ai\" target=\"_blank\" style=\"margin: 2px;\">\n",
        "    <img alt=\"Hugging Face\" src=\"https://img.shields.io/badge/%F0%9F%A4%97%20Hugging%20Face-Twinkle%20AI-ffc107?color=ffc107&logoColor=white\" style=\"display: inline-block; vertical-align: middle;\"/>\n",
        "  </a>\n",
        "  <a href=\"https://github.com/ai-twinkle\" target=\"_blank\" style=\"margin: 2px;\">\n",
        "    <img alt=\"GitHub\" src=\"https://img.shields.io/badge/GitHub-ai--twinkle-181717?logo=github&logoColor=white&color=181717\" style=\"display: inline-block; vertical-align: middle;\"/>\n",
        "  </a>\n",
        "  <a href=\"https://colab.research.google.com/github/ai-twinkle/llm-lab/blob/main/courses/2025-08-llm-dialogue-dataset/03_upload_to_hfhub.ipynb\" target=\"_blank\" style=\"margin: 2px;\">\n",
        "    <img src=\"https://colab.research.google.com/assets/colab-badge.svg\" alt=\"Open 00_setup_and_api_call In Colab\" style=\"display: inline-block; vertical-align: middle;\"/>\n",
        "  </a>\n",
        "</div>\n",
        "\n",
        "本章目標：\n",
        "1. 準備要上傳的檔案（預期：`outputs/datasets.jsonl`）\n",
        "2. 使用 `huggingface_hub` 建立或覆用 **Dataset repo**\n",
        "3. 上傳 `data/train.jsonl`（選配：同時上傳 `train.parquet`）\n",
        "4. 建立 / 更新 Dataset Card（`README.md`）"
      ],
      "id": "74e85e7f-dce9-4f7a-a73f-033328c2e549"
    },
    {
      "cell_type": "code",
      "execution_count": 26,
      "metadata": {
        "id": "544a0f13-b9e4-4ada-99ff-6bbdff9715d6",
        "colab": {
          "base_uri": "https://localhost:8080/"
        },
        "outputId": "12c0d852-89c4-420b-9d5b-235213e727d6"
      },
      "outputs": [
        {
          "output_type": "stream",
          "name": "stdout",
          "text": [
            "Repo: Simon-Liu/gemma-270m-medium-qa\n",
            "Local file: /content/outputs/datasets.jsonl\n"
          ]
        }
      ],
      "source": [
        "from huggingface_hub import HfApi, create_repo, upload_file, upload_folder\n",
        "from huggingface_hub import login as hf_login\n",
        "from pathlib import Path\n",
        "import json, os, time\n",
        "from google.colab import userdata\n",
        "\n",
        "\n",
        "# === 基本設定（請依實際調整） ===\n",
        "HF_TOKEN = userdata.get(\"HF_TOKEN\")  # ← 向 Twinkle AI 社群索取（請勿上傳到公開 repo）\n",
        "ORG_OR_USER = \"Simon-Liu\"  # 你的組織/個人帳號\n",
        "DATASET_NAME = \"gemma-270m-medium-qa\"  # 建議有日期與主題\n",
        "REPO_ID = f\"{ORG_OR_USER}/{DATASET_NAME}\"         # 例：ai-twinkle/twinkle-dialogue-gemma3-2025-08\n",
        "\n",
        "LOCAL_JSONL = Path(\"outputs/datasets.jsonl\")      # 01/02 章節累積的主檔，註：這裡仍先以 datasets.jsonl，使用者可以再考慮要不要上傳 clean.jsonl\n",
        "assert LOCAL_JSONL.exists(), f\"找不到 {LOCAL_JSONL}，請先完成前面章節生成資料\"\n",
        "\n",
        "# 可選：是否也上傳 Parquet（HF Hub 也會在後台自動生成 parquet 分支，但這裡示範手動輸出一次）\n",
        "ALSO_UPLOAD_PARQUET = True\n",
        "\n",
        "print(\"Repo:\", REPO_ID)\n",
        "print(\"Local file:\", LOCAL_JSONL.resolve())"
      ],
      "id": "544a0f13-b9e4-4ada-99ff-6bbdff9715d6"
    },
    {
      "cell_type": "code",
      "execution_count": 47,
      "metadata": {
        "id": "1d9493e6-8eb4-4ea0-a678-0ce92d029b95",
        "colab": {
          "base_uri": "https://localhost:8080/"
        },
        "outputId": "ddac9668-ae4c-4ce4-d753-5746c9f4a37b"
      },
      "outputs": [
        {
          "output_type": "stream",
          "name": "stdout",
          "text": [
            "✅ 產生 Dataset Card： /content/outputs/README.md\n"
          ]
        }
      ],
      "source": [
        "CARD_PATH = Path(\"outputs/README.md\")\n",
        "CARD_PATH.parent.mkdir(parents=True, exist_ok=True)\n",
        "\n",
        "# 注意：HF 會讀取 README.md 頂端的 YAML 區塊作為中繼資料\n",
        "card_md = f\"\"\"---\n",
        "pretty_name: Twinkle Dialogue (Gemma-3-27B-it, ADK Reference)\n",
        "tags:\n",
        "- dialog\n",
        "- instruction-tuning\n",
        "- sft\n",
        "- openai-messages\n",
        "- reference-based\n",
        "- reference-free\n",
        "license: cc-by-4.0\n",
        "task_categories:\n",
        "- text-generation\n",
        "language:\n",
        "- zh\n",
        "---\n",
        "\n",
        "# Twinkle Dialogue (Gemma-3-27B-it, ADK Reference)\n",
        "<div align=\"left\" style=\"line-height: 1;\">\n",
        "  <a href=\"https://discord.gg/Cx737yw4ed\" target=\"_blank\" style=\"margin: 2px;\">\n",
        "    <img alt=\"Discord\" src=\"https://img.shields.io/badge/Discord-Twinkle%20AI-7289da?logo=discord&logoColor=white&color=7289da\" style=\"display: inline-block; vertical-align: middle;\"/>\n",
        "  </a>\n",
        "  <a href=\"https://huggingface.co/twinkle-ai\" target=\"_blank\" style=\"margin: 2px;\">\n",
        "    <img alt=\"Hugging Face\" src=\"https://img.shields.io/badge/%F0%9F%A4%97%20Hugging%20Face-Twinkle%20AI-ffc107?color=ffc107&logoColor=white\" style=\"display: inline-block; vertical-align: middle;\"/>\n",
        "  </a>\n",
        "</div>\n",
        "\n",
        "本資料集包含由 **Gemma-3-27B-it（Twinkle AI 社群服務）** 生成的對話資料，採用 **OpenAI Chat Messages** 格式（`.jsonl`）。資料來源結合：\n",
        "- **Reference-free**：由 seed 派生的單輪問答。\n",
        "- **Reference-based**：依據 [ADK Python Repository](https://github.com/google/adk-python) 的 Markdown 內容生成單輪問答。\n",
        "\n",
        "> 檔案路徑：`data/train.jsonl`（選配：`data/train.parquet`）\n",
        "\n",
        "## 結構說明\n",
        "- 每列為一筆樣本：`{{\"id\": \"...\", \"type\": \"...\", \"seed\": \"...\", \"context\": \"...\", \"messages\": [{{\"role\":\"user\",\"content\":\"...\"}}, {{\"role\":\"assistant\",\"content\":\"...\"}}]}}`\n",
        "- `type` 欄位標示資料來源：`reference_free` 或 `reference_based`。\n",
        "- `seed` 欄位儲存 Reference-free 的原始 seed 指令，或 Reference-based 的參考文本片段。\n",
        "- `context` 欄位僅在 `reference_based` 資料中包含完整的參考文本片段。\n",
        "- 訓練時可直接使用 `messages` 欄位的對話格式進行訓練。\n",
        "\n",
        "## 來源與限制\n",
        "- Model: gemma-3-27b-it\n",
        "- 語言：繁體中文（生成內容），部分參考文本為英文。\n",
        "- 使用情境：教學示範用；不代表專業意見。\n",
        "- **重要**：Reference-based 資料的問題和答案均從參考文本中生成，答案不應超出參考文本範圍。\n",
        "\n",
        "## 授權\n",
        "- 建議使用 **CC BY 4.0**；若另有需求請調整 `license` 欄位。\n",
        "\"\"\"\n",
        "\n",
        "CARD_PATH.write_text(card_md, encoding=\"utf-8\")\n",
        "print(\"✅ 產生 Dataset Card：\", CARD_PATH.resolve())"
      ],
      "id": "1d9493e6-8eb4-4ea0-a678-0ce92d029b95"
    },
    {
      "cell_type": "code",
      "execution_count": 43,
      "metadata": {
        "id": "9e517999-70ed-4814-8fe7-b486c360fa6d",
        "colab": {
          "base_uri": "https://localhost:8080/",
          "height": 66,
          "referenced_widgets": [
            "4a6c2f7f95904f809cf659b0f4e1fb73",
            "686bf194b28748b985ffbb8debc5df46",
            "7fa121682ec040a794d4afcb134ef678",
            "5265b7a06e6f4123babc358b6edd78ff",
            "49949b37dd034587bcbc9a8cc6f137cb",
            "b8b2b8c81490431aad306fea27c10dc0",
            "13bf93da294e43e3b6690e735d7fd7e6",
            "d40988ffe2ad4253b0feda0911c380c4",
            "b1b01584bdd64fa8a1e58724ff4f2390",
            "b99894ca0e3d4f698fc2576a145e7f6f",
            "122a5f8e4d6343bb9bba3bfae034e2db"
          ]
        },
        "outputId": "39bc3a92-07e1-41f1-dd4b-91d66422972f"
      },
      "outputs": [
        {
          "output_type": "display_data",
          "data": {
            "text/plain": [
              "Creating parquet from Arrow format:   0%|          | 0/1 [00:00<?, ?ba/s]"
            ],
            "application/vnd.jupyter.widget-view+json": {
              "version_major": 2,
              "version_minor": 0,
              "model_id": "4a6c2f7f95904f809cf659b0f4e1fb73"
            }
          },
          "metadata": {}
        },
        {
          "output_type": "stream",
          "name": "stdout",
          "text": [
            "✅ 產生 parquet： /content/outputs/train.parquet\n"
          ]
        }
      ],
      "source": [
        "if ALSO_UPLOAD_PARQUET:\n",
        "    from datasets import Dataset\n",
        "    import pandas as pd\n",
        "\n",
        "    # 讀 jsonl → Dataset → parquet\n",
        "    rows = []\n",
        "    with LOCAL_JSONL.open(\"r\", encoding=\"utf-8\") as f:\n",
        "        for line in f:\n",
        "            rows.append(json.loads(line))\n",
        "    ds = Dataset.from_pandas(pd.DataFrame(rows))\n",
        "    PARQUET_PATH = Path(\"outputs/train.parquet\")\n",
        "    ds.to_parquet(PARQUET_PATH)\n",
        "    print(\"✅ 產生 parquet：\", PARQUET_PATH.resolve())\n",
        "else:\n",
        "    PARQUET_PATH = None"
      ],
      "id": "9e517999-70ed-4814-8fe7-b486c360fa6d"
    },
    {
      "cell_type": "code",
      "execution_count": 29,
      "metadata": {
        "id": "d8177bde-6942-4329-96d6-1d268fa68fbc",
        "colab": {
          "base_uri": "https://localhost:8080/"
        },
        "outputId": "a98f9b00-f723-4661-b6c4-6329b92ab32f"
      },
      "outputs": [
        {
          "output_type": "stream",
          "name": "stdout",
          "text": [
            "✅ 產生 .gitattributes\n"
          ]
        }
      ],
      "source": [
        "# HF 對部分副檔名會自動 LFS，但 .jsonl 有時未必；這裡顯式指定\n",
        "GITATTR_PATH = Path(\"outputs/.gitattributes\")\n",
        "gitattributes = \"\"\"*.jsonl filter=lfs diff=lfs merge=lfs -text\n",
        "*.parquet filter=lfs diff=lfs merge=lfs -text\n",
        "\"\"\"\n",
        "GITATTR_PATH.write_text(gitattributes, encoding=\"utf-8\")\n",
        "print(\"✅ 產生 .gitattributes\")"
      ],
      "id": "d8177bde-6942-4329-96d6-1d268fa68fbc"
    },
    {
      "cell_type": "code",
      "execution_count": 30,
      "metadata": {
        "id": "b6a79ecc-b60b-4f22-91e8-c68cecc38beb",
        "colab": {
          "base_uri": "https://localhost:8080/",
          "height": 52
        },
        "outputId": "251bd5c5-d3fe-47ab-b603-de5d92ce808f"
      },
      "outputs": [
        {
          "output_type": "stream",
          "name": "stdout",
          "text": [
            "Logged in as: Simon-Liu\n"
          ]
        },
        {
          "output_type": "execute_result",
          "data": {
            "text/plain": [
              "RepoUrl('https://huggingface.co/datasets/Simon-Liu/gemma-270m-medium-qa', endpoint='https://huggingface.co', repo_type='dataset', repo_id='Simon-Liu/gemma-270m-medium-qa')"
            ],
            "application/vnd.google.colaboratory.intrinsic+json": {
              "type": "string"
            }
          },
          "metadata": {},
          "execution_count": 30
        }
      ],
      "source": [
        "from huggingface_hub import login as hf_login, whoami, HfApi\n",
        "\n",
        "hf_login(token=HF_TOKEN)  # 一次性登入本機快取\n",
        "print(\"Logged in as:\", whoami()[\"name\"])\n",
        "\n",
        "# ==== 先建立（或覆用）Dataset repo ====\n",
        "api = HfApi()\n",
        "api.create_repo(\n",
        "    repo_id=REPO_ID,\n",
        "    repo_type=\"dataset\",\n",
        "    exist_ok=True,   # 已存在則不報錯\n",
        "    private=False    # 需要私有可改 True\n",
        ")"
      ],
      "id": "b6a79ecc-b60b-4f22-91e8-c68cecc38beb"
    },
    {
      "cell_type": "code",
      "execution_count": 48,
      "metadata": {
        "id": "dd562d22-bf69-47f4-b18c-775737ec4c90",
        "colab": {
          "base_uri": "https://localhost:8080/",
          "height": 348,
          "referenced_widgets": [
            "007b4b69cf8d4cc3b74972c644703f5b",
            "06d6a790956c4dd881131a683eb1a0af",
            "d022f23830f64fd78eaac5bf2422bbac",
            "7e5bc26fd85e48e8a2cb4c468dc824bd",
            "1f78a1036ebd442abec64f5f416b6819",
            "be1816b2904d4b379de6876a54bcc500",
            "5b6a482d25a54d5ca0e72eba0a9819be",
            "ce52b538db564828bba2d42a8c54b7a3",
            "420c0179ae5849419041af4a7aa3aced",
            "eda8027ddd8046bc80638bf611620a74",
            "d06c6322d63d407f840593d6aea77200",
            "83d1c92205064b2eafa758beccdcc792",
            "2b889720a8f846809d9eab00d54fdb43",
            "03c0c8ac433247809005c416486457df",
            "128bc270bd4845c181499ff15b385f14",
            "0a0527a8c14e4191a5f5466d147d3501",
            "253123f62b4f4d12a1923ccc4d187bb8",
            "42e0770b90b94bc199139c516ab83607",
            "1224c7b9822a4365bce1e69a88cbf8f9",
            "6b34aff7b74544af93b019bfe1e07d6a",
            "6af7e1d1ddde47ad93b54aed0b695a18",
            "8f748d3edd9941dc9fd86d0187b62a11",
            "aaae8f91b777437aab792831a48af2ba",
            "096901869c9f47668c43c4709b1b60f3",
            "69143fadcd5148ac9242be54bfd46c1c",
            "925c89398dc142ef8c96b6eeaf1cae43",
            "8b87bca106a64e1b878139904291a945",
            "bb76a40c799e4545bf67abdef39f8457",
            "240cb933bd0e4850990b9d363e822c16",
            "bb72cb96932048379add691ecf14e8a7",
            "77a02af5e6844d44a09a5d2e4310a168",
            "ac06504fa2724961a98166c297a71391",
            "1206c94365294a2aad735eefd9e83a88",
            "58a6551e516243d39e8a38c0b54facd6",
            "0551fb34649642dba752063df91404b4",
            "c2aff5be3ca047d4a6609249488789bf",
            "c28af8942e104fdbba0667646ce67c7c",
            "f80192fc3da242829b6bb1ec9487f2e5",
            "61a9112d2ddd4c1b9b9ba1a534381d57",
            "2e634f59a444477cb9b87d15289e131f",
            "d10c24c0bfb743269044610306bdce87",
            "d850d5590d244d15a7513a008c3b7ecb",
            "2cbe681e53564bbea1c3317b5e51b4f5",
            "357711ce5a4f49c6b0fc20923bbc97f1",
            "494dc9846fae4a5ab331f1581acf7ce4",
            "2e785e63372547d8abc0eaf37035cc33",
            "124a9b9691b74ff881b0d4f242c5e7b2",
            "54660865d55548baa04c037e7ec69229",
            "b3c2c0bbaaff4d7581068df08b1950cb",
            "380e5bf0aab14bdd9fd56ef7ffb2be1b",
            "e95e4c26421844d48e4d2ce664c34d2c",
            "868da431bed14c34a9bc45c045ccca0b",
            "b40b680399c649318aabba5f911ebf21",
            "413a42c7337b4f66be1eafde701312fc",
            "0013e2762c004d6ba8f2b482947863d7",
            "65dcf0d80d27494d967cbda68ee92992",
            "b3bc0fb2428841f7b8185f2f4069bbe1",
            "97a2076cd6f345a7a55a018c00d9e082",
            "9479f647c9a941ea87c3470dfa854a8b",
            "fa457b4b6d4246a6981590c9e96257aa",
            "d89572e116644b6b8ae6cc22ee49837f",
            "87c0c03c53f3411c944bd06406dcf8a1",
            "4f5f55fa06644a578e7bb2bd415d51e9",
            "ed3fa9e21b854118bd713a16af850bcc",
            "a580c9bc1b034628a84e391b6fcb97ed",
            "c1a66b6867d5480db0a0c34ed4e67fd1"
          ]
        },
        "outputId": "d9c93f47-6fb5-48ab-c9e6-6b6a8f75f481"
      },
      "outputs": [
        {
          "output_type": "display_data",
          "data": {
            "text/plain": [
              "Processing Files (0 / 0)                : |          |  0.00B /  0.00B            "
            ],
            "application/vnd.jupyter.widget-view+json": {
              "version_major": 2,
              "version_minor": 0,
              "model_id": "007b4b69cf8d4cc3b74972c644703f5b"
            }
          },
          "metadata": {}
        },
        {
          "output_type": "display_data",
          "data": {
            "text/plain": [
              "New Data Upload                         : |          |  0.00B /  0.00B            "
            ],
            "application/vnd.jupyter.widget-view+json": {
              "version_major": 2,
              "version_minor": 0,
              "model_id": "83d1c92205064b2eafa758beccdcc792"
            }
          },
          "metadata": {}
        },
        {
          "output_type": "display_data",
          "data": {
            "text/plain": [
              "  outputs/datasets.jsonl                : 100%|##########|  101kB /  101kB            "
            ],
            "application/vnd.jupyter.widget-view+json": {
              "version_major": 2,
              "version_minor": 0,
              "model_id": "aaae8f91b777437aab792831a48af2ba"
            }
          },
          "metadata": {}
        },
        {
          "output_type": "stream",
          "name": "stderr",
          "text": [
            "No files have been modified since last commit. Skipping to prevent empty commit.\n",
            "WARNING:huggingface_hub.hf_api:No files have been modified since last commit. Skipping to prevent empty commit.\n",
            "No files have been modified since last commit. Skipping to prevent empty commit.\n",
            "WARNING:huggingface_hub.hf_api:No files have been modified since last commit. Skipping to prevent empty commit.\n"
          ]
        },
        {
          "output_type": "display_data",
          "data": {
            "text/plain": [
              "Processing Files (0 / 0)                : |          |  0.00B /  0.00B            "
            ],
            "application/vnd.jupyter.widget-view+json": {
              "version_major": 2,
              "version_minor": 0,
              "model_id": "58a6551e516243d39e8a38c0b54facd6"
            }
          },
          "metadata": {}
        },
        {
          "output_type": "display_data",
          "data": {
            "text/plain": [
              "New Data Upload                         : |          |  0.00B /  0.00B            "
            ],
            "application/vnd.jupyter.widget-view+json": {
              "version_major": 2,
              "version_minor": 0,
              "model_id": "494dc9846fae4a5ab331f1581acf7ce4"
            }
          },
          "metadata": {}
        },
        {
          "output_type": "display_data",
          "data": {
            "text/plain": [
              "  outputs/train.parquet                 : 100%|##########| 33.3kB / 33.3kB            "
            ],
            "application/vnd.jupyter.widget-view+json": {
              "version_major": 2,
              "version_minor": 0,
              "model_id": "65dcf0d80d27494d967cbda68ee92992"
            }
          },
          "metadata": {}
        },
        {
          "output_type": "stream",
          "name": "stderr",
          "text": [
            "No files have been modified since last commit. Skipping to prevent empty commit.\n",
            "WARNING:huggingface_hub.hf_api:No files have been modified since last commit. Skipping to prevent empty commit.\n"
          ]
        },
        {
          "output_type": "stream",
          "name": "stdout",
          "text": [
            "✅ 上傳完成\n",
            "👉 瀏覽： https://huggingface.co/datasets/Simon-Liu/gemma-270m-medium-qa\n"
          ]
        }
      ],
      "source": [
        "# 建議的 Hub 目錄結構\n",
        "REMOTE_JSONL = \"data/train.jsonl\"\n",
        "REMOTE_PARQUET = \"data/train.parquet\" if PARQUET_PATH else None\n",
        "REMOTE_CARD = \"README.md\"\n",
        "REMOTE_GITATTR = \".gitattributes\"\n",
        "\n",
        "# 逐檔上傳（huggingface_hub 會自動處理 commit）\n",
        "upload_file(\n",
        "    path_or_fileobj=str(LOCAL_JSONL),\n",
        "    path_in_repo=REMOTE_JSONL,\n",
        "    repo_id=REPO_ID,\n",
        "    repo_type=\"dataset\",\n",
        ")\n",
        "\n",
        "upload_file(\n",
        "    path_or_fileobj=str(CARD_PATH),\n",
        "    path_in_repo=REMOTE_CARD,\n",
        "    repo_id=REPO_ID,\n",
        "    repo_type=\"dataset\",\n",
        ")\n",
        "\n",
        "upload_file(\n",
        "    path_or_fileobj=str(GITATTR_PATH),\n",
        "    path_in_repo=REMOTE_GITATTR,\n",
        "    repo_id=REPO_ID,\n",
        "    repo_type=\"dataset\",\n",
        ")\n",
        "\n",
        "if PARQUET_PATH and PARQUET_PATH.exists():\n",
        "    upload_file(\n",
        "        path_or_fileobj=str(PARQUET_PATH),\n",
        "        path_in_repo=REMOTE_PARQUET,\n",
        "        repo_id=REPO_ID,\n",
        "        repo_type=\"dataset\",\n",
        "    )\n",
        "\n",
        "print(\"✅ 上傳完成\")\n",
        "print(f\"👉 瀏覽： https://huggingface.co/datasets/{REPO_ID}\")"
      ],
      "id": "dd562d22-bf69-47f4-b18c-775737ec4c90"
    },
    {
      "cell_type": "code",
      "execution_count": 32,
      "metadata": {
        "id": "c5f77de1-ad5a-4c8c-aa7b-44b33f619066",
        "colab": {
          "base_uri": "https://localhost:8080/"
        },
        "outputId": "51efcc00-25cd-4be4-c447-7ee447d550b3"
      },
      "outputs": [
        {
          "output_type": "execute_result",
          "data": {
            "text/plain": [
              "array([{'content': '我想要一份適合午餐的食譜，不含紅肉，富含纖維質，總熱量約在600-800卡路里之間。', 'role': 'user'},\n",
              "       {'content': '好的，沒問題！身為營養與飲食規劃專家，我為您設計一份富含纖維質、不含紅肉、熱量約在600-800卡路里的午餐食譜，並提供詳細的食材、做法和營養分析，以及一些可替換的選項，讓您可以根據自己的喜好調整。\\n\\n**食譜名稱：藜麥雞胸肉蔬菜沙拉佐酪梨醬**\\n\\n**總熱量：約700-750卡路里 (依食材份量略有調整)**\\n\\n**主要營養素：**\\n\\n*   **蛋白質：** 約40-50克 (來自雞胸肉、藜麥)\\n*   **纖維質：** 約15-20克 (來自藜麥、蔬菜、酪梨)\\n*   **碳水化合物：** 約60-80克 (主要來自藜麥、蔬菜)\\n*   **脂肪：** 約30-40克 (主要來自酪梨、橄欖油)\\n\\n**食材：**\\n\\n*   **藜麥：** 1/2 杯 (煮熟後約1杯) - 約220卡路里，5克蛋白質，3克纖維\\n*   **雞胸肉：** 150克 (去皮去骨) - 約165卡路里，30克蛋白質，0克纖維\\n*   **綜合蔬菜：** 2杯 (例如：生菜、菠菜、甜椒、小黃瓜、番茄、紅蘿蔔) - 約50-80卡路里，2-4克蛋白質，4-6克纖維\\n*   **酪梨：** 1/4顆 - 約80卡路里，1克蛋白質，3克纖維\\n*   **檸檬汁：** 1湯匙 - 約5卡路里\\n*   **橄欖油：** 1湯匙 - 約120卡路里\\n*   **調味料：** 鹽、黑胡椒、蒜粉、義大利香草 (適量)\\n*   **可選：** 堅果碎 (杏仁、核桃) 1湯匙 - 約50-70卡路里，2-3克蛋白質，1-2克纖維\\n\\n**做法：**\\n\\n1.  **準備藜麥：** 將藜麥洗淨，加入2杯水煮沸後轉小火煮15-20分鐘，直到水分被吸收。放涼備用。\\n2.  **烹調雞胸肉：** 雞胸肉可以用多種方式烹調，例如：\\n    *   **烤箱：** 預熱烤箱至180°C，將雞', 'role': 'assistant'}],\n",
              "      dtype=object)"
            ]
          },
          "metadata": {},
          "execution_count": 32
        }
      ],
      "source": [
        "import pandas as pd\n",
        "\n",
        "df = pd.read_parquet(\"outputs/train.parquet\")\n",
        "df['messages'][0]"
      ],
      "id": "c5f77de1-ad5a-4c8c-aa7b-44b33f619066"
    }
  ],
  "metadata": {
    "kernelspec": {
      "display_name": "Python 3 (ipykernel)",
      "language": "python",
      "name": "python3"
    },
    "language_info": {
      "codemirror_mode": {
        "name": "ipython",
        "version": 3
      },
      "file_extension": ".py",
      "mimetype": "text/x-python",
      "name": "python",
      "nbconvert_exporter": "python",
      "pygments_lexer": "ipython3",
      "version": "3.11.6"
    },
    "colab": {
      "provenance": [],
      "include_colab_link": true
    },
    "widgets": {
      "application/vnd.jupyter.widget-state+json": {
        "4a6c2f7f95904f809cf659b0f4e1fb73": {
          "model_module": "@jupyter-widgets/controls",
          "model_name": "HBoxModel",
          "model_module_version": "1.5.0",
          "state": {
            "_dom_classes": [],
            "_model_module": "@jupyter-widgets/controls",
            "_model_module_version": "1.5.0",
            "_model_name": "HBoxModel",
            "_view_count": null,
            "_view_module": "@jupyter-widgets/controls",
            "_view_module_version": "1.5.0",
            "_view_name": "HBoxView",
            "box_style": "",
            "children": [
              "IPY_MODEL_686bf194b28748b985ffbb8debc5df46",
              "IPY_MODEL_7fa121682ec040a794d4afcb134ef678",
              "IPY_MODEL_5265b7a06e6f4123babc358b6edd78ff"
            ],
            "layout": "IPY_MODEL_49949b37dd034587bcbc9a8cc6f137cb"
          }
        },
        "686bf194b28748b985ffbb8debc5df46": {
          "model_module": "@jupyter-widgets/controls",
          "model_name": "HTMLModel",
          "model_module_version": "1.5.0",
          "state": {
            "_dom_classes": [],
            "_model_module": "@jupyter-widgets/controls",
            "_model_module_version": "1.5.0",
            "_model_name": "HTMLModel",
            "_view_count": null,
            "_view_module": "@jupyter-widgets/controls",
            "_view_module_version": "1.5.0",
            "_view_name": "HTMLView",
            "description": "",
            "description_tooltip": null,
            "layout": "IPY_MODEL_b8b2b8c81490431aad306fea27c10dc0",
            "placeholder": "​",
            "style": "IPY_MODEL_13bf93da294e43e3b6690e735d7fd7e6",
            "value": "Creating parquet from Arrow format: 100%"
          }
        },
        "7fa121682ec040a794d4afcb134ef678": {
          "model_module": "@jupyter-widgets/controls",
          "model_name": "FloatProgressModel",
          "model_module_version": "1.5.0",
          "state": {
            "_dom_classes": [],
            "_model_module": "@jupyter-widgets/controls",
            "_model_module_version": "1.5.0",
            "_model_name": "FloatProgressModel",
            "_view_count": null,
            "_view_module": "@jupyter-widgets/controls",
            "_view_module_version": "1.5.0",
            "_view_name": "ProgressView",
            "bar_style": "success",
            "description": "",
            "description_tooltip": null,
            "layout": "IPY_MODEL_d40988ffe2ad4253b0feda0911c380c4",
            "max": 1,
            "min": 0,
            "orientation": "horizontal",
            "style": "IPY_MODEL_b1b01584bdd64fa8a1e58724ff4f2390",
            "value": 1
          }
        },
        "5265b7a06e6f4123babc358b6edd78ff": {
          "model_module": "@jupyter-widgets/controls",
          "model_name": "HTMLModel",
          "model_module_version": "1.5.0",
          "state": {
            "_dom_classes": [],
            "_model_module": "@jupyter-widgets/controls",
            "_model_module_version": "1.5.0",
            "_model_name": "HTMLModel",
            "_view_count": null,
            "_view_module": "@jupyter-widgets/controls",
            "_view_module_version": "1.5.0",
            "_view_name": "HTMLView",
            "description": "",
            "description_tooltip": null,
            "layout": "IPY_MODEL_b99894ca0e3d4f698fc2576a145e7f6f",
            "placeholder": "​",
            "style": "IPY_MODEL_122a5f8e4d6343bb9bba3bfae034e2db",
            "value": " 1/1 [00:00&lt;00:00, 72.83ba/s]"
          }
        },
        "49949b37dd034587bcbc9a8cc6f137cb": {
          "model_module": "@jupyter-widgets/base",
          "model_name": "LayoutModel",
          "model_module_version": "1.2.0",
          "state": {
            "_model_module": "@jupyter-widgets/base",
            "_model_module_version": "1.2.0",
            "_model_name": "LayoutModel",
            "_view_count": null,
            "_view_module": "@jupyter-widgets/base",
            "_view_module_version": "1.2.0",
            "_view_name": "LayoutView",
            "align_content": null,
            "align_items": null,
            "align_self": null,
            "border": null,
            "bottom": null,
            "display": null,
            "flex": null,
            "flex_flow": null,
            "grid_area": null,
            "grid_auto_columns": null,
            "grid_auto_flow": null,
            "grid_auto_rows": null,
            "grid_column": null,
            "grid_gap": null,
            "grid_row": null,
            "grid_template_areas": null,
            "grid_template_columns": null,
            "grid_template_rows": null,
            "height": null,
            "justify_content": null,
            "justify_items": null,
            "left": null,
            "margin": null,
            "max_height": null,
            "max_width": null,
            "min_height": null,
            "min_width": null,
            "object_fit": null,
            "object_position": null,
            "order": null,
            "overflow": null,
            "overflow_x": null,
            "overflow_y": null,
            "padding": null,
            "right": null,
            "top": null,
            "visibility": null,
            "width": null
          }
        },
        "b8b2b8c81490431aad306fea27c10dc0": {
          "model_module": "@jupyter-widgets/base",
          "model_name": "LayoutModel",
          "model_module_version": "1.2.0",
          "state": {
            "_model_module": "@jupyter-widgets/base",
            "_model_module_version": "1.2.0",
            "_model_name": "LayoutModel",
            "_view_count": null,
            "_view_module": "@jupyter-widgets/base",
            "_view_module_version": "1.2.0",
            "_view_name": "LayoutView",
            "align_content": null,
            "align_items": null,
            "align_self": null,
            "border": null,
            "bottom": null,
            "display": null,
            "flex": null,
            "flex_flow": null,
            "grid_area": null,
            "grid_auto_columns": null,
            "grid_auto_flow": null,
            "grid_auto_rows": null,
            "grid_column": null,
            "grid_gap": null,
            "grid_row": null,
            "grid_template_areas": null,
            "grid_template_columns": null,
            "grid_template_rows": null,
            "height": null,
            "justify_content": null,
            "justify_items": null,
            "left": null,
            "margin": null,
            "max_height": null,
            "max_width": null,
            "min_height": null,
            "min_width": null,
            "object_fit": null,
            "object_position": null,
            "order": null,
            "overflow": null,
            "overflow_x": null,
            "overflow_y": null,
            "padding": null,
            "right": null,
            "top": null,
            "visibility": null,
            "width": null
          }
        },
        "13bf93da294e43e3b6690e735d7fd7e6": {
          "model_module": "@jupyter-widgets/controls",
          "model_name": "DescriptionStyleModel",
          "model_module_version": "1.5.0",
          "state": {
            "_model_module": "@jupyter-widgets/controls",
            "_model_module_version": "1.5.0",
            "_model_name": "DescriptionStyleModel",
            "_view_count": null,
            "_view_module": "@jupyter-widgets/base",
            "_view_module_version": "1.2.0",
            "_view_name": "StyleView",
            "description_width": ""
          }
        },
        "d40988ffe2ad4253b0feda0911c380c4": {
          "model_module": "@jupyter-widgets/base",
          "model_name": "LayoutModel",
          "model_module_version": "1.2.0",
          "state": {
            "_model_module": "@jupyter-widgets/base",
            "_model_module_version": "1.2.0",
            "_model_name": "LayoutModel",
            "_view_count": null,
            "_view_module": "@jupyter-widgets/base",
            "_view_module_version": "1.2.0",
            "_view_name": "LayoutView",
            "align_content": null,
            "align_items": null,
            "align_self": null,
            "border": null,
            "bottom": null,
            "display": null,
            "flex": null,
            "flex_flow": null,
            "grid_area": null,
            "grid_auto_columns": null,
            "grid_auto_flow": null,
            "grid_auto_rows": null,
            "grid_column": null,
            "grid_gap": null,
            "grid_row": null,
            "grid_template_areas": null,
            "grid_template_columns": null,
            "grid_template_rows": null,
            "height": null,
            "justify_content": null,
            "justify_items": null,
            "left": null,
            "margin": null,
            "max_height": null,
            "max_width": null,
            "min_height": null,
            "min_width": null,
            "object_fit": null,
            "object_position": null,
            "order": null,
            "overflow": null,
            "overflow_x": null,
            "overflow_y": null,
            "padding": null,
            "right": null,
            "top": null,
            "visibility": null,
            "width": null
          }
        },
        "b1b01584bdd64fa8a1e58724ff4f2390": {
          "model_module": "@jupyter-widgets/controls",
          "model_name": "ProgressStyleModel",
          "model_module_version": "1.5.0",
          "state": {
            "_model_module": "@jupyter-widgets/controls",
            "_model_module_version": "1.5.0",
            "_model_name": "ProgressStyleModel",
            "_view_count": null,
            "_view_module": "@jupyter-widgets/base",
            "_view_module_version": "1.2.0",
            "_view_name": "StyleView",
            "bar_color": null,
            "description_width": ""
          }
        },
        "b99894ca0e3d4f698fc2576a145e7f6f": {
          "model_module": "@jupyter-widgets/base",
          "model_name": "LayoutModel",
          "model_module_version": "1.2.0",
          "state": {
            "_model_module": "@jupyter-widgets/base",
            "_model_module_version": "1.2.0",
            "_model_name": "LayoutModel",
            "_view_count": null,
            "_view_module": "@jupyter-widgets/base",
            "_view_module_version": "1.2.0",
            "_view_name": "LayoutView",
            "align_content": null,
            "align_items": null,
            "align_self": null,
            "border": null,
            "bottom": null,
            "display": null,
            "flex": null,
            "flex_flow": null,
            "grid_area": null,
            "grid_auto_columns": null,
            "grid_auto_flow": null,
            "grid_auto_rows": null,
            "grid_column": null,
            "grid_gap": null,
            "grid_row": null,
            "grid_template_areas": null,
            "grid_template_columns": null,
            "grid_template_rows": null,
            "height": null,
            "justify_content": null,
            "justify_items": null,
            "left": null,
            "margin": null,
            "max_height": null,
            "max_width": null,
            "min_height": null,
            "min_width": null,
            "object_fit": null,
            "object_position": null,
            "order": null,
            "overflow": null,
            "overflow_x": null,
            "overflow_y": null,
            "padding": null,
            "right": null,
            "top": null,
            "visibility": null,
            "width": null
          }
        },
        "122a5f8e4d6343bb9bba3bfae034e2db": {
          "model_module": "@jupyter-widgets/controls",
          "model_name": "DescriptionStyleModel",
          "model_module_version": "1.5.0",
          "state": {
            "_model_module": "@jupyter-widgets/controls",
            "_model_module_version": "1.5.0",
            "_model_name": "DescriptionStyleModel",
            "_view_count": null,
            "_view_module": "@jupyter-widgets/base",
            "_view_module_version": "1.2.0",
            "_view_name": "StyleView",
            "description_width": ""
          }
        },
        "007b4b69cf8d4cc3b74972c644703f5b": {
          "model_module": "@jupyter-widgets/controls",
          "model_name": "HBoxModel",
          "model_module_version": "1.5.0",
          "state": {
            "_dom_classes": [],
            "_model_module": "@jupyter-widgets/controls",
            "_model_module_version": "1.5.0",
            "_model_name": "HBoxModel",
            "_view_count": null,
            "_view_module": "@jupyter-widgets/controls",
            "_view_module_version": "1.5.0",
            "_view_name": "HBoxView",
            "box_style": "",
            "children": [
              "IPY_MODEL_06d6a790956c4dd881131a683eb1a0af",
              "IPY_MODEL_d022f23830f64fd78eaac5bf2422bbac",
              "IPY_MODEL_7e5bc26fd85e48e8a2cb4c468dc824bd"
            ],
            "layout": "IPY_MODEL_1f78a1036ebd442abec64f5f416b6819"
          }
        },
        "06d6a790956c4dd881131a683eb1a0af": {
          "model_module": "@jupyter-widgets/controls",
          "model_name": "HTMLModel",
          "model_module_version": "1.5.0",
          "state": {
            "_dom_classes": [],
            "_model_module": "@jupyter-widgets/controls",
            "_model_module_version": "1.5.0",
            "_model_name": "HTMLModel",
            "_view_count": null,
            "_view_module": "@jupyter-widgets/controls",
            "_view_module_version": "1.5.0",
            "_view_name": "HTMLView",
            "description": "",
            "description_tooltip": null,
            "layout": "IPY_MODEL_be1816b2904d4b379de6876a54bcc500",
            "placeholder": "​",
            "style": "IPY_MODEL_5b6a482d25a54d5ca0e72eba0a9819be",
            "value": "Processing Files (1 / 1)                : 100%"
          }
        },
        "d022f23830f64fd78eaac5bf2422bbac": {
          "model_module": "@jupyter-widgets/controls",
          "model_name": "FloatProgressModel",
          "model_module_version": "1.5.0",
          "state": {
            "_dom_classes": [],
            "_model_module": "@jupyter-widgets/controls",
            "_model_module_version": "1.5.0",
            "_model_name": "FloatProgressModel",
            "_view_count": null,
            "_view_module": "@jupyter-widgets/controls",
            "_view_module_version": "1.5.0",
            "_view_name": "ProgressView",
            "bar_style": "success",
            "description": "",
            "description_tooltip": null,
            "layout": "IPY_MODEL_ce52b538db564828bba2d42a8c54b7a3",
            "max": 1,
            "min": 0,
            "orientation": "horizontal",
            "style": "IPY_MODEL_420c0179ae5849419041af4a7aa3aced",
            "value": 1
          }
        },
        "7e5bc26fd85e48e8a2cb4c468dc824bd": {
          "model_module": "@jupyter-widgets/controls",
          "model_name": "HTMLModel",
          "model_module_version": "1.5.0",
          "state": {
            "_dom_classes": [],
            "_model_module": "@jupyter-widgets/controls",
            "_model_module_version": "1.5.0",
            "_model_name": "HTMLModel",
            "_view_count": null,
            "_view_module": "@jupyter-widgets/controls",
            "_view_module_version": "1.5.0",
            "_view_name": "HTMLView",
            "description": "",
            "description_tooltip": null,
            "layout": "IPY_MODEL_eda8027ddd8046bc80638bf611620a74",
            "placeholder": "​",
            "style": "IPY_MODEL_d06c6322d63d407f840593d6aea77200",
            "value": "  101kB /  101kB,  0.00B/s  "
          }
        },
        "1f78a1036ebd442abec64f5f416b6819": {
          "model_module": "@jupyter-widgets/base",
          "model_name": "LayoutModel",
          "model_module_version": "1.2.0",
          "state": {
            "_model_module": "@jupyter-widgets/base",
            "_model_module_version": "1.2.0",
            "_model_name": "LayoutModel",
            "_view_count": null,
            "_view_module": "@jupyter-widgets/base",
            "_view_module_version": "1.2.0",
            "_view_name": "LayoutView",
            "align_content": null,
            "align_items": null,
            "align_self": null,
            "border": null,
            "bottom": null,
            "display": null,
            "flex": null,
            "flex_flow": null,
            "grid_area": null,
            "grid_auto_columns": null,
            "grid_auto_flow": null,
            "grid_auto_rows": null,
            "grid_column": null,
            "grid_gap": null,
            "grid_row": null,
            "grid_template_areas": null,
            "grid_template_columns": null,
            "grid_template_rows": null,
            "height": null,
            "justify_content": null,
            "justify_items": null,
            "left": null,
            "margin": null,
            "max_height": null,
            "max_width": null,
            "min_height": null,
            "min_width": null,
            "object_fit": null,
            "object_position": null,
            "order": null,
            "overflow": null,
            "overflow_x": null,
            "overflow_y": null,
            "padding": null,
            "right": null,
            "top": null,
            "visibility": null,
            "width": null
          }
        },
        "be1816b2904d4b379de6876a54bcc500": {
          "model_module": "@jupyter-widgets/base",
          "model_name": "LayoutModel",
          "model_module_version": "1.2.0",
          "state": {
            "_model_module": "@jupyter-widgets/base",
            "_model_module_version": "1.2.0",
            "_model_name": "LayoutModel",
            "_view_count": null,
            "_view_module": "@jupyter-widgets/base",
            "_view_module_version": "1.2.0",
            "_view_name": "LayoutView",
            "align_content": null,
            "align_items": null,
            "align_self": null,
            "border": null,
            "bottom": null,
            "display": null,
            "flex": null,
            "flex_flow": null,
            "grid_area": null,
            "grid_auto_columns": null,
            "grid_auto_flow": null,
            "grid_auto_rows": null,
            "grid_column": null,
            "grid_gap": null,
            "grid_row": null,
            "grid_template_areas": null,
            "grid_template_columns": null,
            "grid_template_rows": null,
            "height": null,
            "justify_content": null,
            "justify_items": null,
            "left": null,
            "margin": null,
            "max_height": null,
            "max_width": null,
            "min_height": null,
            "min_width": null,
            "object_fit": null,
            "object_position": null,
            "order": null,
            "overflow": null,
            "overflow_x": null,
            "overflow_y": null,
            "padding": null,
            "right": null,
            "top": null,
            "visibility": null,
            "width": null
          }
        },
        "5b6a482d25a54d5ca0e72eba0a9819be": {
          "model_module": "@jupyter-widgets/controls",
          "model_name": "DescriptionStyleModel",
          "model_module_version": "1.5.0",
          "state": {
            "_model_module": "@jupyter-widgets/controls",
            "_model_module_version": "1.5.0",
            "_model_name": "DescriptionStyleModel",
            "_view_count": null,
            "_view_module": "@jupyter-widgets/base",
            "_view_module_version": "1.2.0",
            "_view_name": "StyleView",
            "description_width": ""
          }
        },
        "ce52b538db564828bba2d42a8c54b7a3": {
          "model_module": "@jupyter-widgets/base",
          "model_name": "LayoutModel",
          "model_module_version": "1.2.0",
          "state": {
            "_model_module": "@jupyter-widgets/base",
            "_model_module_version": "1.2.0",
            "_model_name": "LayoutModel",
            "_view_count": null,
            "_view_module": "@jupyter-widgets/base",
            "_view_module_version": "1.2.0",
            "_view_name": "LayoutView",
            "align_content": null,
            "align_items": null,
            "align_self": null,
            "border": null,
            "bottom": null,
            "display": null,
            "flex": null,
            "flex_flow": null,
            "grid_area": null,
            "grid_auto_columns": null,
            "grid_auto_flow": null,
            "grid_auto_rows": null,
            "grid_column": null,
            "grid_gap": null,
            "grid_row": null,
            "grid_template_areas": null,
            "grid_template_columns": null,
            "grid_template_rows": null,
            "height": null,
            "justify_content": null,
            "justify_items": null,
            "left": null,
            "margin": null,
            "max_height": null,
            "max_width": null,
            "min_height": null,
            "min_width": null,
            "object_fit": null,
            "object_position": null,
            "order": null,
            "overflow": null,
            "overflow_x": null,
            "overflow_y": null,
            "padding": null,
            "right": null,
            "top": null,
            "visibility": null,
            "width": "20px"
          }
        },
        "420c0179ae5849419041af4a7aa3aced": {
          "model_module": "@jupyter-widgets/controls",
          "model_name": "ProgressStyleModel",
          "model_module_version": "1.5.0",
          "state": {
            "_model_module": "@jupyter-widgets/controls",
            "_model_module_version": "1.5.0",
            "_model_name": "ProgressStyleModel",
            "_view_count": null,
            "_view_module": "@jupyter-widgets/base",
            "_view_module_version": "1.2.0",
            "_view_name": "StyleView",
            "bar_color": null,
            "description_width": ""
          }
        },
        "eda8027ddd8046bc80638bf611620a74": {
          "model_module": "@jupyter-widgets/base",
          "model_name": "LayoutModel",
          "model_module_version": "1.2.0",
          "state": {
            "_model_module": "@jupyter-widgets/base",
            "_model_module_version": "1.2.0",
            "_model_name": "LayoutModel",
            "_view_count": null,
            "_view_module": "@jupyter-widgets/base",
            "_view_module_version": "1.2.0",
            "_view_name": "LayoutView",
            "align_content": null,
            "align_items": null,
            "align_self": null,
            "border": null,
            "bottom": null,
            "display": null,
            "flex": null,
            "flex_flow": null,
            "grid_area": null,
            "grid_auto_columns": null,
            "grid_auto_flow": null,
            "grid_auto_rows": null,
            "grid_column": null,
            "grid_gap": null,
            "grid_row": null,
            "grid_template_areas": null,
            "grid_template_columns": null,
            "grid_template_rows": null,
            "height": null,
            "justify_content": null,
            "justify_items": null,
            "left": null,
            "margin": null,
            "max_height": null,
            "max_width": null,
            "min_height": null,
            "min_width": null,
            "object_fit": null,
            "object_position": null,
            "order": null,
            "overflow": null,
            "overflow_x": null,
            "overflow_y": null,
            "padding": null,
            "right": null,
            "top": null,
            "visibility": null,
            "width": null
          }
        },
        "d06c6322d63d407f840593d6aea77200": {
          "model_module": "@jupyter-widgets/controls",
          "model_name": "DescriptionStyleModel",
          "model_module_version": "1.5.0",
          "state": {
            "_model_module": "@jupyter-widgets/controls",
            "_model_module_version": "1.5.0",
            "_model_name": "DescriptionStyleModel",
            "_view_count": null,
            "_view_module": "@jupyter-widgets/base",
            "_view_module_version": "1.2.0",
            "_view_name": "StyleView",
            "description_width": ""
          }
        },
        "83d1c92205064b2eafa758beccdcc792": {
          "model_module": "@jupyter-widgets/controls",
          "model_name": "HBoxModel",
          "model_module_version": "1.5.0",
          "state": {
            "_dom_classes": [],
            "_model_module": "@jupyter-widgets/controls",
            "_model_module_version": "1.5.0",
            "_model_name": "HBoxModel",
            "_view_count": null,
            "_view_module": "@jupyter-widgets/controls",
            "_view_module_version": "1.5.0",
            "_view_name": "HBoxView",
            "box_style": "",
            "children": [
              "IPY_MODEL_2b889720a8f846809d9eab00d54fdb43",
              "IPY_MODEL_03c0c8ac433247809005c416486457df",
              "IPY_MODEL_128bc270bd4845c181499ff15b385f14"
            ],
            "layout": "IPY_MODEL_0a0527a8c14e4191a5f5466d147d3501"
          }
        },
        "2b889720a8f846809d9eab00d54fdb43": {
          "model_module": "@jupyter-widgets/controls",
          "model_name": "HTMLModel",
          "model_module_version": "1.5.0",
          "state": {
            "_dom_classes": [],
            "_model_module": "@jupyter-widgets/controls",
            "_model_module_version": "1.5.0",
            "_model_name": "HTMLModel",
            "_view_count": null,
            "_view_module": "@jupyter-widgets/controls",
            "_view_module_version": "1.5.0",
            "_view_name": "HTMLView",
            "description": "",
            "description_tooltip": null,
            "layout": "IPY_MODEL_253123f62b4f4d12a1923ccc4d187bb8",
            "placeholder": "​",
            "style": "IPY_MODEL_42e0770b90b94bc199139c516ab83607",
            "value": "New Data Upload                         : "
          }
        },
        "03c0c8ac433247809005c416486457df": {
          "model_module": "@jupyter-widgets/controls",
          "model_name": "FloatProgressModel",
          "model_module_version": "1.5.0",
          "state": {
            "_dom_classes": [],
            "_model_module": "@jupyter-widgets/controls",
            "_model_module_version": "1.5.0",
            "_model_name": "FloatProgressModel",
            "_view_count": null,
            "_view_module": "@jupyter-widgets/controls",
            "_view_module_version": "1.5.0",
            "_view_name": "ProgressView",
            "bar_style": "success",
            "description": "",
            "description_tooltip": null,
            "layout": "IPY_MODEL_1224c7b9822a4365bce1e69a88cbf8f9",
            "max": 1,
            "min": 0,
            "orientation": "horizontal",
            "style": "IPY_MODEL_6b34aff7b74544af93b019bfe1e07d6a",
            "value": 0
          }
        },
        "128bc270bd4845c181499ff15b385f14": {
          "model_module": "@jupyter-widgets/controls",
          "model_name": "HTMLModel",
          "model_module_version": "1.5.0",
          "state": {
            "_dom_classes": [],
            "_model_module": "@jupyter-widgets/controls",
            "_model_module_version": "1.5.0",
            "_model_name": "HTMLModel",
            "_view_count": null,
            "_view_module": "@jupyter-widgets/controls",
            "_view_module_version": "1.5.0",
            "_view_name": "HTMLView",
            "description": "",
            "description_tooltip": null,
            "layout": "IPY_MODEL_6af7e1d1ddde47ad93b54aed0b695a18",
            "placeholder": "​",
            "style": "IPY_MODEL_8f748d3edd9941dc9fd86d0187b62a11",
            "value": "  0.00B /  0.00B,  0.00B/s  "
          }
        },
        "0a0527a8c14e4191a5f5466d147d3501": {
          "model_module": "@jupyter-widgets/base",
          "model_name": "LayoutModel",
          "model_module_version": "1.2.0",
          "state": {
            "_model_module": "@jupyter-widgets/base",
            "_model_module_version": "1.2.0",
            "_model_name": "LayoutModel",
            "_view_count": null,
            "_view_module": "@jupyter-widgets/base",
            "_view_module_version": "1.2.0",
            "_view_name": "LayoutView",
            "align_content": null,
            "align_items": null,
            "align_self": null,
            "border": null,
            "bottom": null,
            "display": null,
            "flex": null,
            "flex_flow": null,
            "grid_area": null,
            "grid_auto_columns": null,
            "grid_auto_flow": null,
            "grid_auto_rows": null,
            "grid_column": null,
            "grid_gap": null,
            "grid_row": null,
            "grid_template_areas": null,
            "grid_template_columns": null,
            "grid_template_rows": null,
            "height": null,
            "justify_content": null,
            "justify_items": null,
            "left": null,
            "margin": null,
            "max_height": null,
            "max_width": null,
            "min_height": null,
            "min_width": null,
            "object_fit": null,
            "object_position": null,
            "order": null,
            "overflow": null,
            "overflow_x": null,
            "overflow_y": null,
            "padding": null,
            "right": null,
            "top": null,
            "visibility": null,
            "width": null
          }
        },
        "253123f62b4f4d12a1923ccc4d187bb8": {
          "model_module": "@jupyter-widgets/base",
          "model_name": "LayoutModel",
          "model_module_version": "1.2.0",
          "state": {
            "_model_module": "@jupyter-widgets/base",
            "_model_module_version": "1.2.0",
            "_model_name": "LayoutModel",
            "_view_count": null,
            "_view_module": "@jupyter-widgets/base",
            "_view_module_version": "1.2.0",
            "_view_name": "LayoutView",
            "align_content": null,
            "align_items": null,
            "align_self": null,
            "border": null,
            "bottom": null,
            "display": null,
            "flex": null,
            "flex_flow": null,
            "grid_area": null,
            "grid_auto_columns": null,
            "grid_auto_flow": null,
            "grid_auto_rows": null,
            "grid_column": null,
            "grid_gap": null,
            "grid_row": null,
            "grid_template_areas": null,
            "grid_template_columns": null,
            "grid_template_rows": null,
            "height": null,
            "justify_content": null,
            "justify_items": null,
            "left": null,
            "margin": null,
            "max_height": null,
            "max_width": null,
            "min_height": null,
            "min_width": null,
            "object_fit": null,
            "object_position": null,
            "order": null,
            "overflow": null,
            "overflow_x": null,
            "overflow_y": null,
            "padding": null,
            "right": null,
            "top": null,
            "visibility": null,
            "width": null
          }
        },
        "42e0770b90b94bc199139c516ab83607": {
          "model_module": "@jupyter-widgets/controls",
          "model_name": "DescriptionStyleModel",
          "model_module_version": "1.5.0",
          "state": {
            "_model_module": "@jupyter-widgets/controls",
            "_model_module_version": "1.5.0",
            "_model_name": "DescriptionStyleModel",
            "_view_count": null,
            "_view_module": "@jupyter-widgets/base",
            "_view_module_version": "1.2.0",
            "_view_name": "StyleView",
            "description_width": ""
          }
        },
        "1224c7b9822a4365bce1e69a88cbf8f9": {
          "model_module": "@jupyter-widgets/base",
          "model_name": "LayoutModel",
          "model_module_version": "1.2.0",
          "state": {
            "_model_module": "@jupyter-widgets/base",
            "_model_module_version": "1.2.0",
            "_model_name": "LayoutModel",
            "_view_count": null,
            "_view_module": "@jupyter-widgets/base",
            "_view_module_version": "1.2.0",
            "_view_name": "LayoutView",
            "align_content": null,
            "align_items": null,
            "align_self": null,
            "border": null,
            "bottom": null,
            "display": null,
            "flex": null,
            "flex_flow": null,
            "grid_area": null,
            "grid_auto_columns": null,
            "grid_auto_flow": null,
            "grid_auto_rows": null,
            "grid_column": null,
            "grid_gap": null,
            "grid_row": null,
            "grid_template_areas": null,
            "grid_template_columns": null,
            "grid_template_rows": null,
            "height": null,
            "justify_content": null,
            "justify_items": null,
            "left": null,
            "margin": null,
            "max_height": null,
            "max_width": null,
            "min_height": null,
            "min_width": null,
            "object_fit": null,
            "object_position": null,
            "order": null,
            "overflow": null,
            "overflow_x": null,
            "overflow_y": null,
            "padding": null,
            "right": null,
            "top": null,
            "visibility": null,
            "width": "20px"
          }
        },
        "6b34aff7b74544af93b019bfe1e07d6a": {
          "model_module": "@jupyter-widgets/controls",
          "model_name": "ProgressStyleModel",
          "model_module_version": "1.5.0",
          "state": {
            "_model_module": "@jupyter-widgets/controls",
            "_model_module_version": "1.5.0",
            "_model_name": "ProgressStyleModel",
            "_view_count": null,
            "_view_module": "@jupyter-widgets/base",
            "_view_module_version": "1.2.0",
            "_view_name": "StyleView",
            "bar_color": null,
            "description_width": ""
          }
        },
        "6af7e1d1ddde47ad93b54aed0b695a18": {
          "model_module": "@jupyter-widgets/base",
          "model_name": "LayoutModel",
          "model_module_version": "1.2.0",
          "state": {
            "_model_module": "@jupyter-widgets/base",
            "_model_module_version": "1.2.0",
            "_model_name": "LayoutModel",
            "_view_count": null,
            "_view_module": "@jupyter-widgets/base",
            "_view_module_version": "1.2.0",
            "_view_name": "LayoutView",
            "align_content": null,
            "align_items": null,
            "align_self": null,
            "border": null,
            "bottom": null,
            "display": null,
            "flex": null,
            "flex_flow": null,
            "grid_area": null,
            "grid_auto_columns": null,
            "grid_auto_flow": null,
            "grid_auto_rows": null,
            "grid_column": null,
            "grid_gap": null,
            "grid_row": null,
            "grid_template_areas": null,
            "grid_template_columns": null,
            "grid_template_rows": null,
            "height": null,
            "justify_content": null,
            "justify_items": null,
            "left": null,
            "margin": null,
            "max_height": null,
            "max_width": null,
            "min_height": null,
            "min_width": null,
            "object_fit": null,
            "object_position": null,
            "order": null,
            "overflow": null,
            "overflow_x": null,
            "overflow_y": null,
            "padding": null,
            "right": null,
            "top": null,
            "visibility": null,
            "width": null
          }
        },
        "8f748d3edd9941dc9fd86d0187b62a11": {
          "model_module": "@jupyter-widgets/controls",
          "model_name": "DescriptionStyleModel",
          "model_module_version": "1.5.0",
          "state": {
            "_model_module": "@jupyter-widgets/controls",
            "_model_module_version": "1.5.0",
            "_model_name": "DescriptionStyleModel",
            "_view_count": null,
            "_view_module": "@jupyter-widgets/base",
            "_view_module_version": "1.2.0",
            "_view_name": "StyleView",
            "description_width": ""
          }
        },
        "aaae8f91b777437aab792831a48af2ba": {
          "model_module": "@jupyter-widgets/controls",
          "model_name": "HBoxModel",
          "model_module_version": "1.5.0",
          "state": {
            "_dom_classes": [],
            "_model_module": "@jupyter-widgets/controls",
            "_model_module_version": "1.5.0",
            "_model_name": "HBoxModel",
            "_view_count": null,
            "_view_module": "@jupyter-widgets/controls",
            "_view_module_version": "1.5.0",
            "_view_name": "HBoxView",
            "box_style": "",
            "children": [
              "IPY_MODEL_096901869c9f47668c43c4709b1b60f3",
              "IPY_MODEL_69143fadcd5148ac9242be54bfd46c1c",
              "IPY_MODEL_925c89398dc142ef8c96b6eeaf1cae43"
            ],
            "layout": "IPY_MODEL_8b87bca106a64e1b878139904291a945"
          }
        },
        "096901869c9f47668c43c4709b1b60f3": {
          "model_module": "@jupyter-widgets/controls",
          "model_name": "HTMLModel",
          "model_module_version": "1.5.0",
          "state": {
            "_dom_classes": [],
            "_model_module": "@jupyter-widgets/controls",
            "_model_module_version": "1.5.0",
            "_model_name": "HTMLModel",
            "_view_count": null,
            "_view_module": "@jupyter-widgets/controls",
            "_view_module_version": "1.5.0",
            "_view_name": "HTMLView",
            "description": "",
            "description_tooltip": null,
            "layout": "IPY_MODEL_bb76a40c799e4545bf67abdef39f8457",
            "placeholder": "​",
            "style": "IPY_MODEL_240cb933bd0e4850990b9d363e822c16",
            "value": "  outputs/datasets.jsonl                : 100%"
          }
        },
        "69143fadcd5148ac9242be54bfd46c1c": {
          "model_module": "@jupyter-widgets/controls",
          "model_name": "FloatProgressModel",
          "model_module_version": "1.5.0",
          "state": {
            "_dom_classes": [],
            "_model_module": "@jupyter-widgets/controls",
            "_model_module_version": "1.5.0",
            "_model_name": "FloatProgressModel",
            "_view_count": null,
            "_view_module": "@jupyter-widgets/controls",
            "_view_module_version": "1.5.0",
            "_view_name": "ProgressView",
            "bar_style": "success",
            "description": "",
            "description_tooltip": null,
            "layout": "IPY_MODEL_bb72cb96932048379add691ecf14e8a7",
            "max": 100858,
            "min": 0,
            "orientation": "horizontal",
            "style": "IPY_MODEL_77a02af5e6844d44a09a5d2e4310a168",
            "value": 100858
          }
        },
        "925c89398dc142ef8c96b6eeaf1cae43": {
          "model_module": "@jupyter-widgets/controls",
          "model_name": "HTMLModel",
          "model_module_version": "1.5.0",
          "state": {
            "_dom_classes": [],
            "_model_module": "@jupyter-widgets/controls",
            "_model_module_version": "1.5.0",
            "_model_name": "HTMLModel",
            "_view_count": null,
            "_view_module": "@jupyter-widgets/controls",
            "_view_module_version": "1.5.0",
            "_view_name": "HTMLView",
            "description": "",
            "description_tooltip": null,
            "layout": "IPY_MODEL_ac06504fa2724961a98166c297a71391",
            "placeholder": "​",
            "style": "IPY_MODEL_1206c94365294a2aad735eefd9e83a88",
            "value": "  101kB /  101kB            "
          }
        },
        "8b87bca106a64e1b878139904291a945": {
          "model_module": "@jupyter-widgets/base",
          "model_name": "LayoutModel",
          "model_module_version": "1.2.0",
          "state": {
            "_model_module": "@jupyter-widgets/base",
            "_model_module_version": "1.2.0",
            "_model_name": "LayoutModel",
            "_view_count": null,
            "_view_module": "@jupyter-widgets/base",
            "_view_module_version": "1.2.0",
            "_view_name": "LayoutView",
            "align_content": null,
            "align_items": null,
            "align_self": null,
            "border": null,
            "bottom": null,
            "display": null,
            "flex": null,
            "flex_flow": null,
            "grid_area": null,
            "grid_auto_columns": null,
            "grid_auto_flow": null,
            "grid_auto_rows": null,
            "grid_column": null,
            "grid_gap": null,
            "grid_row": null,
            "grid_template_areas": null,
            "grid_template_columns": null,
            "grid_template_rows": null,
            "height": null,
            "justify_content": null,
            "justify_items": null,
            "left": null,
            "margin": null,
            "max_height": null,
            "max_width": null,
            "min_height": null,
            "min_width": null,
            "object_fit": null,
            "object_position": null,
            "order": null,
            "overflow": null,
            "overflow_x": null,
            "overflow_y": null,
            "padding": null,
            "right": null,
            "top": null,
            "visibility": null,
            "width": null
          }
        },
        "bb76a40c799e4545bf67abdef39f8457": {
          "model_module": "@jupyter-widgets/base",
          "model_name": "LayoutModel",
          "model_module_version": "1.2.0",
          "state": {
            "_model_module": "@jupyter-widgets/base",
            "_model_module_version": "1.2.0",
            "_model_name": "LayoutModel",
            "_view_count": null,
            "_view_module": "@jupyter-widgets/base",
            "_view_module_version": "1.2.0",
            "_view_name": "LayoutView",
            "align_content": null,
            "align_items": null,
            "align_self": null,
            "border": null,
            "bottom": null,
            "display": null,
            "flex": null,
            "flex_flow": null,
            "grid_area": null,
            "grid_auto_columns": null,
            "grid_auto_flow": null,
            "grid_auto_rows": null,
            "grid_column": null,
            "grid_gap": null,
            "grid_row": null,
            "grid_template_areas": null,
            "grid_template_columns": null,
            "grid_template_rows": null,
            "height": null,
            "justify_content": null,
            "justify_items": null,
            "left": null,
            "margin": null,
            "max_height": null,
            "max_width": null,
            "min_height": null,
            "min_width": null,
            "object_fit": null,
            "object_position": null,
            "order": null,
            "overflow": null,
            "overflow_x": null,
            "overflow_y": null,
            "padding": null,
            "right": null,
            "top": null,
            "visibility": null,
            "width": null
          }
        },
        "240cb933bd0e4850990b9d363e822c16": {
          "model_module": "@jupyter-widgets/controls",
          "model_name": "DescriptionStyleModel",
          "model_module_version": "1.5.0",
          "state": {
            "_model_module": "@jupyter-widgets/controls",
            "_model_module_version": "1.5.0",
            "_model_name": "DescriptionStyleModel",
            "_view_count": null,
            "_view_module": "@jupyter-widgets/base",
            "_view_module_version": "1.2.0",
            "_view_name": "StyleView",
            "description_width": ""
          }
        },
        "bb72cb96932048379add691ecf14e8a7": {
          "model_module": "@jupyter-widgets/base",
          "model_name": "LayoutModel",
          "model_module_version": "1.2.0",
          "state": {
            "_model_module": "@jupyter-widgets/base",
            "_model_module_version": "1.2.0",
            "_model_name": "LayoutModel",
            "_view_count": null,
            "_view_module": "@jupyter-widgets/base",
            "_view_module_version": "1.2.0",
            "_view_name": "LayoutView",
            "align_content": null,
            "align_items": null,
            "align_self": null,
            "border": null,
            "bottom": null,
            "display": null,
            "flex": null,
            "flex_flow": null,
            "grid_area": null,
            "grid_auto_columns": null,
            "grid_auto_flow": null,
            "grid_auto_rows": null,
            "grid_column": null,
            "grid_gap": null,
            "grid_row": null,
            "grid_template_areas": null,
            "grid_template_columns": null,
            "grid_template_rows": null,
            "height": null,
            "justify_content": null,
            "justify_items": null,
            "left": null,
            "margin": null,
            "max_height": null,
            "max_width": null,
            "min_height": null,
            "min_width": null,
            "object_fit": null,
            "object_position": null,
            "order": null,
            "overflow": null,
            "overflow_x": null,
            "overflow_y": null,
            "padding": null,
            "right": null,
            "top": null,
            "visibility": null,
            "width": null
          }
        },
        "77a02af5e6844d44a09a5d2e4310a168": {
          "model_module": "@jupyter-widgets/controls",
          "model_name": "ProgressStyleModel",
          "model_module_version": "1.5.0",
          "state": {
            "_model_module": "@jupyter-widgets/controls",
            "_model_module_version": "1.5.0",
            "_model_name": "ProgressStyleModel",
            "_view_count": null,
            "_view_module": "@jupyter-widgets/base",
            "_view_module_version": "1.2.0",
            "_view_name": "StyleView",
            "bar_color": null,
            "description_width": ""
          }
        },
        "ac06504fa2724961a98166c297a71391": {
          "model_module": "@jupyter-widgets/base",
          "model_name": "LayoutModel",
          "model_module_version": "1.2.0",
          "state": {
            "_model_module": "@jupyter-widgets/base",
            "_model_module_version": "1.2.0",
            "_model_name": "LayoutModel",
            "_view_count": null,
            "_view_module": "@jupyter-widgets/base",
            "_view_module_version": "1.2.0",
            "_view_name": "LayoutView",
            "align_content": null,
            "align_items": null,
            "align_self": null,
            "border": null,
            "bottom": null,
            "display": null,
            "flex": null,
            "flex_flow": null,
            "grid_area": null,
            "grid_auto_columns": null,
            "grid_auto_flow": null,
            "grid_auto_rows": null,
            "grid_column": null,
            "grid_gap": null,
            "grid_row": null,
            "grid_template_areas": null,
            "grid_template_columns": null,
            "grid_template_rows": null,
            "height": null,
            "justify_content": null,
            "justify_items": null,
            "left": null,
            "margin": null,
            "max_height": null,
            "max_width": null,
            "min_height": null,
            "min_width": null,
            "object_fit": null,
            "object_position": null,
            "order": null,
            "overflow": null,
            "overflow_x": null,
            "overflow_y": null,
            "padding": null,
            "right": null,
            "top": null,
            "visibility": null,
            "width": null
          }
        },
        "1206c94365294a2aad735eefd9e83a88": {
          "model_module": "@jupyter-widgets/controls",
          "model_name": "DescriptionStyleModel",
          "model_module_version": "1.5.0",
          "state": {
            "_model_module": "@jupyter-widgets/controls",
            "_model_module_version": "1.5.0",
            "_model_name": "DescriptionStyleModel",
            "_view_count": null,
            "_view_module": "@jupyter-widgets/base",
            "_view_module_version": "1.2.0",
            "_view_name": "StyleView",
            "description_width": ""
          }
        },
        "58a6551e516243d39e8a38c0b54facd6": {
          "model_module": "@jupyter-widgets/controls",
          "model_name": "HBoxModel",
          "model_module_version": "1.5.0",
          "state": {
            "_dom_classes": [],
            "_model_module": "@jupyter-widgets/controls",
            "_model_module_version": "1.5.0",
            "_model_name": "HBoxModel",
            "_view_count": null,
            "_view_module": "@jupyter-widgets/controls",
            "_view_module_version": "1.5.0",
            "_view_name": "HBoxView",
            "box_style": "",
            "children": [
              "IPY_MODEL_0551fb34649642dba752063df91404b4",
              "IPY_MODEL_c2aff5be3ca047d4a6609249488789bf",
              "IPY_MODEL_c28af8942e104fdbba0667646ce67c7c"
            ],
            "layout": "IPY_MODEL_f80192fc3da242829b6bb1ec9487f2e5"
          }
        },
        "0551fb34649642dba752063df91404b4": {
          "model_module": "@jupyter-widgets/controls",
          "model_name": "HTMLModel",
          "model_module_version": "1.5.0",
          "state": {
            "_dom_classes": [],
            "_model_module": "@jupyter-widgets/controls",
            "_model_module_version": "1.5.0",
            "_model_name": "HTMLModel",
            "_view_count": null,
            "_view_module": "@jupyter-widgets/controls",
            "_view_module_version": "1.5.0",
            "_view_name": "HTMLView",
            "description": "",
            "description_tooltip": null,
            "layout": "IPY_MODEL_61a9112d2ddd4c1b9b9ba1a534381d57",
            "placeholder": "​",
            "style": "IPY_MODEL_2e634f59a444477cb9b87d15289e131f",
            "value": "Processing Files (1 / 1)                : 100%"
          }
        },
        "c2aff5be3ca047d4a6609249488789bf": {
          "model_module": "@jupyter-widgets/controls",
          "model_name": "FloatProgressModel",
          "model_module_version": "1.5.0",
          "state": {
            "_dom_classes": [],
            "_model_module": "@jupyter-widgets/controls",
            "_model_module_version": "1.5.0",
            "_model_name": "FloatProgressModel",
            "_view_count": null,
            "_view_module": "@jupyter-widgets/controls",
            "_view_module_version": "1.5.0",
            "_view_name": "ProgressView",
            "bar_style": "success",
            "description": "",
            "description_tooltip": null,
            "layout": "IPY_MODEL_d10c24c0bfb743269044610306bdce87",
            "max": 1,
            "min": 0,
            "orientation": "horizontal",
            "style": "IPY_MODEL_d850d5590d244d15a7513a008c3b7ecb",
            "value": 1
          }
        },
        "c28af8942e104fdbba0667646ce67c7c": {
          "model_module": "@jupyter-widgets/controls",
          "model_name": "HTMLModel",
          "model_module_version": "1.5.0",
          "state": {
            "_dom_classes": [],
            "_model_module": "@jupyter-widgets/controls",
            "_model_module_version": "1.5.0",
            "_model_name": "HTMLModel",
            "_view_count": null,
            "_view_module": "@jupyter-widgets/controls",
            "_view_module_version": "1.5.0",
            "_view_name": "HTMLView",
            "description": "",
            "description_tooltip": null,
            "layout": "IPY_MODEL_2cbe681e53564bbea1c3317b5e51b4f5",
            "placeholder": "​",
            "style": "IPY_MODEL_357711ce5a4f49c6b0fc20923bbc97f1",
            "value": " 33.3kB / 33.3kB,  0.00B/s  "
          }
        },
        "f80192fc3da242829b6bb1ec9487f2e5": {
          "model_module": "@jupyter-widgets/base",
          "model_name": "LayoutModel",
          "model_module_version": "1.2.0",
          "state": {
            "_model_module": "@jupyter-widgets/base",
            "_model_module_version": "1.2.0",
            "_model_name": "LayoutModel",
            "_view_count": null,
            "_view_module": "@jupyter-widgets/base",
            "_view_module_version": "1.2.0",
            "_view_name": "LayoutView",
            "align_content": null,
            "align_items": null,
            "align_self": null,
            "border": null,
            "bottom": null,
            "display": null,
            "flex": null,
            "flex_flow": null,
            "grid_area": null,
            "grid_auto_columns": null,
            "grid_auto_flow": null,
            "grid_auto_rows": null,
            "grid_column": null,
            "grid_gap": null,
            "grid_row": null,
            "grid_template_areas": null,
            "grid_template_columns": null,
            "grid_template_rows": null,
            "height": null,
            "justify_content": null,
            "justify_items": null,
            "left": null,
            "margin": null,
            "max_height": null,
            "max_width": null,
            "min_height": null,
            "min_width": null,
            "object_fit": null,
            "object_position": null,
            "order": null,
            "overflow": null,
            "overflow_x": null,
            "overflow_y": null,
            "padding": null,
            "right": null,
            "top": null,
            "visibility": null,
            "width": null
          }
        },
        "61a9112d2ddd4c1b9b9ba1a534381d57": {
          "model_module": "@jupyter-widgets/base",
          "model_name": "LayoutModel",
          "model_module_version": "1.2.0",
          "state": {
            "_model_module": "@jupyter-widgets/base",
            "_model_module_version": "1.2.0",
            "_model_name": "LayoutModel",
            "_view_count": null,
            "_view_module": "@jupyter-widgets/base",
            "_view_module_version": "1.2.0",
            "_view_name": "LayoutView",
            "align_content": null,
            "align_items": null,
            "align_self": null,
            "border": null,
            "bottom": null,
            "display": null,
            "flex": null,
            "flex_flow": null,
            "grid_area": null,
            "grid_auto_columns": null,
            "grid_auto_flow": null,
            "grid_auto_rows": null,
            "grid_column": null,
            "grid_gap": null,
            "grid_row": null,
            "grid_template_areas": null,
            "grid_template_columns": null,
            "grid_template_rows": null,
            "height": null,
            "justify_content": null,
            "justify_items": null,
            "left": null,
            "margin": null,
            "max_height": null,
            "max_width": null,
            "min_height": null,
            "min_width": null,
            "object_fit": null,
            "object_position": null,
            "order": null,
            "overflow": null,
            "overflow_x": null,
            "overflow_y": null,
            "padding": null,
            "right": null,
            "top": null,
            "visibility": null,
            "width": null
          }
        },
        "2e634f59a444477cb9b87d15289e131f": {
          "model_module": "@jupyter-widgets/controls",
          "model_name": "DescriptionStyleModel",
          "model_module_version": "1.5.0",
          "state": {
            "_model_module": "@jupyter-widgets/controls",
            "_model_module_version": "1.5.0",
            "_model_name": "DescriptionStyleModel",
            "_view_count": null,
            "_view_module": "@jupyter-widgets/base",
            "_view_module_version": "1.2.0",
            "_view_name": "StyleView",
            "description_width": ""
          }
        },
        "d10c24c0bfb743269044610306bdce87": {
          "model_module": "@jupyter-widgets/base",
          "model_name": "LayoutModel",
          "model_module_version": "1.2.0",
          "state": {
            "_model_module": "@jupyter-widgets/base",
            "_model_module_version": "1.2.0",
            "_model_name": "LayoutModel",
            "_view_count": null,
            "_view_module": "@jupyter-widgets/base",
            "_view_module_version": "1.2.0",
            "_view_name": "LayoutView",
            "align_content": null,
            "align_items": null,
            "align_self": null,
            "border": null,
            "bottom": null,
            "display": null,
            "flex": null,
            "flex_flow": null,
            "grid_area": null,
            "grid_auto_columns": null,
            "grid_auto_flow": null,
            "grid_auto_rows": null,
            "grid_column": null,
            "grid_gap": null,
            "grid_row": null,
            "grid_template_areas": null,
            "grid_template_columns": null,
            "grid_template_rows": null,
            "height": null,
            "justify_content": null,
            "justify_items": null,
            "left": null,
            "margin": null,
            "max_height": null,
            "max_width": null,
            "min_height": null,
            "min_width": null,
            "object_fit": null,
            "object_position": null,
            "order": null,
            "overflow": null,
            "overflow_x": null,
            "overflow_y": null,
            "padding": null,
            "right": null,
            "top": null,
            "visibility": null,
            "width": "20px"
          }
        },
        "d850d5590d244d15a7513a008c3b7ecb": {
          "model_module": "@jupyter-widgets/controls",
          "model_name": "ProgressStyleModel",
          "model_module_version": "1.5.0",
          "state": {
            "_model_module": "@jupyter-widgets/controls",
            "_model_module_version": "1.5.0",
            "_model_name": "ProgressStyleModel",
            "_view_count": null,
            "_view_module": "@jupyter-widgets/base",
            "_view_module_version": "1.2.0",
            "_view_name": "StyleView",
            "bar_color": null,
            "description_width": ""
          }
        },
        "2cbe681e53564bbea1c3317b5e51b4f5": {
          "model_module": "@jupyter-widgets/base",
          "model_name": "LayoutModel",
          "model_module_version": "1.2.0",
          "state": {
            "_model_module": "@jupyter-widgets/base",
            "_model_module_version": "1.2.0",
            "_model_name": "LayoutModel",
            "_view_count": null,
            "_view_module": "@jupyter-widgets/base",
            "_view_module_version": "1.2.0",
            "_view_name": "LayoutView",
            "align_content": null,
            "align_items": null,
            "align_self": null,
            "border": null,
            "bottom": null,
            "display": null,
            "flex": null,
            "flex_flow": null,
            "grid_area": null,
            "grid_auto_columns": null,
            "grid_auto_flow": null,
            "grid_auto_rows": null,
            "grid_column": null,
            "grid_gap": null,
            "grid_row": null,
            "grid_template_areas": null,
            "grid_template_columns": null,
            "grid_template_rows": null,
            "height": null,
            "justify_content": null,
            "justify_items": null,
            "left": null,
            "margin": null,
            "max_height": null,
            "max_width": null,
            "min_height": null,
            "min_width": null,
            "object_fit": null,
            "object_position": null,
            "order": null,
            "overflow": null,
            "overflow_x": null,
            "overflow_y": null,
            "padding": null,
            "right": null,
            "top": null,
            "visibility": null,
            "width": null
          }
        },
        "357711ce5a4f49c6b0fc20923bbc97f1": {
          "model_module": "@jupyter-widgets/controls",
          "model_name": "DescriptionStyleModel",
          "model_module_version": "1.5.0",
          "state": {
            "_model_module": "@jupyter-widgets/controls",
            "_model_module_version": "1.5.0",
            "_model_name": "DescriptionStyleModel",
            "_view_count": null,
            "_view_module": "@jupyter-widgets/base",
            "_view_module_version": "1.2.0",
            "_view_name": "StyleView",
            "description_width": ""
          }
        },
        "494dc9846fae4a5ab331f1581acf7ce4": {
          "model_module": "@jupyter-widgets/controls",
          "model_name": "HBoxModel",
          "model_module_version": "1.5.0",
          "state": {
            "_dom_classes": [],
            "_model_module": "@jupyter-widgets/controls",
            "_model_module_version": "1.5.0",
            "_model_name": "HBoxModel",
            "_view_count": null,
            "_view_module": "@jupyter-widgets/controls",
            "_view_module_version": "1.5.0",
            "_view_name": "HBoxView",
            "box_style": "",
            "children": [
              "IPY_MODEL_2e785e63372547d8abc0eaf37035cc33",
              "IPY_MODEL_124a9b9691b74ff881b0d4f242c5e7b2",
              "IPY_MODEL_54660865d55548baa04c037e7ec69229"
            ],
            "layout": "IPY_MODEL_b3c2c0bbaaff4d7581068df08b1950cb"
          }
        },
        "2e785e63372547d8abc0eaf37035cc33": {
          "model_module": "@jupyter-widgets/controls",
          "model_name": "HTMLModel",
          "model_module_version": "1.5.0",
          "state": {
            "_dom_classes": [],
            "_model_module": "@jupyter-widgets/controls",
            "_model_module_version": "1.5.0",
            "_model_name": "HTMLModel",
            "_view_count": null,
            "_view_module": "@jupyter-widgets/controls",
            "_view_module_version": "1.5.0",
            "_view_name": "HTMLView",
            "description": "",
            "description_tooltip": null,
            "layout": "IPY_MODEL_380e5bf0aab14bdd9fd56ef7ffb2be1b",
            "placeholder": "​",
            "style": "IPY_MODEL_e95e4c26421844d48e4d2ce664c34d2c",
            "value": "New Data Upload                         : "
          }
        },
        "124a9b9691b74ff881b0d4f242c5e7b2": {
          "model_module": "@jupyter-widgets/controls",
          "model_name": "FloatProgressModel",
          "model_module_version": "1.5.0",
          "state": {
            "_dom_classes": [],
            "_model_module": "@jupyter-widgets/controls",
            "_model_module_version": "1.5.0",
            "_model_name": "FloatProgressModel",
            "_view_count": null,
            "_view_module": "@jupyter-widgets/controls",
            "_view_module_version": "1.5.0",
            "_view_name": "ProgressView",
            "bar_style": "success",
            "description": "",
            "description_tooltip": null,
            "layout": "IPY_MODEL_868da431bed14c34a9bc45c045ccca0b",
            "max": 1,
            "min": 0,
            "orientation": "horizontal",
            "style": "IPY_MODEL_b40b680399c649318aabba5f911ebf21",
            "value": 0
          }
        },
        "54660865d55548baa04c037e7ec69229": {
          "model_module": "@jupyter-widgets/controls",
          "model_name": "HTMLModel",
          "model_module_version": "1.5.0",
          "state": {
            "_dom_classes": [],
            "_model_module": "@jupyter-widgets/controls",
            "_model_module_version": "1.5.0",
            "_model_name": "HTMLModel",
            "_view_count": null,
            "_view_module": "@jupyter-widgets/controls",
            "_view_module_version": "1.5.0",
            "_view_name": "HTMLView",
            "description": "",
            "description_tooltip": null,
            "layout": "IPY_MODEL_413a42c7337b4f66be1eafde701312fc",
            "placeholder": "​",
            "style": "IPY_MODEL_0013e2762c004d6ba8f2b482947863d7",
            "value": "  0.00B /  0.00B,  0.00B/s  "
          }
        },
        "b3c2c0bbaaff4d7581068df08b1950cb": {
          "model_module": "@jupyter-widgets/base",
          "model_name": "LayoutModel",
          "model_module_version": "1.2.0",
          "state": {
            "_model_module": "@jupyter-widgets/base",
            "_model_module_version": "1.2.0",
            "_model_name": "LayoutModel",
            "_view_count": null,
            "_view_module": "@jupyter-widgets/base",
            "_view_module_version": "1.2.0",
            "_view_name": "LayoutView",
            "align_content": null,
            "align_items": null,
            "align_self": null,
            "border": null,
            "bottom": null,
            "display": null,
            "flex": null,
            "flex_flow": null,
            "grid_area": null,
            "grid_auto_columns": null,
            "grid_auto_flow": null,
            "grid_auto_rows": null,
            "grid_column": null,
            "grid_gap": null,
            "grid_row": null,
            "grid_template_areas": null,
            "grid_template_columns": null,
            "grid_template_rows": null,
            "height": null,
            "justify_content": null,
            "justify_items": null,
            "left": null,
            "margin": null,
            "max_height": null,
            "max_width": null,
            "min_height": null,
            "min_width": null,
            "object_fit": null,
            "object_position": null,
            "order": null,
            "overflow": null,
            "overflow_x": null,
            "overflow_y": null,
            "padding": null,
            "right": null,
            "top": null,
            "visibility": null,
            "width": null
          }
        },
        "380e5bf0aab14bdd9fd56ef7ffb2be1b": {
          "model_module": "@jupyter-widgets/base",
          "model_name": "LayoutModel",
          "model_module_version": "1.2.0",
          "state": {
            "_model_module": "@jupyter-widgets/base",
            "_model_module_version": "1.2.0",
            "_model_name": "LayoutModel",
            "_view_count": null,
            "_view_module": "@jupyter-widgets/base",
            "_view_module_version": "1.2.0",
            "_view_name": "LayoutView",
            "align_content": null,
            "align_items": null,
            "align_self": null,
            "border": null,
            "bottom": null,
            "display": null,
            "flex": null,
            "flex_flow": null,
            "grid_area": null,
            "grid_auto_columns": null,
            "grid_auto_flow": null,
            "grid_auto_rows": null,
            "grid_column": null,
            "grid_gap": null,
            "grid_row": null,
            "grid_template_areas": null,
            "grid_template_columns": null,
            "grid_template_rows": null,
            "height": null,
            "justify_content": null,
            "justify_items": null,
            "left": null,
            "margin": null,
            "max_height": null,
            "max_width": null,
            "min_height": null,
            "min_width": null,
            "object_fit": null,
            "object_position": null,
            "order": null,
            "overflow": null,
            "overflow_x": null,
            "overflow_y": null,
            "padding": null,
            "right": null,
            "top": null,
            "visibility": null,
            "width": null
          }
        },
        "e95e4c26421844d48e4d2ce664c34d2c": {
          "model_module": "@jupyter-widgets/controls",
          "model_name": "DescriptionStyleModel",
          "model_module_version": "1.5.0",
          "state": {
            "_model_module": "@jupyter-widgets/controls",
            "_model_module_version": "1.5.0",
            "_model_name": "DescriptionStyleModel",
            "_view_count": null,
            "_view_module": "@jupyter-widgets/base",
            "_view_module_version": "1.2.0",
            "_view_name": "StyleView",
            "description_width": ""
          }
        },
        "868da431bed14c34a9bc45c045ccca0b": {
          "model_module": "@jupyter-widgets/base",
          "model_name": "LayoutModel",
          "model_module_version": "1.2.0",
          "state": {
            "_model_module": "@jupyter-widgets/base",
            "_model_module_version": "1.2.0",
            "_model_name": "LayoutModel",
            "_view_count": null,
            "_view_module": "@jupyter-widgets/base",
            "_view_module_version": "1.2.0",
            "_view_name": "LayoutView",
            "align_content": null,
            "align_items": null,
            "align_self": null,
            "border": null,
            "bottom": null,
            "display": null,
            "flex": null,
            "flex_flow": null,
            "grid_area": null,
            "grid_auto_columns": null,
            "grid_auto_flow": null,
            "grid_auto_rows": null,
            "grid_column": null,
            "grid_gap": null,
            "grid_row": null,
            "grid_template_areas": null,
            "grid_template_columns": null,
            "grid_template_rows": null,
            "height": null,
            "justify_content": null,
            "justify_items": null,
            "left": null,
            "margin": null,
            "max_height": null,
            "max_width": null,
            "min_height": null,
            "min_width": null,
            "object_fit": null,
            "object_position": null,
            "order": null,
            "overflow": null,
            "overflow_x": null,
            "overflow_y": null,
            "padding": null,
            "right": null,
            "top": null,
            "visibility": null,
            "width": "20px"
          }
        },
        "b40b680399c649318aabba5f911ebf21": {
          "model_module": "@jupyter-widgets/controls",
          "model_name": "ProgressStyleModel",
          "model_module_version": "1.5.0",
          "state": {
            "_model_module": "@jupyter-widgets/controls",
            "_model_module_version": "1.5.0",
            "_model_name": "ProgressStyleModel",
            "_view_count": null,
            "_view_module": "@jupyter-widgets/base",
            "_view_module_version": "1.2.0",
            "_view_name": "StyleView",
            "bar_color": null,
            "description_width": ""
          }
        },
        "413a42c7337b4f66be1eafde701312fc": {
          "model_module": "@jupyter-widgets/base",
          "model_name": "LayoutModel",
          "model_module_version": "1.2.0",
          "state": {
            "_model_module": "@jupyter-widgets/base",
            "_model_module_version": "1.2.0",
            "_model_name": "LayoutModel",
            "_view_count": null,
            "_view_module": "@jupyter-widgets/base",
            "_view_module_version": "1.2.0",
            "_view_name": "LayoutView",
            "align_content": null,
            "align_items": null,
            "align_self": null,
            "border": null,
            "bottom": null,
            "display": null,
            "flex": null,
            "flex_flow": null,
            "grid_area": null,
            "grid_auto_columns": null,
            "grid_auto_flow": null,
            "grid_auto_rows": null,
            "grid_column": null,
            "grid_gap": null,
            "grid_row": null,
            "grid_template_areas": null,
            "grid_template_columns": null,
            "grid_template_rows": null,
            "height": null,
            "justify_content": null,
            "justify_items": null,
            "left": null,
            "margin": null,
            "max_height": null,
            "max_width": null,
            "min_height": null,
            "min_width": null,
            "object_fit": null,
            "object_position": null,
            "order": null,
            "overflow": null,
            "overflow_x": null,
            "overflow_y": null,
            "padding": null,
            "right": null,
            "top": null,
            "visibility": null,
            "width": null
          }
        },
        "0013e2762c004d6ba8f2b482947863d7": {
          "model_module": "@jupyter-widgets/controls",
          "model_name": "DescriptionStyleModel",
          "model_module_version": "1.5.0",
          "state": {
            "_model_module": "@jupyter-widgets/controls",
            "_model_module_version": "1.5.0",
            "_model_name": "DescriptionStyleModel",
            "_view_count": null,
            "_view_module": "@jupyter-widgets/base",
            "_view_module_version": "1.2.0",
            "_view_name": "StyleView",
            "description_width": ""
          }
        },
        "65dcf0d80d27494d967cbda68ee92992": {
          "model_module": "@jupyter-widgets/controls",
          "model_name": "HBoxModel",
          "model_module_version": "1.5.0",
          "state": {
            "_dom_classes": [],
            "_model_module": "@jupyter-widgets/controls",
            "_model_module_version": "1.5.0",
            "_model_name": "HBoxModel",
            "_view_count": null,
            "_view_module": "@jupyter-widgets/controls",
            "_view_module_version": "1.5.0",
            "_view_name": "HBoxView",
            "box_style": "",
            "children": [
              "IPY_MODEL_b3bc0fb2428841f7b8185f2f4069bbe1",
              "IPY_MODEL_97a2076cd6f345a7a55a018c00d9e082",
              "IPY_MODEL_9479f647c9a941ea87c3470dfa854a8b"
            ],
            "layout": "IPY_MODEL_fa457b4b6d4246a6981590c9e96257aa"
          }
        },
        "b3bc0fb2428841f7b8185f2f4069bbe1": {
          "model_module": "@jupyter-widgets/controls",
          "model_name": "HTMLModel",
          "model_module_version": "1.5.0",
          "state": {
            "_dom_classes": [],
            "_model_module": "@jupyter-widgets/controls",
            "_model_module_version": "1.5.0",
            "_model_name": "HTMLModel",
            "_view_count": null,
            "_view_module": "@jupyter-widgets/controls",
            "_view_module_version": "1.5.0",
            "_view_name": "HTMLView",
            "description": "",
            "description_tooltip": null,
            "layout": "IPY_MODEL_d89572e116644b6b8ae6cc22ee49837f",
            "placeholder": "​",
            "style": "IPY_MODEL_87c0c03c53f3411c944bd06406dcf8a1",
            "value": "  outputs/train.parquet                 : 100%"
          }
        },
        "97a2076cd6f345a7a55a018c00d9e082": {
          "model_module": "@jupyter-widgets/controls",
          "model_name": "FloatProgressModel",
          "model_module_version": "1.5.0",
          "state": {
            "_dom_classes": [],
            "_model_module": "@jupyter-widgets/controls",
            "_model_module_version": "1.5.0",
            "_model_name": "FloatProgressModel",
            "_view_count": null,
            "_view_module": "@jupyter-widgets/controls",
            "_view_module_version": "1.5.0",
            "_view_name": "ProgressView",
            "bar_style": "success",
            "description": "",
            "description_tooltip": null,
            "layout": "IPY_MODEL_4f5f55fa06644a578e7bb2bd415d51e9",
            "max": 33276,
            "min": 0,
            "orientation": "horizontal",
            "style": "IPY_MODEL_ed3fa9e21b854118bd713a16af850bcc",
            "value": 33276
          }
        },
        "9479f647c9a941ea87c3470dfa854a8b": {
          "model_module": "@jupyter-widgets/controls",
          "model_name": "HTMLModel",
          "model_module_version": "1.5.0",
          "state": {
            "_dom_classes": [],
            "_model_module": "@jupyter-widgets/controls",
            "_model_module_version": "1.5.0",
            "_model_name": "HTMLModel",
            "_view_count": null,
            "_view_module": "@jupyter-widgets/controls",
            "_view_module_version": "1.5.0",
            "_view_name": "HTMLView",
            "description": "",
            "description_tooltip": null,
            "layout": "IPY_MODEL_a580c9bc1b034628a84e391b6fcb97ed",
            "placeholder": "​",
            "style": "IPY_MODEL_c1a66b6867d5480db0a0c34ed4e67fd1",
            "value": " 33.3kB / 33.3kB            "
          }
        },
        "fa457b4b6d4246a6981590c9e96257aa": {
          "model_module": "@jupyter-widgets/base",
          "model_name": "LayoutModel",
          "model_module_version": "1.2.0",
          "state": {
            "_model_module": "@jupyter-widgets/base",
            "_model_module_version": "1.2.0",
            "_model_name": "LayoutModel",
            "_view_count": null,
            "_view_module": "@jupyter-widgets/base",
            "_view_module_version": "1.2.0",
            "_view_name": "LayoutView",
            "align_content": null,
            "align_items": null,
            "align_self": null,
            "border": null,
            "bottom": null,
            "display": null,
            "flex": null,
            "flex_flow": null,
            "grid_area": null,
            "grid_auto_columns": null,
            "grid_auto_flow": null,
            "grid_auto_rows": null,
            "grid_column": null,
            "grid_gap": null,
            "grid_row": null,
            "grid_template_areas": null,
            "grid_template_columns": null,
            "grid_template_rows": null,
            "height": null,
            "justify_content": null,
            "justify_items": null,
            "left": null,
            "margin": null,
            "max_height": null,
            "max_width": null,
            "min_height": null,
            "min_width": null,
            "object_fit": null,
            "object_position": null,
            "order": null,
            "overflow": null,
            "overflow_x": null,
            "overflow_y": null,
            "padding": null,
            "right": null,
            "top": null,
            "visibility": null,
            "width": null
          }
        },
        "d89572e116644b6b8ae6cc22ee49837f": {
          "model_module": "@jupyter-widgets/base",
          "model_name": "LayoutModel",
          "model_module_version": "1.2.0",
          "state": {
            "_model_module": "@jupyter-widgets/base",
            "_model_module_version": "1.2.0",
            "_model_name": "LayoutModel",
            "_view_count": null,
            "_view_module": "@jupyter-widgets/base",
            "_view_module_version": "1.2.0",
            "_view_name": "LayoutView",
            "align_content": null,
            "align_items": null,
            "align_self": null,
            "border": null,
            "bottom": null,
            "display": null,
            "flex": null,
            "flex_flow": null,
            "grid_area": null,
            "grid_auto_columns": null,
            "grid_auto_flow": null,
            "grid_auto_rows": null,
            "grid_column": null,
            "grid_gap": null,
            "grid_row": null,
            "grid_template_areas": null,
            "grid_template_columns": null,
            "grid_template_rows": null,
            "height": null,
            "justify_content": null,
            "justify_items": null,
            "left": null,
            "margin": null,
            "max_height": null,
            "max_width": null,
            "min_height": null,
            "min_width": null,
            "object_fit": null,
            "object_position": null,
            "order": null,
            "overflow": null,
            "overflow_x": null,
            "overflow_y": null,
            "padding": null,
            "right": null,
            "top": null,
            "visibility": null,
            "width": null
          }
        },
        "87c0c03c53f3411c944bd06406dcf8a1": {
          "model_module": "@jupyter-widgets/controls",
          "model_name": "DescriptionStyleModel",
          "model_module_version": "1.5.0",
          "state": {
            "_model_module": "@jupyter-widgets/controls",
            "_model_module_version": "1.5.0",
            "_model_name": "DescriptionStyleModel",
            "_view_count": null,
            "_view_module": "@jupyter-widgets/base",
            "_view_module_version": "1.2.0",
            "_view_name": "StyleView",
            "description_width": ""
          }
        },
        "4f5f55fa06644a578e7bb2bd415d51e9": {
          "model_module": "@jupyter-widgets/base",
          "model_name": "LayoutModel",
          "model_module_version": "1.2.0",
          "state": {
            "_model_module": "@jupyter-widgets/base",
            "_model_module_version": "1.2.0",
            "_model_name": "LayoutModel",
            "_view_count": null,
            "_view_module": "@jupyter-widgets/base",
            "_view_module_version": "1.2.0",
            "_view_name": "LayoutView",
            "align_content": null,
            "align_items": null,
            "align_self": null,
            "border": null,
            "bottom": null,
            "display": null,
            "flex": null,
            "flex_flow": null,
            "grid_area": null,
            "grid_auto_columns": null,
            "grid_auto_flow": null,
            "grid_auto_rows": null,
            "grid_column": null,
            "grid_gap": null,
            "grid_row": null,
            "grid_template_areas": null,
            "grid_template_columns": null,
            "grid_template_rows": null,
            "height": null,
            "justify_content": null,
            "justify_items": null,
            "left": null,
            "margin": null,
            "max_height": null,
            "max_width": null,
            "min_height": null,
            "min_width": null,
            "object_fit": null,
            "object_position": null,
            "order": null,
            "overflow": null,
            "overflow_x": null,
            "overflow_y": null,
            "padding": null,
            "right": null,
            "top": null,
            "visibility": null,
            "width": null
          }
        },
        "ed3fa9e21b854118bd713a16af850bcc": {
          "model_module": "@jupyter-widgets/controls",
          "model_name": "ProgressStyleModel",
          "model_module_version": "1.5.0",
          "state": {
            "_model_module": "@jupyter-widgets/controls",
            "_model_module_version": "1.5.0",
            "_model_name": "ProgressStyleModel",
            "_view_count": null,
            "_view_module": "@jupyter-widgets/base",
            "_view_module_version": "1.2.0",
            "_view_name": "StyleView",
            "bar_color": null,
            "description_width": ""
          }
        },
        "a580c9bc1b034628a84e391b6fcb97ed": {
          "model_module": "@jupyter-widgets/base",
          "model_name": "LayoutModel",
          "model_module_version": "1.2.0",
          "state": {
            "_model_module": "@jupyter-widgets/base",
            "_model_module_version": "1.2.0",
            "_model_name": "LayoutModel",
            "_view_count": null,
            "_view_module": "@jupyter-widgets/base",
            "_view_module_version": "1.2.0",
            "_view_name": "LayoutView",
            "align_content": null,
            "align_items": null,
            "align_self": null,
            "border": null,
            "bottom": null,
            "display": null,
            "flex": null,
            "flex_flow": null,
            "grid_area": null,
            "grid_auto_columns": null,
            "grid_auto_flow": null,
            "grid_auto_rows": null,
            "grid_column": null,
            "grid_gap": null,
            "grid_row": null,
            "grid_template_areas": null,
            "grid_template_columns": null,
            "grid_template_rows": null,
            "height": null,
            "justify_content": null,
            "justify_items": null,
            "left": null,
            "margin": null,
            "max_height": null,
            "max_width": null,
            "min_height": null,
            "min_width": null,
            "object_fit": null,
            "object_position": null,
            "order": null,
            "overflow": null,
            "overflow_x": null,
            "overflow_y": null,
            "padding": null,
            "right": null,
            "top": null,
            "visibility": null,
            "width": null
          }
        },
        "c1a66b6867d5480db0a0c34ed4e67fd1": {
          "model_module": "@jupyter-widgets/controls",
          "model_name": "DescriptionStyleModel",
          "model_module_version": "1.5.0",
          "state": {
            "_model_module": "@jupyter-widgets/controls",
            "_model_module_version": "1.5.0",
            "_model_name": "DescriptionStyleModel",
            "_view_count": null,
            "_view_module": "@jupyter-widgets/base",
            "_view_module_version": "1.2.0",
            "_view_name": "StyleView",
            "description_width": ""
          }
        }
      }
    }
  },
  "nbformat": 4,
  "nbformat_minor": 5
}